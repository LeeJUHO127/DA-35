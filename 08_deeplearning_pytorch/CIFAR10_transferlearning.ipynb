{
 "cells": [
  {
   "cell_type": "code",
   "execution_count": null,
   "id": "80808da3-8220-49c4-92d9-33ad946e5e33",
   "metadata": {},
   "outputs": [],
   "source": [
    "import torch\n",
    "import torch.nn as nn\n",
    "import torch.optim as optim\n",
    "from torch.utils.data import DataLoader\n",
    "\n",
    "from torchvision import models, datasets, transforms\n",
    "from torchinfo import summary\n",
    "\n",
    "from module.train import fit, test_multi_classification\n",
    "from module.utils import plot_fit_result\n",
    "\n",
    "import os\n",
    "\n",
    "device = 'cuda' if torch.cuda.is_available() else \"cpu\"\n",
    "device"
   ]
  },
  {
   "cell_type": "markdown",
   "id": "a9821216-c910-4440-8ae4-a7dda4eed912",
   "metadata": {},
   "source": [
    "# 하이퍼파라미터"
   ]
  },
  {
   "cell_type": "code",
   "execution_count": null,
   "id": "f836f21f-219b-4aa9-85e8-a2e7dd5caabf",
   "metadata": {},
   "outputs": [],
   "source": [
    "epochs = 5\n",
    "batch_size = 40\n",
    "lr = 0.001\n",
    "\n",
    "save_best_model = True\n",
    "save_model_path = r\"C:\\Documents\\deeplearning\\saved_models\"\n",
    "early_stopping = False\n",
    "patience = 10\n",
    "data_path = r\"C:\\Classes\\deeplearning\\datasets\""
   ]
  },
  {
   "cell_type": "markdown",
   "id": "7f2b3438-0467-4304-a815-a1ee749589b5",
   "metadata": {},
   "source": [
    "# Transformer, Dataset"
   ]
  },
  {
   "cell_type": "code",
   "execution_count": null,
   "id": "d76d5c8f-ff95-4579-a1c9-5aa7f6eda8f0",
   "metadata": {},
   "outputs": [],
   "source": [
    "transform = transforms.Compose([\n",
    "    transforms.Resize(224),  # 224 x 224\n",
    "    transforms.ToTensor(),\n",
    "    transforms.Normalize(0.5, 0.5)\n",
    "])\n",
    "\n",
    "train_set = datasets.CIFAR10(data_path, train=True, transform=transform, download=True)\n",
    "test_set = datasets.CIFAR10(data_path, train=False, transform=transform, download=True)"
   ]
  },
  {
   "cell_type": "code",
   "execution_count": null,
   "id": "6ef0d2c2-bd1c-40c2-a458-931f6475b7dd",
   "metadata": {},
   "outputs": [],
   "source": [
    "print(train_set.classes)"
   ]
  },
  {
   "cell_type": "markdown",
   "id": "1a396c55-12e7-4be1-bd92-61c245fffb15",
   "metadata": {},
   "source": [
    "# DataLoader"
   ]
  },
  {
   "cell_type": "code",
   "execution_count": null,
   "id": "43f9977d-e993-4f07-bf5a-6a3914fc61b1",
   "metadata": {},
   "outputs": [],
   "source": [
    "train_loader = DataLoader(train_set, batch_size, shuffle=True, drop_last=True, num_workers=os.cpu_count())\n",
    "test_loader = DataLoader(test_set, batch_size, num_workers=os.cpu_count())"
   ]
  },
  {
   "cell_type": "markdown",
   "id": "7f44bcf7-5cb4-4533-9aca-1f6fb29fef95",
   "metadata": {},
   "source": [
    "### Image 확인"
   ]
  },
  {
   "cell_type": "code",
   "execution_count": null,
   "id": "7904a6bf-aa6d-4356-8873-08df87335d15",
   "metadata": {},
   "outputs": [],
   "source": [
    "import torchvision\n",
    "import matplotlib.pyplot as plt\n",
    "import numpy as np\n",
    "images, labels = next(iter(train_loader))\n",
    "\n",
    "# print(images.shape)\n",
    "concat_img = torchvision.utils.make_grid(images)  # image들을 합쳐서 하나의 tensor로 만든다.\n",
    "# print(concat_img.shape)\n",
    "\n",
    "concat_img = concat_img / 2 + 0.5     # unnormalize,   normalize = x * 표준편차 + 평균\n",
    "img_arr = concat_img.numpy()  # Tensor -> ndarray\n",
    "\n",
    "plt.figure(figsize=(13, 6))\n",
    "plt.imshow(np.transpose(img_arr, (1, 2, 0)))\n",
    "plt.show()"
   ]
  },
  {
   "cell_type": "markdown",
   "id": "13597184-8f73-4ae4-b023-59459b5f2ec1",
   "metadata": {},
   "source": [
    "# Modeld 정의"
   ]
  },
  {
   "cell_type": "code",
   "execution_count": null,
   "id": "3674715f-a159-4bbd-8d84-0326c66ad863",
   "metadata": {},
   "outputs": [],
   "source": [
    "model = models.resnet18(weights=models.ResNet18_Weights.DEFAULT) \n",
    "summary(model, (1, 3, 224, 224))"
   ]
  },
  {
   "cell_type": "markdown",
   "id": "a407dcf8-01b1-4cea-885b-d8659be4d044",
   "metadata": {},
   "source": [
    "##  frozon"
   ]
  },
  {
   "cell_type": "code",
   "execution_count": null,
   "id": "2b9dc8f7-8258-48bc-8626-059cb10d1edf",
   "metadata": {},
   "outputs": [],
   "source": [
    "# for param in model.parameters():\n",
    "#     param.requires_grad = False"
   ]
  },
  {
   "cell_type": "markdown",
   "id": "3bc0c57c-4c3e-4827-a9c7-ce6245c74faa",
   "metadata": {},
   "source": [
    "## classifier 변경"
   ]
  },
  {
   "cell_type": "code",
   "execution_count": null,
   "id": "c302949c-2978-4e80-8c9c-94265ffc1abf",
   "metadata": {
    "scrolled": true
   },
   "outputs": [],
   "source": [
    "print(model)"
   ]
  },
  {
   "cell_type": "code",
   "execution_count": null,
   "id": "7eb2365a-c46d-4de8-a638-e348ba7cbe2c",
   "metadata": {},
   "outputs": [],
   "source": [
    "in_features = model.fc.in_features\n",
    "# print(in_features)\n",
    "\n",
    "### 출력 Layer 변경\n",
    "model.fc = nn.Linear(in_features, 10)"
   ]
  },
  {
   "cell_type": "code",
   "execution_count": null,
   "id": "92995a0b-cdc6-43a7-9195-55878acd770d",
   "metadata": {},
   "outputs": [],
   "source": [
    "summary(model, (1, 3, 224, 224))"
   ]
  },
  {
   "cell_type": "markdown",
   "id": "37a03fdd-d7b7-419b-9d56-0318a6176300",
   "metadata": {},
   "source": [
    "#  학습"
   ]
  },
  {
   "cell_type": "code",
   "execution_count": null,
   "id": "fc0abeeb-bde1-4fa9-911e-bd9aa32069d1",
   "metadata": {},
   "outputs": [],
   "source": [
    "loss_fn = nn.CrossEntropyLoss()\n",
    "# optimizer = optim.Adam(model.parameters(), lr=lr)\n",
    "optimizer = optim.SGD(model.parameters(), lr=lr, momentum=0.9)  # momentum\n",
    "scheduler = None"
   ]
  },
  {
   "cell_type": "code",
   "execution_count": null,
   "id": "cd357f96-954c-4894-9bf1-ec9b82111f8a",
   "metadata": {},
   "outputs": [],
   "source": [
    "result = fit(train_loader, test_loader, model, loss_fn, optimizer, 5, \n",
    "                save_best_model=save_best_model, save_model_path=os.path.join(save_model_path, \"cifar10_resnet18.pth\"),\n",
    "                early_stopping=early_stopping,patience=patience, \n",
    "                mode=\"multi\",\n",
    "                device=device, lr_scheduler=scheduler)"
   ]
  },
  {
   "cell_type": "code",
   "execution_count": null,
   "id": "697f5214-716f-4fbb-bb50-f19fcc9414eb",
   "metadata": {},
   "outputs": [],
   "source": []
  },
  {
   "cell_type": "code",
   "execution_count": null,
   "id": "78fe144b-7faa-459d-b4a6-2fac70c218e9",
   "metadata": {},
   "outputs": [],
   "source": []
  }
 ],
 "metadata": {
  "kernelspec": {
   "display_name": "Python 3 (ipykernel)",
   "language": "python",
   "name": "python3"
  },
  "language_info": {
   "codemirror_mode": {
    "name": "ipython",
    "version": 3
   },
   "file_extension": ".py",
   "mimetype": "text/x-python",
   "name": "python",
   "nbconvert_exporter": "python",
   "pygments_lexer": "ipython3",
   "version": "3.11.8"
  }
 },
 "nbformat": 4,
 "nbformat_minor": 5
}
