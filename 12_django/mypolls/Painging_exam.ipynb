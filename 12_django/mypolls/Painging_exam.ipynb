{
 "cells": [
  {
   "cell_type": "code",
   "execution_count": null,
   "id": "bc6700eb",
   "metadata": {
    "ExecuteTime": {
     "end_time": "2022-01-03T08:13:10.849537Z",
     "start_time": "2022-01-03T08:13:10.308822Z"
    }
   },
   "outputs": [],
   "source": [
    "# django shell 환경설정\n",
    "import os\n",
    "import django\n",
    "os.environ['DJANGO_SETTINGS_MODULE'] = 'config.settings'\n",
    "os.environ['DJANGO_ALLOW_ASYNC_UNSAFE'] = 'true'\n",
    "\n",
    "django.setup()"
   ]
  },
  {
   "cell_type": "markdown",
   "id": "3adbb7a6",
   "metadata": {},
   "source": [
    "# Paginator 클래스\n",
    "- 전체 페이징 처리를 관리하는 클래스\n",
    "- 전체 데이터관련 정보, 각 페이지당 보여줄 데이터의 정보 등을 제공\n",
    "\n",
    "# Page 클래스\n",
    "- 한페이지에대한 데이터를 관리\n",
    "- Paginator가 생성해서 제공.\n",
    "- iterable 타입. 원소로 데이터를 제공\n",
    "- Page객체.object_list 속성: 페이지가 가진 데이터들을 List로 반환"
   ]
  },
  {
   "cell_type": "code",
   "execution_count": null,
   "id": "6d7f8ea5",
   "metadata": {
    "ExecuteTime": {
     "end_time": "2022-01-03T07:31:27.176517Z",
     "start_time": "2022-01-03T07:31:27.160596Z"
    }
   },
   "outputs": [],
   "source": [
    "from django.core.paginator import Paginator"
   ]
  },
  {
   "cell_type": "code",
   "execution_count": null,
   "id": "3e67b599",
   "metadata": {
    "ExecuteTime": {
     "end_time": "2022-01-03T07:31:27.799448Z",
     "start_time": "2022-01-03T07:31:27.784488Z"
    }
   },
   "outputs": [],
   "source": [
    "data_list = list(\"0123456789abcdefghijklmnopqrstuvwxyzABCDEFGHIJKLMNOPQRSTUVWXYZ\")\n",
    "print(len(data_list))\n",
    "print(data_list[:5])"
   ]
  },
  {
   "cell_type": "code",
   "execution_count": null,
   "id": "5dbf8a76",
   "metadata": {
    "ExecuteTime": {
     "end_time": "2022-01-03T07:31:29.183597Z",
     "start_time": "2022-01-03T07:31:29.168598Z"
    }
   },
   "outputs": [],
   "source": [
    "pn = Paginator(data_list, 5)"
   ]
  },
  {
   "cell_type": "code",
   "execution_count": null,
   "id": "f6f186e2",
   "metadata": {
    "ExecuteTime": {
     "end_time": "2022-01-03T07:31:34.569151Z",
     "start_time": "2022-01-03T07:31:34.560178Z"
    }
   },
   "outputs": [],
   "source": [
    "print(\"전체 데이터 수:\", pn.count)"
   ]
  },
  {
   "cell_type": "code",
   "execution_count": null,
   "id": "aef78287",
   "metadata": {
    "ExecuteTime": {
     "end_time": "2022-01-03T07:31:43.621403Z",
     "start_time": "2022-01-03T07:31:43.599422Z"
    }
   },
   "outputs": [],
   "source": [
    "print(\"총 페이지 수:\", pn.num_pages)"
   ]
  },
  {
   "cell_type": "code",
   "execution_count": null,
   "id": "5035445f",
   "metadata": {
    "ExecuteTime": {
     "end_time": "2022-01-03T07:31:50.799722Z",
     "start_time": "2022-01-03T07:31:50.775783Z"
    }
   },
   "outputs": [],
   "source": [
    "print(\"시작 ~ 끝 페이지의 범위:\", pn.page_range)"
   ]
  },
  {
   "cell_type": "code",
   "execution_count": null,
   "id": "5c699c17",
   "metadata": {
    "ExecuteTime": {
     "end_time": "2022-01-03T07:32:28.552417Z",
     "start_time": "2022-01-03T07:32:28.513522Z"
    }
   },
   "outputs": [],
   "source": [
    "# page 번호를 출력\n",
    "for p in pn.page_range:\n",
    "    print(p, end='\\t')"
   ]
  },
  {
   "cell_type": "code",
   "execution_count": null,
   "id": "9b5a73eb",
   "metadata": {
    "ExecuteTime": {
     "end_time": "2022-01-03T07:32:39.569534Z",
     "start_time": "2022-01-03T07:32:39.547552Z"
    }
   },
   "outputs": [],
   "source": [
    "# 각 페이지의 속한 데이터를 조회\n",
    "page1 = pn.page(1)  \n",
    "type(page1), page1"
   ]
  },
  {
   "cell_type": "code",
   "execution_count": null,
   "id": "6db9ede6",
   "metadata": {
    "ExecuteTime": {
     "end_time": "2022-01-03T07:32:42.727477Z",
     "start_time": "2022-01-03T07:32:42.712514Z"
    }
   },
   "outputs": [],
   "source": [
    "page10 = pn.page(10)\n",
    "page10"
   ]
  },
  {
   "cell_type": "code",
   "execution_count": null,
   "id": "a0409425",
   "metadata": {
    "ExecuteTime": {
     "end_time": "2022-01-03T07:32:46.077160Z",
     "start_time": "2022-01-03T07:32:45.672929Z"
    }
   },
   "outputs": [],
   "source": [
    "pn.page(100)"
   ]
  },
  {
   "cell_type": "code",
   "execution_count": null,
   "id": "9d84c9a5",
   "metadata": {
    "ExecuteTime": {
     "end_time": "2022-01-03T07:32:59.599457Z",
     "start_time": "2022-01-03T07:32:59.587490Z"
    }
   },
   "outputs": [],
   "source": [
    "# 1페이지에 속한 데이터 조회\n",
    "for data in page1:\n",
    "    print(data)"
   ]
  },
  {
   "cell_type": "code",
   "execution_count": null,
   "id": "29bf6015",
   "metadata": {
    "ExecuteTime": {
     "end_time": "2022-01-03T07:33:09.054294Z",
     "start_time": "2022-01-03T07:33:09.031386Z"
    }
   },
   "outputs": [],
   "source": [
    "# 10페이지에 속한 데이터 조회\n",
    "for data in page10:\n",
    "    print(data)"
   ]
  },
  {
   "cell_type": "code",
   "execution_count": null,
   "id": "f535eb69",
   "metadata": {
    "ExecuteTime": {
     "end_time": "2022-01-03T07:33:14.490457Z",
     "start_time": "2022-01-03T07:33:14.471469Z"
    }
   },
   "outputs": [],
   "source": [
    "# 페이지가 가진 데이터를 list로 반환\n",
    "list_1 = page1.object_list\n",
    "print(list_1)\n",
    "# list(page1), tuple(page1)"
   ]
  },
  {
   "cell_type": "markdown",
   "id": "e6b65836",
   "metadata": {},
   "source": [
    "## 이전/다음 페이지 유무\n",
    "- **Page객체.has_previous()/Page객체.has_next()**\n",
    "- 1페이지: 이전페이지? X, 다음페이지? O\n",
    "- 13페이지: 이전? O, 다음페이지? X\n",
    "- 10페이지: 이전페이지? O, 다음페이지? O"
   ]
  },
  {
   "cell_type": "code",
   "execution_count": null,
   "id": "f3d7451b",
   "metadata": {
    "ExecuteTime": {
     "end_time": "2022-01-03T07:33:23.860461Z",
     "start_time": "2022-01-03T07:33:23.833530Z"
    }
   },
   "outputs": [],
   "source": [
    "#1페이지 조회\n",
    "print(\"이전페이지 유무:\", page1.has_previous())\n",
    "print(\"다음페이지 유무:\", page1.has_next())"
   ]
  },
  {
   "cell_type": "code",
   "execution_count": null,
   "id": "ac45f742",
   "metadata": {
    "ExecuteTime": {
     "end_time": "2022-01-03T07:33:26.082372Z",
     "start_time": "2022-01-03T07:33:26.064420Z"
    }
   },
   "outputs": [],
   "source": [
    "# 10페이지 조회\n",
    "print(\"이전페이지 유무:\", page10.has_previous())\n",
    "print(\"다음페이지 유무:\", page10.has_next())"
   ]
  },
  {
   "cell_type": "code",
   "execution_count": null,
   "id": "0ed93439",
   "metadata": {
    "ExecuteTime": {
     "end_time": "2022-01-03T07:33:27.387387Z",
     "start_time": "2022-01-03T07:33:27.367436Z"
    }
   },
   "outputs": [],
   "source": [
    "# 13페이지 조회\n",
    "page13 = pn.page(13)\n",
    "print(\"이전페이지 유무:\", page13.has_previous())\n",
    "print(\"다음페이지 유무:\", page13.has_next())"
   ]
  },
  {
   "cell_type": "markdown",
   "id": "97d01906",
   "metadata": {},
   "source": [
    "## 이전/다음페이지 번호 조회\n",
    "- **Page객체.number:** 현재 페이지 번호\n",
    "- **Page객체.previous_page_number():** 이전페이지 번호 조회\n",
    "- **page객체.next_page_number():** 다음페이지 번호 조회"
   ]
  },
  {
   "cell_type": "code",
   "execution_count": null,
   "id": "e87139d6",
   "metadata": {
    "ExecuteTime": {
     "end_time": "2022-01-03T07:33:40.542345Z",
     "start_time": "2022-01-03T07:33:40.527386Z"
    }
   },
   "outputs": [],
   "source": [
    "page1.number #페이지 번호"
   ]
  },
  {
   "cell_type": "code",
   "execution_count": null,
   "id": "885d6801",
   "metadata": {
    "ExecuteTime": {
     "end_time": "2022-01-03T07:33:49.672265Z",
     "start_time": "2022-01-03T07:33:49.652352Z"
    }
   },
   "outputs": [],
   "source": [
    "# page1의 이전/다음 페이지 번호\n",
    "# print('이전페이지번호:', page1.previous_page_number())  \n",
    "print('다음페이지번호:', page1.next_page_number())"
   ]
  },
  {
   "cell_type": "code",
   "execution_count": null,
   "id": "958fd7c1",
   "metadata": {
    "ExecuteTime": {
     "end_time": "2022-01-03T07:33:50.304393Z",
     "start_time": "2022-01-03T07:33:50.287438Z"
    }
   },
   "outputs": [],
   "source": [
    "# page10의 이전/다음페이지 번호\n",
    "print('이전페이지번호:', page10.previous_page_number())  \n",
    "print('다음페이지번호:', page10.next_page_number())"
   ]
  },
  {
   "cell_type": "code",
   "execution_count": null,
   "id": "1f8873f0",
   "metadata": {
    "ExecuteTime": {
     "end_time": "2022-01-03T07:34:02.054443Z",
     "start_time": "2022-01-03T07:34:02.039476Z"
    }
   },
   "outputs": [],
   "source": [
    "# page13의 이전/다음페이지 번호\n",
    "print('이전페이지번호:', page13.previous_page_number())  \n",
    "# print('다음페이지번호:', page13.next_page_number())"
   ]
  },
  {
   "cell_type": "markdown",
   "id": "0d301a75",
   "metadata": {},
   "source": [
    "## 각 페이지별 데이터를 출력(조회)"
   ]
  },
  {
   "cell_type": "code",
   "execution_count": null,
   "id": "f71e2789",
   "metadata": {
    "ExecuteTime": {
     "end_time": "2022-01-03T07:34:37.313012Z",
     "start_time": "2022-01-03T07:34:37.159422Z"
    },
    "scrolled": true
   },
   "outputs": [],
   "source": [
    "pn = Paginator(data_list, 10) #한페이지당 10개 데이터를 출력\n",
    "for pageNo in pn.page_range:\n",
    "    print(f\"------{pageNo} 페이지-------\")\n",
    "    for data in pn.page(pageNo):\n",
    "        print(data, end=\", \")\n",
    "    print()"
   ]
  },
  {
   "cell_type": "markdown",
   "id": "fd01b375",
   "metadata": {},
   "source": [
    "# 현재 페이지(요청페이지)가 속한 page 그룹의 (page_range)에서의 시작 index와 끝 index를 조회"
   ]
  },
  {
   "cell_type": "code",
   "execution_count": null,
   "id": "5f46dd96",
   "metadata": {
    "ExecuteTime": {
     "end_time": "2022-01-03T07:34:43.111048Z",
     "start_time": "2022-01-03T07:34:43.103072Z"
    }
   },
   "outputs": [],
   "source": [
    "pn = Paginator(data_list, 5)\n",
    "r = pn.page_range"
   ]
  },
  {
   "cell_type": "code",
   "execution_count": null,
   "id": "be626cd0",
   "metadata": {
    "ExecuteTime": {
     "end_time": "2022-01-03T07:35:20.181168Z",
     "start_time": "2022-01-03T07:35:20.159257Z"
    }
   },
   "outputs": [],
   "source": [
    "# page group당 3개 페이지씩 묶는 경우.\n",
    "print(list(r[0:3]))  # 현재 page: 1 or 2 or 3 일 경우 그 페이지가 속한 페이지들의 index 조회\n",
    "print(list(r[3:6]))  # 현재 page: 4 or 5 or 6 일 경우 그 페이지가 속한 페이지들의 index 조회\n",
    "print(list(r[6:9]))  # 현재 page: 7 or 8 or 9 일 경우 그 페이지가 속한 페이지들의 index 조회"
   ]
  },
  {
   "cell_type": "code",
   "execution_count": null,
   "id": "49d1fe95",
   "metadata": {
    "ExecuteTime": {
     "end_time": "2022-01-03T07:37:30.703224Z",
     "start_time": "2022-01-03T07:37:30.679291Z"
    }
   },
   "outputs": [],
   "source": [
    "# 현재 페이지가 속한 page group의 페이지들 조회.\n",
    "current_page = 2  # 현재 페이지\n",
    "page_group_count = 5 \n",
    "\n",
    "start_index = int((current_page-1)/page_group_count) * page_group_count\n",
    "\n",
    "end_index = start_index + page_group_count\n",
    "\n",
    "\n",
    "r = pn.page_range[start_index:end_index]\n",
    "for a in r:\n",
    "    print(a, end=', ')\n"
   ]
  },
  {
   "cell_type": "markdown",
   "id": "46d182a4",
   "metadata": {},
   "source": [
    "## Question, Choice 데이터 추가"
   ]
  },
  {
   "cell_type": "code",
   "execution_count": null,
   "id": "e93cf5f3",
   "metadata": {
    "ExecuteTime": {
     "end_time": "2022-01-03T08:13:14.528372Z",
     "start_time": "2022-01-03T08:13:14.511417Z"
    }
   },
   "outputs": [],
   "source": [
    "from polls.models import Question, Choice"
   ]
  },
  {
   "cell_type": "code",
   "execution_count": null,
   "id": "f451375e",
   "metadata": {
    "ExecuteTime": {
     "end_time": "2022-01-03T08:13:14.730592Z",
     "start_time": "2022-01-03T08:13:14.716598Z"
    }
   },
   "outputs": [],
   "source": [
    "# Question 401개 추가.\n",
    "for i in range(1, 402):\n",
    "    post = Question(question_text=f\"질문 - {i}\")\n",
    "    #     insert/update: 모델.save()\n",
    "    post.save()"
   ]
  },
  {
   "cell_type": "code",
   "execution_count": null,
   "id": "04ff2f29",
   "metadata": {},
   "outputs": [],
   "source": [
    "cnt = Question.objects.all().count()\n",
    "cnt"
   ]
  },
  {
   "cell_type": "code",
   "execution_count": null,
   "id": "6d1a65e9",
   "metadata": {},
   "outputs": [],
   "source": [
    "# 각 문제당 보기 4개 추가.\n",
    "import random\n",
    "\n",
    "for i in range(1, cnt + 1):  # 1 번 ~ 401번 까지 이므로.  range(1 , cnt+1)\n",
    "    for j in range(4):\n",
    "        c = Choice(\n",
    "            choice_text=f\"{j}번 보기입니다.\",\n",
    "            votes=random.randint(1, 100),\n",
    "            question=Question(pk=i),\n",
    "        )\n",
    "        c.save()"
   ]
  },
  {
   "cell_type": "code",
   "execution_count": null,
   "id": "d291c00c",
   "metadata": {},
   "outputs": [],
   "source": []
  },
  {
   "cell_type": "code",
   "execution_count": null,
   "id": "647c8af8",
   "metadata": {},
   "outputs": [],
   "source": []
  },
  {
   "cell_type": "code",
   "execution_count": null,
   "id": "7e99fd7e",
   "metadata": {},
   "outputs": [],
   "source": []
  },
  {
   "cell_type": "code",
   "execution_count": null,
   "id": "1659cee1",
   "metadata": {},
   "outputs": [],
   "source": []
  },
  {
   "cell_type": "code",
   "execution_count": null,
   "id": "96681903",
   "metadata": {},
   "outputs": [],
   "source": []
  }
 ],
 "metadata": {
  "kernelspec": {
   "display_name": "Python 3 (ipykernel)",
   "language": "python",
   "name": "python3"
  },
  "language_info": {
   "codemirror_mode": {
    "name": "ipython",
    "version": 3
   },
   "file_extension": ".py",
   "mimetype": "text/x-python",
   "name": "python",
   "nbconvert_exporter": "python",
   "pygments_lexer": "ipython3",
   "version": "3.8.12"
  },
  "toc": {
   "base_numbering": 1,
   "nav_menu": {},
   "number_sections": true,
   "sideBar": true,
   "skip_h1_title": false,
   "title_cell": "Table of Contents",
   "title_sidebar": "Contents",
   "toc_cell": false,
   "toc_position": {},
   "toc_section_display": true,
   "toc_window_display": false
  },
  "varInspector": {
   "cols": {
    "lenName": 16,
    "lenType": 16,
    "lenVar": 40
   },
   "kernels_config": {
    "python": {
     "delete_cmd_postfix": "",
     "delete_cmd_prefix": "del ",
     "library": "var_list.py",
     "varRefreshCmd": "print(var_dic_list())"
    },
    "r": {
     "delete_cmd_postfix": ") ",
     "delete_cmd_prefix": "rm(",
     "library": "var_list.r",
     "varRefreshCmd": "cat(var_dic_list()) "
    }
   },
   "types_to_exclude": [
    "module",
    "function",
    "builtin_function_or_method",
    "instance",
    "_Feature"
   ],
   "window_display": false
  }
 },
 "nbformat": 4,
 "nbformat_minor": 5
}
