{
 "cells": [
  {
   "cell_type": "code",
   "execution_count": 9,
   "id": "bc6700eb",
   "metadata": {
    "ExecuteTime": {
     "end_time": "2022-01-03T08:13:10.849537Z",
     "start_time": "2022-01-03T08:13:10.308822Z"
    }
   },
   "outputs": [],
   "source": [
    "# django shell 환경설정\n",
    "import os\n",
    "import django\n",
    "os.environ['DJANGO_SETTINGS_MODULE'] = 'config.settings'\n",
    "os.environ['DJANGO_ALLOW_ASYNC_UNSAFE'] = 'true'\n",
    "\n",
    "django.setup()"
   ]
  },
  {
   "cell_type": "markdown",
   "id": "3adbb7a6",
   "metadata": {},
   "source": [
    "# Paginator 클래스\n",
    "- 전체 페이징 처리를 관리하는 클래스\n",
    "- 전체 데이터관련 정보, 각 페이지당 보여줄 데이터의 정보 등을 제공\n",
    "\n",
    "# Page 클래스\n",
    "- 한페이지에대한 데이터를 관리\n",
    "- Paginator가 생성해서 제공.\n",
    "- iterable 타입. 원소로 데이터를 제공\n",
    "- Page객체.object_list 속성: 페이지가 가진 데이터들을 List로 반환"
   ]
  },
  {
   "cell_type": "code",
   "execution_count": 10,
   "id": "6d7f8ea5",
   "metadata": {
    "ExecuteTime": {
     "end_time": "2022-01-03T07:31:27.176517Z",
     "start_time": "2022-01-03T07:31:27.160596Z"
    }
   },
   "outputs": [],
   "source": [
    "from django.core.paginator import Paginator"
   ]
  },
  {
   "cell_type": "code",
   "execution_count": 11,
   "id": "3e67b599",
   "metadata": {
    "ExecuteTime": {
     "end_time": "2022-01-03T07:31:27.799448Z",
     "start_time": "2022-01-03T07:31:27.784488Z"
    }
   },
   "outputs": [
    {
     "name": "stdout",
     "output_type": "stream",
     "text": [
      "62\n",
      "['0', '1', '2', '3', '4']\n"
     ]
    }
   ],
   "source": [
    "# data_list = Question.objects.all()\n",
    "data_list = list(\"0123456789abcdefghijklmnopqrstuvwxyzABCDEFGHIJKLMNOPQRSTUVWXYZ\")\n",
    "print(len(data_list))\n",
    "print(data_list[:5])\n",
    "# data_list의 개별 원소가 목록에 보여줄 개별데이터.\n",
    "# 62개 목록에 보여질 데이터가 있다. "
   ]
  },
  {
   "cell_type": "code",
   "execution_count": 12,
   "id": "5dbf8a76",
   "metadata": {
    "ExecuteTime": {
     "end_time": "2022-01-03T07:31:29.183597Z",
     "start_time": "2022-01-03T07:31:29.168598Z"
    }
   },
   "outputs": [],
   "source": [
    "pn = Paginator(data_list, 5)  # 데이터 리스트, page당 데이터개수."
   ]
  },
  {
   "cell_type": "code",
   "execution_count": 13,
   "id": "f6f186e2",
   "metadata": {
    "ExecuteTime": {
     "end_time": "2022-01-03T07:31:34.569151Z",
     "start_time": "2022-01-03T07:31:34.560178Z"
    }
   },
   "outputs": [
    {
     "name": "stdout",
     "output_type": "stream",
     "text": [
      "전체 데이터 수: 62\n"
     ]
    }
   ],
   "source": [
    "print(\"전체 데이터 수:\", pn.count)"
   ]
  },
  {
   "cell_type": "code",
   "execution_count": 16,
   "id": "aef78287",
   "metadata": {
    "ExecuteTime": {
     "end_time": "2022-01-03T07:31:43.621403Z",
     "start_time": "2022-01-03T07:31:43.599422Z"
    }
   },
   "outputs": [
    {
     "name": "stdout",
     "output_type": "stream",
     "text": [
      "총 페이지 수: 13\n"
     ]
    },
    {
     "data": {
      "text/plain": [
       "13"
      ]
     },
     "execution_count": 16,
     "metadata": {},
     "output_type": "execute_result"
    }
   ],
   "source": [
    "# 총데이터수 / page당 데이터수 (나머지가 있으면 +1)\n",
    "print(\"총 페이지 수:\", pn.num_pages)\n",
    "# int(62/5) + 1"
   ]
  },
  {
   "cell_type": "code",
   "execution_count": 17,
   "id": "5035445f",
   "metadata": {
    "ExecuteTime": {
     "end_time": "2022-01-03T07:31:50.799722Z",
     "start_time": "2022-01-03T07:31:50.775783Z"
    }
   },
   "outputs": [
    {
     "name": "stdout",
     "output_type": "stream",
     "text": [
      "시작 ~ 끝 페이지의 범위: range(1, 14)\n"
     ]
    }
   ],
   "source": [
    "print(\"시작 ~ 끝 페이지의 범위:\", pn.page_range)"
   ]
  },
  {
   "cell_type": "code",
   "execution_count": 18,
   "id": "5c699c17",
   "metadata": {
    "ExecuteTime": {
     "end_time": "2022-01-03T07:32:28.552417Z",
     "start_time": "2022-01-03T07:32:28.513522Z"
    }
   },
   "outputs": [
    {
     "name": "stdout",
     "output_type": "stream",
     "text": [
      "1\t2\t3\t4\t5\t6\t7\t8\t9\t10\t11\t12\t13\t"
     ]
    }
   ],
   "source": [
    "# page 번호를 출력\n",
    "for p in pn.page_range:\n",
    "    print(p, end='\\t')"
   ]
  },
  {
   "cell_type": "code",
   "execution_count": 19,
   "id": "9b5a73eb",
   "metadata": {
    "ExecuteTime": {
     "end_time": "2022-01-03T07:32:39.569534Z",
     "start_time": "2022-01-03T07:32:39.547552Z"
    }
   },
   "outputs": [
    {
     "data": {
      "text/plain": [
       "(django.core.paginator.Page, <Page 1 of 13>)"
      ]
     },
     "execution_count": 19,
     "metadata": {},
     "output_type": "execute_result"
    }
   ],
   "source": [
    "# 각 페이지의 속한 데이터를 조회\n",
    "page1 = pn.page(1)    # pn.page(조회할페이지번호): Page객체\n",
    "type(page1), page1"
   ]
  },
  {
   "cell_type": "code",
   "execution_count": 20,
   "id": "6db9ede6",
   "metadata": {
    "ExecuteTime": {
     "end_time": "2022-01-03T07:32:42.727477Z",
     "start_time": "2022-01-03T07:32:42.712514Z"
    }
   },
   "outputs": [
    {
     "data": {
      "text/plain": [
       "<Page 10 of 13>"
      ]
     },
     "execution_count": 20,
     "metadata": {},
     "output_type": "execute_result"
    }
   ],
   "source": [
    "page10 = pn.page(10)\n",
    "page10"
   ]
  },
  {
   "cell_type": "code",
   "execution_count": 22,
   "id": "a0409425",
   "metadata": {
    "ExecuteTime": {
     "end_time": "2022-01-03T07:32:46.077160Z",
     "start_time": "2022-01-03T07:32:45.672929Z"
    }
   },
   "outputs": [],
   "source": [
    "# pn.page(100)  # 없는 페이지 조회 - EmptyPage Exception 발생."
   ]
  },
  {
   "cell_type": "code",
   "execution_count": 23,
   "id": "9d84c9a5",
   "metadata": {
    "ExecuteTime": {
     "end_time": "2022-01-03T07:32:59.599457Z",
     "start_time": "2022-01-03T07:32:59.587490Z"
    }
   },
   "outputs": [
    {
     "name": "stdout",
     "output_type": "stream",
     "text": [
      "<class 'str'> 0\n",
      "<class 'str'> 1\n",
      "<class 'str'> 2\n",
      "<class 'str'> 3\n",
      "<class 'str'> 4\n"
     ]
    }
   ],
   "source": [
    "# 1페이지에 속한 데이터 조회\n",
    "## Page: iterable -> 그 페이지 속한 데이터들을 반환\n",
    "# page1 = pn.page(1)\n",
    "for data in page1:\n",
    "    print(type(data), data)"
   ]
  },
  {
   "cell_type": "code",
   "execution_count": 29,
   "id": "17e3fe92",
   "metadata": {},
   "outputs": [
    {
     "data": {
      "text/plain": [
       "['J', 'K', 'L', 'M', 'N', 'O', 'P', 'Q', 'R', 'S']"
      ]
     },
     "execution_count": 29,
     "metadata": {},
     "output_type": "execute_result"
    }
   ],
   "source": [
    "data_list[45: 55]"
   ]
  },
  {
   "cell_type": "code",
   "execution_count": 24,
   "id": "29bf6015",
   "metadata": {
    "ExecuteTime": {
     "end_time": "2022-01-03T07:33:09.054294Z",
     "start_time": "2022-01-03T07:33:09.031386Z"
    }
   },
   "outputs": [
    {
     "name": "stdout",
     "output_type": "stream",
     "text": [
      "J\n",
      "K\n",
      "L\n",
      "M\n",
      "N\n"
     ]
    }
   ],
   "source": [
    "# 10페이지에 속한 데이터 조회\n",
    "for data in page10:\n",
    "    print(data)"
   ]
  },
  {
   "cell_type": "code",
   "execution_count": 33,
   "id": "f535eb69",
   "metadata": {
    "ExecuteTime": {
     "end_time": "2022-01-03T07:33:14.490457Z",
     "start_time": "2022-01-03T07:33:14.471469Z"
    }
   },
   "outputs": [
    {
     "name": "stdout",
     "output_type": "stream",
     "text": [
      "['0', '1', '2', '3', '4']\n"
     ]
    },
    {
     "data": {
      "text/plain": [
       "(['0', '1', '2', '3', '4'], ('0', '1', '2', '3', '4'))"
      ]
     },
     "execution_count": 33,
     "metadata": {},
     "output_type": "execute_result"
    }
   ],
   "source": [
    "# 페이지가 가진 데이터들을 list로 반환\n",
    "list_1 = page1.object_list\n",
    "print(list_1)\n",
    "list(page1), tuple(page1)"
   ]
  },
  {
   "cell_type": "markdown",
   "id": "e6b65836",
   "metadata": {},
   "source": [
    "## 이전/다음 페이지 유무\n",
    "- **Page객체.has_previous()/Page객체.has_next()**\n",
    "- 1페이지: 이전페이지? X, 다음페이지? O\n",
    "- 13페이지: 이전? O, 다음페이지? X\n",
    "- 10페이지: 이전페이지? O, 다음페이지? O"
   ]
  },
  {
   "cell_type": "code",
   "execution_count": 34,
   "id": "f3d7451b",
   "metadata": {
    "ExecuteTime": {
     "end_time": "2022-01-03T07:33:23.860461Z",
     "start_time": "2022-01-03T07:33:23.833530Z"
    }
   },
   "outputs": [
    {
     "name": "stdout",
     "output_type": "stream",
     "text": [
      "이전페이지 유무: False\n",
      "다음페이지 유무: True\n"
     ]
    }
   ],
   "source": [
    "#1페이지 조회\n",
    "print(\"이전페이지 유무:\", page1.has_previous())\n",
    "print(\"다음페이지 유무:\", page1.has_next())"
   ]
  },
  {
   "cell_type": "code",
   "execution_count": 35,
   "id": "ac45f742",
   "metadata": {
    "ExecuteTime": {
     "end_time": "2022-01-03T07:33:26.082372Z",
     "start_time": "2022-01-03T07:33:26.064420Z"
    }
   },
   "outputs": [
    {
     "name": "stdout",
     "output_type": "stream",
     "text": [
      "이전페이지 유무: True\n",
      "다음페이지 유무: True\n"
     ]
    }
   ],
   "source": [
    "# 10페이지 조회\n",
    "print(\"이전페이지 유무:\", page10.has_previous())\n",
    "print(\"다음페이지 유무:\", page10.has_next())"
   ]
  },
  {
   "cell_type": "code",
   "execution_count": 36,
   "id": "0ed93439",
   "metadata": {
    "ExecuteTime": {
     "end_time": "2022-01-03T07:33:27.387387Z",
     "start_time": "2022-01-03T07:33:27.367436Z"
    }
   },
   "outputs": [
    {
     "name": "stdout",
     "output_type": "stream",
     "text": [
      "이전페이지 유무: True\n",
      "다음페이지 유무: False\n"
     ]
    }
   ],
   "source": [
    "# 13페이지 조회 (마지막 페이지)\n",
    "page13 = pn.page(13)\n",
    "print(\"이전페이지 유무:\", page13.has_previous())\n",
    "print(\"다음페이지 유무:\", page13.has_next())"
   ]
  },
  {
   "cell_type": "markdown",
   "id": "97d01906",
   "metadata": {},
   "source": [
    "## 이전/다음페이지 번호 조회\n",
    "- **Page객체.number:** 현재 페이지 번호\n",
    "- **Page객체.previous_page_number():** 이전페이지 번호 조회\n",
    "- **page객체.next_page_number():** 다음페이지 번호 조회"
   ]
  },
  {
   "cell_type": "code",
   "execution_count": 39,
   "id": "e87139d6",
   "metadata": {
    "ExecuteTime": {
     "end_time": "2022-01-03T07:33:40.542345Z",
     "start_time": "2022-01-03T07:33:40.527386Z"
    }
   },
   "outputs": [
    {
     "data": {
      "text/plain": [
       "1"
      ]
     },
     "execution_count": 39,
     "metadata": {},
     "output_type": "execute_result"
    }
   ],
   "source": [
    "# pn.page(1)\n",
    "page1.number #페이지 번호"
   ]
  },
  {
   "cell_type": "code",
   "execution_count": 43,
   "id": "885d6801",
   "metadata": {
    "ExecuteTime": {
     "end_time": "2022-01-03T07:33:49.672265Z",
     "start_time": "2022-01-03T07:33:49.652352Z"
    }
   },
   "outputs": [
    {
     "name": "stdout",
     "output_type": "stream",
     "text": [
      "다음페이지번호: 2\n"
     ]
    }
   ],
   "source": [
    "# page1의 이전/다음 페이지 번호\n",
    "## 조회한 페이지가 없을때 EmptyPage Exception 발생.\n",
    "if page1.has_previous():\n",
    "    print('이전페이지번호:', page1.previous_page_number()) \n",
    "\n",
    "print('다음페이지번호:', page1.next_page_number())"
   ]
  },
  {
   "cell_type": "code",
   "execution_count": 44,
   "id": "958fd7c1",
   "metadata": {
    "ExecuteTime": {
     "end_time": "2022-01-03T07:33:50.304393Z",
     "start_time": "2022-01-03T07:33:50.287438Z"
    }
   },
   "outputs": [
    {
     "name": "stdout",
     "output_type": "stream",
     "text": [
      "현재 페이지 번호: 10\n",
      "이전페이지번호: 9\n",
      "다음페이지번호: 11\n"
     ]
    }
   ],
   "source": [
    "# page10의 이전/다음페이지 번호\n",
    "print(\"현재 페이지 번호:\", page10.number)\n",
    "print('이전페이지번호:', page10.previous_page_number())  \n",
    "print('다음페이지번호:', page10.next_page_number())"
   ]
  },
  {
   "cell_type": "code",
   "execution_count": 47,
   "id": "1f8873f0",
   "metadata": {
    "ExecuteTime": {
     "end_time": "2022-01-03T07:34:02.054443Z",
     "start_time": "2022-01-03T07:34:02.039476Z"
    }
   },
   "outputs": [
    {
     "name": "stdout",
     "output_type": "stream",
     "text": [
      "현재 페이지 번호: 13\n",
      "이전페이지번호: 12\n"
     ]
    }
   ],
   "source": [
    "# page13의 이전/다음페이지 번호\n",
    "print(\"현재 페이지 번호:\", page13.number)\n",
    "print('이전페이지번호:', page13.previous_page_number())\n",
    "if page13.has_next():\n",
    "    print('다음페이지번호:', page13.next_page_number())"
   ]
  },
  {
   "cell_type": "markdown",
   "id": "0d301a75",
   "metadata": {},
   "source": [
    "## 각 페이지별 데이터를 출력(조회)"
   ]
  },
  {
   "cell_type": "code",
   "execution_count": 48,
   "id": "e3dbd304",
   "metadata": {},
   "outputs": [
    {
     "data": {
      "text/plain": [
       "range(1, 8)"
      ]
     },
     "execution_count": 48,
     "metadata": {},
     "output_type": "execute_result"
    }
   ],
   "source": [
    "pn = Paginator(data_list, 10)\n",
    "pn.page_range"
   ]
  },
  {
   "cell_type": "code",
   "execution_count": 50,
   "id": "dd66c1ac",
   "metadata": {},
   "outputs": [],
   "source": [
    "from polls.models import Question\n",
    "data_list2 = Question.objects.all().order_by('-pk')"
   ]
  },
  {
   "cell_type": "code",
   "execution_count": 53,
   "id": "f71e2789",
   "metadata": {
    "ExecuteTime": {
     "end_time": "2022-01-03T07:34:37.313012Z",
     "start_time": "2022-01-03T07:34:37.159422Z"
    },
    "scrolled": true
   },
   "outputs": [
    {
     "name": "stdout",
     "output_type": "stream",
     "text": [
      "range(1, 42)\n",
      "------1 페이지-------\n",
      "401. 질문 - 401, 400. 질문 - 400, 399. 질문 - 399, 398. 질문 - 398, 397. 질문 - 397, 396. 질문 - 396, 395. 질문 - 395, 394. 질문 - 394, 393. 질문 - 393, 392. 질문 - 392, \n",
      "------2 페이지-------\n",
      "391. 질문 - 391, 390. 질문 - 390, 389. 질문 - 389, 388. 질문 - 388, 387. 질문 - 387, 386. 질문 - 386, 385. 질문 - 385, 384. 질문 - 384, 383. 질문 - 383, 382. 질문 - 382, \n",
      "------3 페이지-------\n",
      "381. 질문 - 381, 380. 질문 - 380, 379. 질문 - 379, 378. 질문 - 378, 377. 질문 - 377, 376. 질문 - 376, 375. 질문 - 375, 374. 질문 - 374, 373. 질문 - 373, 372. 질문 - 372, \n"
     ]
    }
   ],
   "source": [
    "# pn = Paginator(data_list, 10) #한페이지당 10개 데이터를 출력\n",
    "pn = Paginator(data_list2, 10)\n",
    "print(pn.page_range)\n",
    "for pageNo in pn.page_range:\n",
    "    if pageNo == 4: break\n",
    "    print(f\"------{pageNo} 페이지-------\")\n",
    "    for data in pn.page(pageNo):\n",
    "        print(data, end=\", \")\n",
    "    print()"
   ]
  },
  {
   "cell_type": "markdown",
   "id": "fd01b375",
   "metadata": {},
   "source": [
    "# 현재 페이지(요청페이지)가 속한 page 그룹의 (page_range)에서의 시작 index와 끝 index를 조회"
   ]
  },
  {
   "cell_type": "code",
   "execution_count": 56,
   "id": "5f46dd96",
   "metadata": {
    "ExecuteTime": {
     "end_time": "2022-01-03T07:34:43.111048Z",
     "start_time": "2022-01-03T07:34:43.103072Z"
    }
   },
   "outputs": [
    {
     "data": {
      "text/plain": [
       "range(1, 14)"
      ]
     },
     "execution_count": 56,
     "metadata": {},
     "output_type": "execute_result"
    }
   ],
   "source": [
    "pn = Paginator(data_list, 5)\n",
    "r = pn.page_range\n",
    "r\n",
    "# 5: 한페이지 보여줄 데이터 개수."
   ]
  },
  {
   "cell_type": "code",
   "execution_count": 59,
   "id": "be626cd0",
   "metadata": {
    "ExecuteTime": {
     "end_time": "2022-01-03T07:35:20.181168Z",
     "start_time": "2022-01-03T07:35:20.159257Z"
    }
   },
   "outputs": [
    {
     "name": "stdout",
     "output_type": "stream",
     "text": [
      "[1, 2, 3]\n",
      "[4, 5, 6]\n",
      "[7, 8, 9]\n"
     ]
    }
   ],
   "source": [
    "# page group당 3개 페이지씩 묶는 경우.\n",
    "print(list(r[0:3]))  # 현재 page: 1 or 2 or 3 일 경우 그 페이지가 속한 페이지들의 index 조회\n",
    "print(list(r[3:6]))  # 현재 page: 4 or 5 or 6 일 경우 그 페이지가 속한 페이지들의 index 조회\n",
    "print(list(r[6:9]))  # 현재 page: 7 or 8 or 9 일 경우 그 페이지가 속한 페이지들의 index 조회"
   ]
  },
  {
   "cell_type": "code",
   "execution_count": 67,
   "id": "49d1fe95",
   "metadata": {
    "ExecuteTime": {
     "end_time": "2022-01-03T07:37:30.703224Z",
     "start_time": "2022-01-03T07:37:30.679291Z"
    }
   },
   "outputs": [
    {
     "name": "stdout",
     "output_type": "stream",
     "text": [
      "11, 12, 13, "
     ]
    }
   ],
   "source": [
    "# 현재 페이지가 속한 page group의 페이지들 조회.\n",
    "current_page = 12  # 현재 페이지\n",
    "page_group_count = 5   # page group 당 페이지수 \n",
    "\n",
    "start_index = int((current_page-1)/page_group_count) * page_group_count\n",
    "\n",
    "end_index = start_index + page_group_count\n",
    "\n",
    "\n",
    "r = pn.page_range[start_index:end_index]\n",
    "for a in r:\n",
    "    print(a, end=', ')\n"
   ]
  },
  {
   "cell_type": "markdown",
   "id": "46d182a4",
   "metadata": {},
   "source": [
    "## Question, Choice 데이터 추가"
   ]
  },
  {
   "cell_type": "code",
   "execution_count": 5,
   "id": "e93cf5f3",
   "metadata": {
    "ExecuteTime": {
     "end_time": "2022-01-03T08:13:14.528372Z",
     "start_time": "2022-01-03T08:13:14.511417Z"
    }
   },
   "outputs": [],
   "source": [
    "from polls.models import Question, Choice"
   ]
  },
  {
   "cell_type": "code",
   "execution_count": 6,
   "id": "f451375e",
   "metadata": {
    "ExecuteTime": {
     "end_time": "2022-01-03T08:13:14.730592Z",
     "start_time": "2022-01-03T08:13:14.716598Z"
    }
   },
   "outputs": [],
   "source": [
    "# Question 401개 추가.\n",
    "for i in range(1, 402):\n",
    "    post = Question(question_text=f\"질문 - {i}\")\n",
    "    #     insert/update: 모델.save()\n",
    "    post.save()"
   ]
  },
  {
   "cell_type": "code",
   "execution_count": 7,
   "id": "04ff2f29",
   "metadata": {},
   "outputs": [
    {
     "data": {
      "text/plain": [
       "401"
      ]
     },
     "execution_count": 7,
     "metadata": {},
     "output_type": "execute_result"
    }
   ],
   "source": [
    "cnt = Question.objects.all().count()\n",
    "cnt"
   ]
  },
  {
   "cell_type": "code",
   "execution_count": 8,
   "id": "6d1a65e9",
   "metadata": {},
   "outputs": [],
   "source": [
    "# 각 문제당 보기 4개 추가.\n",
    "import random\n",
    "\n",
    "for i in range(1, cnt + 1):  # 1 번 ~ 401번 까지 이므로.  range(1 , cnt+1)\n",
    "    for j in range(4):\n",
    "        c = Choice(\n",
    "            choice_text=f\"{j}번 보기입니다.\",\n",
    "            votes=random.randint(1, 100),\n",
    "            question=Question(pk=i),\n",
    "        )\n",
    "        c.save()"
   ]
  },
  {
   "cell_type": "code",
   "execution_count": null,
   "id": "d291c00c",
   "metadata": {},
   "outputs": [],
   "source": []
  },
  {
   "cell_type": "code",
   "execution_count": null,
   "id": "647c8af8",
   "metadata": {},
   "outputs": [],
   "source": []
  },
  {
   "cell_type": "code",
   "execution_count": null,
   "id": "7e99fd7e",
   "metadata": {},
   "outputs": [],
   "source": []
  },
  {
   "cell_type": "code",
   "execution_count": null,
   "id": "1659cee1",
   "metadata": {},
   "outputs": [],
   "source": []
  },
  {
   "cell_type": "code",
   "execution_count": null,
   "id": "96681903",
   "metadata": {},
   "outputs": [],
   "source": []
  }
 ],
 "metadata": {
  "kernelspec": {
   "display_name": "Python 3 (ipykernel)",
   "language": "python",
   "name": "python3"
  },
  "language_info": {
   "codemirror_mode": {
    "name": "ipython",
    "version": 3
   },
   "file_extension": ".py",
   "mimetype": "text/x-python",
   "name": "python",
   "nbconvert_exporter": "python",
   "pygments_lexer": "ipython3",
   "version": "3.11.8"
  },
  "toc": {
   "base_numbering": 1,
   "nav_menu": {},
   "number_sections": true,
   "sideBar": true,
   "skip_h1_title": false,
   "title_cell": "Table of Contents",
   "title_sidebar": "Contents",
   "toc_cell": false,
   "toc_position": {},
   "toc_section_display": true,
   "toc_window_display": false
  },
  "varInspector": {
   "cols": {
    "lenName": 16,
    "lenType": 16,
    "lenVar": 40
   },
   "kernels_config": {
    "python": {
     "delete_cmd_postfix": "",
     "delete_cmd_prefix": "del ",
     "library": "var_list.py",
     "varRefreshCmd": "print(var_dic_list())"
    },
    "r": {
     "delete_cmd_postfix": ") ",
     "delete_cmd_prefix": "rm(",
     "library": "var_list.r",
     "varRefreshCmd": "cat(var_dic_list()) "
    }
   },
   "types_to_exclude": [
    "module",
    "function",
    "builtin_function_or_method",
    "instance",
    "_Feature"
   ],
   "window_display": false
  }
 },
 "nbformat": 4,
 "nbformat_minor": 5
}
