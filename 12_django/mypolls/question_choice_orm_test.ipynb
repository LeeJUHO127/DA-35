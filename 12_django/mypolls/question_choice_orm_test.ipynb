{
 "cells": [
  {
   "cell_type": "code",
   "execution_count": 4,
   "id": "99b7aa9e-80e1-4b1e-aed4-e2fb814da73b",
   "metadata": {},
   "outputs": [],
   "source": [
    "# Jupyter Lab에서 Django shell 을 실행 시키기 위한 환경변수설정.\n",
    "import os\n",
    "import django\n",
    "\n",
    "os.environ[\"DJANGO_SETTINGS_MODULE\"] = 'config.settings'  # config/settings.py 를 등록\n",
    "os.environ[\"DJANGO_ALLOW_ASYNC_UNSAFE\"] = 'true'\n",
    "\n",
    "django.setup()"
   ]
  },
  {
   "cell_type": "code",
   "execution_count": 5,
   "id": "0013bfff-07b0-452a-bb89-c89227083224",
   "metadata": {},
   "outputs": [],
   "source": [
    "from polls.models import Question, Choice"
   ]
  },
  {
   "cell_type": "code",
   "execution_count": 10,
   "id": "4cb1445d-8959-4a16-b9d1-70510a565378",
   "metadata": {},
   "outputs": [
    {
     "data": {
      "text/plain": [
       "(<django.db.models.manager.Manager at 0x2b616169f10>,\n",
       " <django.db.models.manager.Manager at 0x2b616dd88d0>)"
      ]
     },
     "execution_count": 10,
     "metadata": {},
     "output_type": "execute_result"
    }
   ],
   "source": [
    "Question.objects, Choice.objects"
   ]
  },
  {
   "cell_type": "code",
   "execution_count": 11,
   "id": "a122b8f3-e435-427d-b9e2-4c51697a3ed2",
   "metadata": {
    "scrolled": true
   },
   "outputs": [
    {
     "data": {
      "text/plain": [
       "<QuerySet [<Question: 1. 좋아하는 동물은 무엇입니까?>, <Question: 2. 좋아하는 색깔은 무엇입니까?>, <Question: 3. 싫어하는 색은 무엇입니까?>, <Question: 4. 선호하는 프로그래밍 언어는?>]>"
      ]
     },
     "execution_count": 11,
     "metadata": {},
     "output_type": "execute_result"
    }
   ],
   "source": [
    "Question.objects.all()  # select * from question"
   ]
  },
  {
   "cell_type": "markdown",
   "id": "f309036b-fdfa-4307-85ef-ac3150e4d7e3",
   "metadata": {},
   "source": [
    "# 조회 (select)"
   ]
  },
  {
   "cell_type": "code",
   "execution_count": 13,
   "id": "de5e47d9-6141-4b30-ae13-7f9b024389eb",
   "metadata": {},
   "outputs": [
    {
     "name": "stdout",
     "output_type": "stream",
     "text": [
      "<class 'django.db.models.query.QuerySet'>\n"
     ]
    }
   ],
   "source": [
    "## 전체 조회\n",
    "result = Question.objects.all()\n",
    "print(type(result))"
   ]
  },
  {
   "cell_type": "code",
   "execution_count": 19,
   "id": "c9034aab-2af3-42cf-b3d9-ab8fedd19754",
   "metadata": {
    "scrolled": true
   },
   "outputs": [
    {
     "name": "stdout",
     "output_type": "stream",
     "text": [
      "SELECT \"polls_question\".\"id\", \"polls_question\".\"question_text\", \"polls_question\".\"pub_date\" FROM \"polls_question\"\n",
      "<QuerySet [<Question: 1. 좋아하는 동물은 무엇입니까?>, <Question: 2. 좋아하는 색깔은 무엇입니까?>, <Question: 3. 싫어하는 색은 무엇입니까?>, <Question: 4. 선호하는 프로그래밍 언어는?>]>\n",
      "<class 'polls.models.Question'> 1. 좋아하는 동물은 무엇입니까?\n",
      "<class 'polls.models.Question'> 2. 좋아하는 색깔은 무엇입니까?\n",
      "<class 'polls.models.Question'> 3. 싫어하는 색은 무엇입니까?\n",
      "<class 'polls.models.Question'> 4. 선호하는 프로그래밍 언어는?\n"
     ]
    }
   ],
   "source": [
    "# sql문 조회  QuearySet.query\n",
    "print(result.query)\n",
    "# 조회 결과\n",
    "## QuerySet[ Model, Model, Model,  ...]\n",
    "print(result)\n",
    "for q in result:\n",
    "    print(type(q), q)"
   ]
  },
  {
   "cell_type": "code",
   "execution_count": 23,
   "id": "24aff177-ee71-4e65-9c82-12f32195bdb8",
   "metadata": {},
   "outputs": [
    {
     "name": "stdout",
     "output_type": "stream",
     "text": [
      "1 좋아하는 동물은 무엇입니까? 2024-06-26 08:34:55.147197+00:00\n",
      "2 좋아하는 색깔은 무엇입니까? 2024-06-26 08:35:57.459692+00:00\n",
      "3 싫어하는 색은 무엇입니까? 2024-06-27 01:12:32.683098+00:00\n",
      "4 선호하는 프로그래밍 언어는? 2024-06-27 01:12:47.347630+00:00\n"
     ]
    }
   ],
   "source": [
    "for q in result:\n",
    "    print(q.id, q.question_text, q.pub_date)    "
   ]
  },
  {
   "cell_type": "code",
   "execution_count": 27,
   "id": "259afc3a-4c63-404e-a8cb-cc9a6dabf9ba",
   "metadata": {},
   "outputs": [
    {
     "data": {
      "text/plain": [
       "(<Question: 1. 좋아하는 동물은 무엇입니까?>, 1)"
      ]
     },
     "execution_count": 27,
     "metadata": {},
     "output_type": "execute_result"
    }
   ],
   "source": [
    "# indexing 으로 조회결과 조회\n",
    "result[0], result[0].id"
   ]
  },
  {
   "cell_type": "code",
   "execution_count": 29,
   "id": "a5e36773-93c9-43e6-a418-94ee3f747468",
   "metadata": {
    "scrolled": true
   },
   "outputs": [
    {
     "data": {
      "text/plain": [
       "[<Question: 1. 좋아하는 동물은 무엇입니까?>,\n",
       " <Question: 2. 좋아하는 색깔은 무엇입니까?>,\n",
       " <Question: 3. 싫어하는 색은 무엇입니까?>]"
      ]
     },
     "execution_count": 29,
     "metadata": {},
     "output_type": "execute_result"
    }
   ],
   "source": [
    "# slicing으로 조회결과 조회.\n",
    "result[:3]"
   ]
  },
  {
   "cell_type": "code",
   "execution_count": 31,
   "id": "30968876-47ad-4a32-be2c-7207e4a447de",
   "metadata": {},
   "outputs": [],
   "source": [
    "# result[-1] # 음수  index는 지원안함."
   ]
  },
  {
   "cell_type": "code",
   "execution_count": 33,
   "id": "0d4f5a38-8775-4dfc-ab88-2db1a77e526a",
   "metadata": {},
   "outputs": [
    {
     "data": {
      "text/plain": [
       "<Question: 1. 좋아하는 동물은 무엇입니까?>"
      ]
     },
     "execution_count": 33,
     "metadata": {},
     "output_type": "execute_result"
    }
   ],
   "source": [
    "result.last() # 마지막 값 조회\n",
    "# result.first()"
   ]
  },
  {
   "cell_type": "code",
   "execution_count": 36,
   "id": "bdfe4a3e-03b6-4a05-b2ce-849fc18e0b79",
   "metadata": {},
   "outputs": [],
   "source": [
    "###### 조회결과 정렬 (order by  절)\n",
    "# result = Question.objects.all().order_by(\"question_text\")  # asc\n",
    "result = Question.objects.all().order_by(\"-question_text\")    # desc\n",
    "# select * from question order by  question_text desc"
   ]
  },
  {
   "cell_type": "code",
   "execution_count": 37,
   "id": "7a86e0fe-64a0-4db7-895d-74cd0acec0f6",
   "metadata": {},
   "outputs": [
    {
     "data": {
      "text/plain": [
       "<QuerySet [<Question: 2. 좋아하는 색깔은 무엇입니까?>, <Question: 1. 좋아하는 동물은 무엇입니까?>, <Question: 3. 싫어하는 색은 무엇입니까?>, <Question: 4. 선호하는 프로그래밍 언어는?>]>"
      ]
     },
     "execution_count": 37,
     "metadata": {},
     "output_type": "execute_result"
    }
   ],
   "source": [
    "result"
   ]
  },
  {
   "cell_type": "code",
   "execution_count": 46,
   "id": "53617115-8cd2-4aea-badb-6d2cf382a661",
   "metadata": {},
   "outputs": [],
   "source": [
    "result = Choice.objects.all().order_by(\"-choice_text\", \"-id\")\n",
    "# select * from choice order by choice_text desc,  id desc"
   ]
  },
  {
   "cell_type": "code",
   "execution_count": 47,
   "id": "eeff12a3-2bb9-4b58-a127-e8e6f15a4dcc",
   "metadata": {
    "collapsed": true,
    "jupyter": {
     "outputs_hidden": true
    },
    "scrolled": true
   },
   "outputs": [
    {
     "name": "stdout",
     "output_type": "stream",
     "text": [
      "1 호랑이\n",
      "12 파이썬\n",
      "8 파란색\n",
      "4 파란색\n",
      "16 자바스크립트\n",
      "13 자바\n",
      "2 사자\n",
      "11 빨간색\n",
      "5 빨간색\n",
      "15 러스트\n",
      "10 노란색\n",
      "7 노란색\n",
      "6 곰\n",
      "9 검정색\n",
      "3 개\n",
      "14 C++\n"
     ]
    }
   ],
   "source": [
    "for c in result:\n",
    "    print(c.id, c.choice_text)"
   ]
  },
  {
   "cell_type": "markdown",
   "id": "40d6e2e3-9099-4413-97b7-1d0bc4f54dfe",
   "metadata": {},
   "source": [
    "## where\n",
    "- filter(조건식): 조건이 True인 행**들**을 조회 -> return: QuerySet\n",
    "- exclude(조건식): 조건이 False 행**들**을 조회. -> return: QuerySet\n",
    "- get(조건식): 조건이 True **한개의 행**을 조회. (PK) -> return: Model\n",
    "- PK 컬럼은 이름 대신 `pk`를 사용할 수있다. (이름도 가능)"
   ]
  },
  {
   "cell_type": "code",
   "execution_count": 50,
   "id": "06c21871-f8db-45ee-bbc6-1d2be4e4a671",
   "metadata": {},
   "outputs": [
    {
     "data": {
      "text/plain": [
       "<QuerySet [<Question: 2. 좋아하는 색깔은 무엇입니까?>, <Question: 3. 싫어하는 색은 무엇입니까?>, <Question: 4. 선호하는 프로그래밍 언어는?>]>"
      ]
     },
     "execution_count": 50,
     "metadata": {},
     "output_type": "execute_result"
    }
   ],
   "source": [
    "Question.objects.filter(pk=1)\n",
    "Question.objects.get(pk=1)\n",
    "Question.objects.exclude(pk=1)"
   ]
  },
  {
   "cell_type": "code",
   "execution_count": 53,
   "id": "5dfbdba8-f6ba-46f5-86c7-57069159d49a",
   "metadata": {},
   "outputs": [
    {
     "data": {
      "text/plain": [
       "<QuerySet [<Question: 2. 좋아하는 색깔은 무엇입니까?>, <Question: 3. 싫어하는 색은 무엇입니까?>, <Question: 4. 선호하는 프로그래밍 언어는?>]>"
      ]
     },
     "execution_count": 53,
     "metadata": {},
     "output_type": "execute_result"
    }
   ],
   "source": [
    "Question.objects.filter(pk__gt = 1)\n",
    "# where id > 1"
   ]
  },
  {
   "cell_type": "code",
   "execution_count": 56,
   "id": "6b841c95-6bf8-47b1-a5e3-b4b0f5d9d7b1",
   "metadata": {},
   "outputs": [
    {
     "data": {
      "text/plain": [
       "<QuerySet [<Question: 1. 좋아하는 동물은 무엇입니까?>, <Question: 2. 좋아하는 색깔은 무엇입니까?>, <Question: 3. 싫어하는 색은 무엇입니까?>]>"
      ]
     },
     "execution_count": 56,
     "metadata": {},
     "output_type": "execute_result"
    }
   ],
   "source": [
    "Question.objects.filter(question_text__contains = \"좋아하는\")\n",
    "# where question_text like '%좋아하는%'\n",
    "Question.objects.filter(question_text__startswith=\"좋아\") # question_text like '좋아%'\n",
    "Question.objects.filter(question_text__endswith=\"입니까?\")  # question_text like '%입니까?'"
   ]
  },
  {
   "cell_type": "code",
   "execution_count": 61,
   "id": "df71ab7f-5bf4-42a0-b594-43ab92366d86",
   "metadata": {},
   "outputs": [
    {
     "data": {
      "text/plain": [
       "<QuerySet [<Choice: 10. 노란색>, <Choice: 11. 빨간색>, <Choice: 12. 파이썬>, <Choice: 13. 자바>, <Choice: 14. C++>, <Choice: 15. 러스트>, <Choice: 16. 자바스크립트>]>"
      ]
     },
     "execution_count": 61,
     "metadata": {},
     "output_type": "execute_result"
    }
   ],
   "source": [
    "Choice.objects.filter(pk=5)\n",
    "Choice.objects.filter(pk__lt = 5)  # id < 5\n",
    "Choice.objects.filter(pk__lte = 5)  # id <= 5\n",
    "Choice.objects.filter(pk__gt = 10)  # id > 10\n",
    "Choice.objects.filter(pk__gte = 10)  # id >= 10"
   ]
  },
  {
   "cell_type": "code",
   "execution_count": 64,
   "id": "b4df6a16-da15-4ec9-9727-5265f3659ed6",
   "metadata": {},
   "outputs": [
    {
     "data": {
      "text/plain": [
       "<QuerySet [<Choice: 4. 파란색>, <Choice: 5. 빨간색>, <Choice: 6. 곰>, <Choice: 7. 노란색>, <Choice: 8. 파란색>]>"
      ]
     },
     "execution_count": 64,
     "metadata": {},
     "output_type": "execute_result"
    }
   ],
   "source": [
    "Choice.objects.filter(pk__in = [10, 2, 5, 7])  # pk in [10, 2, 5, 7]\n",
    "Choice.objects.filter(pk__range = [4, 8])    # pk between 4 and 8"
   ]
  },
  {
   "cell_type": "code",
   "execution_count": 66,
   "id": "8b332f54-558f-4c4b-86e8-99d40ed8d198",
   "metadata": {},
   "outputs": [
    {
     "name": "stdout",
     "output_type": "stream",
     "text": [
      "SELECT \"polls_choice\".\"id\", \"polls_choice\".\"choice_text\", \"polls_choice\".\"votes\", \"polls_choice\".\"question_id\" FROM \"polls_choice\" WHERE \"polls_choice\".\"id\" BETWEEN 4 AND 8\n"
     ]
    }
   ],
   "source": [
    "# result = Choice.objects.filter(pk__range = [4, 8])\n",
    "# print(result.query)"
   ]
  },
  {
   "cell_type": "code",
   "execution_count": 74,
   "id": "eea850d4-9a31-496f-977b-44608ce924fe",
   "metadata": {},
   "outputs": [
    {
     "name": "stdout",
     "output_type": "stream",
     "text": [
      "SELECT \"polls_choice\".\"id\", \"polls_choice\".\"choice_text\", \"polls_choice\".\"votes\", \"polls_choice\".\"question_id\" FROM \"polls_choice\" WHERE (\"polls_choice\".\"choice_text\" = 파란색 AND \"polls_choice\".\"id\" = 4)\n"
     ]
    },
    {
     "data": {
      "text/plain": [
       "<QuerySet [<Choice: 4. 파란색>]>"
      ]
     },
     "execution_count": 74,
     "metadata": {},
     "output_type": "execute_result"
    }
   ],
   "source": [
    "###############\n",
    "# AND 로 조건을 묶는 경우. (여러 조건이 모두 True인  행들을 조회.)\n",
    "# 가변인자로 조건을 나열.\n",
    "result = Choice.objects.filter(pk=4, choice_text=\"파란색\") # where id=4 and choice_text='파란색'\n",
    "print(result.query)\n",
    "result"
   ]
  },
  {
   "cell_type": "code",
   "execution_count": 72,
   "id": "26b5aeca-c7db-4429-bd39-bdbf11aee17b",
   "metadata": {
    "collapsed": true,
    "jupyter": {
     "outputs_hidden": true
    }
   },
   "outputs": [
    {
     "name": "stdout",
     "output_type": "stream",
     "text": [
      "SELECT \"polls_choice\".\"id\", \"polls_choice\".\"choice_text\", \"polls_choice\".\"votes\", \"polls_choice\".\"question_id\" FROM \"polls_choice\" WHERE NOT (\"polls_choice\".\"choice_text\" = 파란색 AND \"polls_choice\".\"id\" = 4)\n"
     ]
    },
    {
     "data": {
      "text/plain": [
       "<QuerySet [<Choice: 1. 호랑이>, <Choice: 2. 사자>, <Choice: 3. 개>, <Choice: 5. 빨간색>, <Choice: 6. 곰>, <Choice: 7. 노란색>, <Choice: 8. 파란색>, <Choice: 9. 검정색>, <Choice: 10. 노란색>, <Choice: 11. 빨간색>, <Choice: 12. 파이썬>, <Choice: 13. 자바>, <Choice: 14. C++>, <Choice: 15. 러스트>, <Choice: 16. 자바스크립트>]>"
      ]
     },
     "execution_count": 72,
     "metadata": {},
     "output_type": "execute_result"
    }
   ],
   "source": [
    "result = Choice.objects.exclude(pk=4, choice_text=\"파란색\") # where id=4 and choice_text='파란색'\n",
    "print(result.query)\n",
    "result"
   ]
  },
  {
   "cell_type": "code",
   "execution_count": null,
   "id": "b38ccad9-86ce-42ea-b815-0a0d06f438d0",
   "metadata": {},
   "outputs": [],
   "source": [
    "################\n",
    "# OR 로 조건들을 묶는 경우. - 여러 조건중 하나 이상이 True인 행을 조회.\n",
    "##  Q() 함수를 이용."
   ]
  },
  {
   "cell_type": "code",
   "execution_count": 76,
   "id": "ccedcea4-e489-4447-a41f-d395703a2587",
   "metadata": {
    "collapsed": true,
    "jupyter": {
     "outputs_hidden": true
    }
   },
   "outputs": [
    {
     "name": "stdout",
     "output_type": "stream",
     "text": [
      "1 호랑이\n",
      "2 사자\n",
      "3 개\n",
      "4 파란색\n",
      "5 빨간색\n",
      "7 노란색\n",
      "8 파란색\n",
      "9 검정색\n",
      "10 노란색\n",
      "11 빨간색\n"
     ]
    }
   ],
   "source": [
    "from django.db.models import Q\n",
    "# 조건을 Q()에 넣고 `|` 로 연결.\n",
    "result = Choice.objects.filter( Q(pk__lt = 5)  | Q(choice_text__contains=\"색\"))\n",
    "for c in result:\n",
    "    print(c.id, c.choice_text)"
   ]
  },
  {
   "cell_type": "code",
   "execution_count": 78,
   "id": "19f70683-b3e9-40eb-bc33-3a40caf70537",
   "metadata": {
    "scrolled": true
   },
   "outputs": [
    {
     "name": "stdout",
     "output_type": "stream",
     "text": [
      "SELECT \"polls_choice\".\"id\", \"polls_choice\".\"choice_text\", \"polls_choice\".\"votes\", \"polls_choice\".\"question_id\" FROM \"polls_choice\" WHERE (\"polls_choice\".\"id\" < 5 OR \"polls_choice\".\"choice_text\" LIKE %색% ESCAPE '\\')\n"
     ]
    }
   ],
   "source": [
    "print(result.query)"
   ]
  },
  {
   "cell_type": "code",
   "execution_count": 91,
   "id": "7ebec24e-c1dc-4817-9918-4920c8195440",
   "metadata": {},
   "outputs": [
    {
     "name": "stdout",
     "output_type": "stream",
     "text": [
      "SELECT \"polls_choice\".\"choice_text\", \"polls_choice\".\"votes\" FROM \"polls_choice\"\n"
     ]
    }
   ],
   "source": [
    "### 컬럼선택 (select 컬럼, ...)\n",
    "result = Choice.objects.all().values('choice_text', \"votes\")\n",
    "print(result.query)"
   ]
  },
  {
   "cell_type": "code",
   "execution_count": 93,
   "id": "b2ade69d-d8c2-44f0-8730-ff27e734ebb8",
   "metadata": {
    "collapsed": true,
    "jupyter": {
     "outputs_hidden": true
    },
    "scrolled": true
   },
   "outputs": [
    {
     "name": "stdout",
     "output_type": "stream",
     "text": [
      "<class 'dict'> {'choice_text': '호랑이', 'votes': 0}\n",
      "<class 'dict'> {'choice_text': '사자', 'votes': 0}\n",
      "<class 'dict'> {'choice_text': '개', 'votes': 3}\n",
      "<class 'dict'> {'choice_text': '파란색', 'votes': 0}\n",
      "<class 'dict'> {'choice_text': '빨간색', 'votes': 0}\n",
      "<class 'dict'> {'choice_text': '곰', 'votes': 0}\n",
      "<class 'dict'> {'choice_text': '노란색', 'votes': 0}\n",
      "<class 'dict'> {'choice_text': '파란색', 'votes': 0}\n",
      "<class 'dict'> {'choice_text': '검정색', 'votes': 0}\n",
      "<class 'dict'> {'choice_text': '노란색', 'votes': 0}\n",
      "<class 'dict'> {'choice_text': '빨간색', 'votes': 0}\n",
      "<class 'dict'> {'choice_text': '파이썬', 'votes': 0}\n",
      "<class 'dict'> {'choice_text': '자바', 'votes': 0}\n",
      "<class 'dict'> {'choice_text': 'C++', 'votes': 0}\n",
      "<class 'dict'> {'choice_text': '러스트', 'votes': 0}\n",
      "<class 'dict'> {'choice_text': '자바스크립트', 'votes': 0}\n"
     ]
    }
   ],
   "source": [
    "for r in result:\n",
    "    print(type(r), r)\n",
    "    # print(r.choice_text, r.votes)  # values() 사용하면 개별 조회결과는 dictionary로 반환."
   ]
  },
  {
   "cell_type": "markdown",
   "id": "70f07856-85d3-4579-bfc7-d732c52b2fa0",
   "metadata": {},
   "source": [
    "# 집계"
   ]
  },
  {
   "cell_type": "code",
   "execution_count": 96,
   "id": "bbbf72ac-9d8e-4466-a3ae-20eeb2deebbe",
   "metadata": {},
   "outputs": [
    {
     "data": {
      "text/plain": [
       "{'id__count': 16}"
      ]
     },
     "execution_count": 96,
     "metadata": {},
     "output_type": "execute_result"
    }
   ],
   "source": [
    "## 집계 클래스들\n",
    "from django.db.models import Count, Sum, Avg, Min, Max, StdDev, Variance\n",
    "# ModelManager.aggregate( 집계 객체)\n",
    "result = Choice.objects.aggregate(Count('id'))  #집계결과 -> dictionary로 반환.\n",
    "result # 컬럼__집계: 결과"
   ]
  },
  {
   "cell_type": "code",
   "execution_count": 107,
   "id": "157df7f3-cac9-4e3f-ae5c-d6a6de4b2def",
   "metadata": {},
   "outputs": [
    {
     "data": {
      "text/plain": [
       "{'votes__min': 0,\n",
       " 'votes__max': 3,\n",
       " 'votes__avg': 0.1875,\n",
       " 'votes__sum': 3,\n",
       " 'id__count': 16}"
      ]
     },
     "execution_count": 107,
     "metadata": {},
     "output_type": "execute_result"
    }
   ],
   "source": [
    "Choice.objects.aggregate(Min('votes'), Max(\"votes\"), Avg('votes'), Sum(\"votes\"), Count('id'))\n",
    "# select min(votes), max(votes), ... from choice"
   ]
  },
  {
   "cell_type": "code",
   "execution_count": 110,
   "id": "d557bf1f-b55d-4f8c-8a87-26da65879344",
   "metadata": {},
   "outputs": [
    {
     "name": "stdout",
     "output_type": "stream",
     "text": [
      "{'question': 1, 'votes__sum': 3, 'votes__min': 0, 'id__count': 4}\n",
      "{'question': 2, 'votes__sum': 0, 'votes__min': 0, 'id__count': 3}\n",
      "{'question': 3, 'votes__sum': 0, 'votes__min': 0, 'id__count': 4}\n",
      "{'question': 4, 'votes__sum': 0, 'votes__min': 0, 'id__count': 5}\n"
     ]
    }
   ],
   "source": [
    "### goup by -> values(\"그룹으로 묶을 기준 컬럼\", ...).annotate(집계)\n",
    "result = Choice.objects.values(\"question\").annotate(Sum('votes'), Min(\"votes\"), Count('id'))\n",
    "# select sum(votes), min(\"votes\"), count('id') from choice group by question\n",
    "for dic in result:\n",
    "    print(dic)"
   ]
  },
  {
   "cell_type": "markdown",
   "id": "fb000f23-18f2-4a8b-ac70-d8f226a4adb0",
   "metadata": {},
   "source": [
    "# JOIN\n",
    "## 자식테이블을 기준으로 부모 테이블 값(참조값)을 조회"
   ]
  },
  {
   "cell_type": "code",
   "execution_count": 112,
   "id": "39d5aa61-f49d-4468-bb18-71f630c101e0",
   "metadata": {},
   "outputs": [
    {
     "data": {
      "text/plain": [
       "<Choice: 1. 호랑이>"
      ]
     },
     "execution_count": 112,
     "metadata": {},
     "output_type": "execute_result"
    }
   ],
   "source": [
    "c1 = Choice.objects.get(pk=1)\n",
    "c1"
   ]
  },
  {
   "cell_type": "code",
   "execution_count": 118,
   "id": "f8182012-b22e-4032-9ad1-4fed51463ba4",
   "metadata": {},
   "outputs": [
    {
     "data": {
      "text/plain": [
       "(<Question: 1. 좋아하는 동물은 무엇입니까?>, polls.models.Question)"
      ]
     },
     "execution_count": 118,
     "metadata": {},
     "output_type": "execute_result"
    }
   ],
   "source": [
    "c1.id, c1.pk  # choice id\n",
    "c1.choice_text\n",
    "c1.votes\n",
    "c1.question, type(c1.question)"
   ]
  },
  {
   "cell_type": "code",
   "execution_count": 119,
   "id": "9bd869e2-86fd-4cab-b726-79fac5a315d6",
   "metadata": {},
   "outputs": [
    {
     "data": {
      "text/plain": [
       "'좋아하는 동물은 무엇입니까?'"
      ]
     },
     "execution_count": 119,
     "metadata": {},
     "output_type": "execute_result"
    }
   ],
   "source": [
    "# 조회한 보기의 질문\n",
    "# c1: Choice, c1.question: Question\n",
    "c1.question.question_text"
   ]
  },
  {
   "cell_type": "code",
   "execution_count": 122,
   "id": "f7cfcb5b-4126-4802-bb54-115daf8edbb5",
   "metadata": {},
   "outputs": [
    {
     "name": "stdout",
     "output_type": "stream",
     "text": [
      "좋아하는 색깔은 무엇입니까? - 파란색\n",
      "좋아하는 색깔은 무엇입니까? - 빨간색\n",
      "좋아하는 색깔은 무엇입니까? - 노란색\n",
      "싫어하는 색은 무엇입니까? - 파란색\n",
      "싫어하는 색은 무엇입니까? - 검정색\n",
      "싫어하는 색은 무엇입니까? - 노란색\n",
      "싫어하는 색은 무엇입니까? - 빨간색\n"
     ]
    }
   ],
   "source": [
    "result = Choice.objects.filter(choice_text__endswith = \"색\")\n",
    "for choice in result:\n",
    "   print(choice.question.question_text, choice.choice_text, sep=\" - \") "
   ]
  },
  {
   "cell_type": "markdown",
   "id": "58fc2233-03d7-4460-9c50-96632bbe79cb",
   "metadata": {},
   "source": [
    "## 부모테이블 기준으로 연결된 자식 테이블의 값을 join해서 조회"
   ]
  },
  {
   "cell_type": "code",
   "execution_count": 125,
   "id": "263aae3b-7d4f-45ad-b511-45a0ee039855",
   "metadata": {},
   "outputs": [
    {
     "data": {
      "text/plain": [
       "<Question: 1. 좋아하는 동물은 무엇입니까?>"
      ]
     },
     "execution_count": 125,
     "metadata": {},
     "output_type": "execute_result"
    }
   ],
   "source": [
    "q1 = Question.objects.get(pk=1)\n",
    "q1"
   ]
  },
  {
   "cell_type": "code",
   "execution_count": 128,
   "id": "d9f59b76-1faa-4550-887e-d0dd62771978",
   "metadata": {},
   "outputs": [
    {
     "data": {
      "text/plain": [
       "datetime.datetime(2024, 6, 26, 8, 34, 55, 147197, tzinfo=datetime.timezone.utc)"
      ]
     },
     "execution_count": 128,
     "metadata": {},
     "output_type": "execute_result"
    }
   ],
   "source": [
    "q1.id, q1.pk\n",
    "q1.question_text\n",
    "q1.pub_date\n",
    "q1.choice"
   ]
  },
  {
   "cell_type": "code",
   "execution_count": 129,
   "id": "df008c59-7ddc-4598-b099-245413502fcf",
   "metadata": {},
   "outputs": [
    {
     "data": {
      "text/plain": [
       "<QuerySet [<Choice: 1. 호랑이>, <Choice: 2. 사자>, <Choice: 3. 개>, <Choice: 6. 곰>]>"
      ]
     },
     "execution_count": 129,
     "metadata": {},
     "output_type": "execute_result"
    }
   ],
   "source": [
    "### 부모 모델.자식모델클래스이름_set :: 참조하고 있는 자식테이블 행들을 조회할 수있다.\n",
    "##### question이 q1의 id인 choice들만 조회.\n",
    "q1.choice_set.all()"
   ]
  },
  {
   "cell_type": "code",
   "execution_count": 133,
   "id": "909288fe-3913-44bf-91f1-4ae5c6a75b19",
   "metadata": {},
   "outputs": [
    {
     "data": {
      "text/plain": [
       "<Question: 1. 좋아하는 동물은 무엇입니까?>"
      ]
     },
     "execution_count": 133,
     "metadata": {},
     "output_type": "execute_result"
    }
   ],
   "source": [
    "q1"
   ]
  },
  {
   "cell_type": "code",
   "execution_count": 134,
   "id": "759cb678-e8ad-46f5-bc2d-1861ed0019b0",
   "metadata": {},
   "outputs": [
    {
     "data": {
      "text/plain": [
       "<QuerySet [<Choice: 2. 사자>]>"
      ]
     },
     "execution_count": 134,
     "metadata": {},
     "output_type": "execute_result"
    }
   ],
   "source": [
    "q1.choice_set.filter(choice_text='사자')\n",
    "q1.choice_set.filter(choice_text='파란색')"
   ]
  },
  {
   "cell_type": "code",
   "execution_count": 137,
   "id": "b1cfc6b9-516f-4bb9-b6e0-80ae87c64501",
   "metadata": {},
   "outputs": [
    {
     "data": {
      "text/plain": [
       "django.db.models.fields.related_descriptors.create_reverse_many_to_one_manager.<locals>.RelatedManager"
      ]
     },
     "execution_count": 137,
     "metadata": {},
     "output_type": "execute_result"
    }
   ],
   "source": [
    "type(q1.choice_set)"
   ]
  },
  {
   "cell_type": "code",
   "execution_count": 143,
   "id": "12bccb5e-e161-4276-9a2b-1f7f2b002978",
   "metadata": {},
   "outputs": [
    {
     "name": "stdin",
     "output_type": "stream",
     "text": [
      "질문번호: 3\n"
     ]
    },
    {
     "name": "stdout",
     "output_type": "stream",
     "text": [
      "질문: 싫어하는 색은 무엇입니까?\n",
      "1. 파란색\n",
      "2. 검정색\n",
      "3. 노란색\n",
      "4. 빨간색\n"
     ]
    }
   ],
   "source": [
    "##### 1번 질문을 조회해서 \"질문 - 보기\" 출력\n",
    "num = int(input(\"질문번호:\"))\n",
    "try:\n",
    "    q1 = Question.objects.get(pk=num)\n",
    "    q_text = q1.question_text\n",
    "    choice_list = q1.choice_set.all()  # 1번질문의 보기들 \n",
    "    print(\"질문:\", q_text)\n",
    "    for idx, choice in enumerate(choice_list):\n",
    "        print(f\"{idx+1}. {choice.choice_text}\")\n",
    "except:\n",
    "    print(\"없는 번호의 질문입니다.\")"
   ]
  },
  {
   "cell_type": "markdown",
   "id": "812727e9-b374-436d-ac1d-a576a5843c11",
   "metadata": {},
   "source": [
    "# insert/update/delete"
   ]
  },
  {
   "cell_type": "code",
   "execution_count": 147,
   "id": "403c3fb0-1d97-40f3-85ec-e6f1f89be896",
   "metadata": {},
   "outputs": [
    {
     "name": "stdout",
     "output_type": "stream",
     "text": [
      "2\n"
     ]
    }
   ],
   "source": [
    "## update (web: select -> 값 변경 -> update)\n",
    "# id=2인  질문내용을 변경 \n",
    "## 1. id=2 질문을 조회\n",
    "q1 = Question.objects.get(pk=2)\n",
    "## 2. 값을 변경.\n",
    "q1.question_text = \"어떤색을 좋아하세요?\"\n",
    "# print(q1.pk)\n",
    "## 3. update\n",
    "q1.save()   # pk=2인 행의 값들을 q1의 instance 변수들로 수정."
   ]
  },
  {
   "cell_type": "code",
   "execution_count": 148,
   "id": "7c955af8-2c36-45d1-94b6-a95e12094617",
   "metadata": {},
   "outputs": [
    {
     "data": {
      "text/plain": [
       "<Question: 2. 어떤색을 좋아하세요?>"
      ]
     },
     "execution_count": 148,
     "metadata": {},
     "output_type": "execute_result"
    }
   ],
   "source": [
    "Question.objects.get(pk=2)"
   ]
  },
  {
   "cell_type": "code",
   "execution_count": 161,
   "id": "dd80a14e-e0ad-46c4-be77-3ef828a943a9",
   "metadata": {},
   "outputs": [
    {
     "name": "stdout",
     "output_type": "stream",
     "text": [
      "None None\n"
     ]
    }
   ],
   "source": [
    "## insert - DB에 없은 PK 를 가진 Model객체.save() \n",
    "newQ = Question(question_text=\"새로운 질문입니다.\")\n",
    "#### id(pk): 자동증가 정수.\n",
    "#### pub_date: insert 하는 시점의 일/시 자동으로 입력\n",
    "# newQ.question_text = \"\"\n",
    "print(newQ.id, newQ.pub_date)\n",
    "newQ.save()"
   ]
  },
  {
   "cell_type": "code",
   "execution_count": 163,
   "id": "41a377b0-e261-4b1c-8212-84a271631589",
   "metadata": {},
   "outputs": [
    {
     "data": {
      "text/plain": [
       "(14,\n",
       " datetime.datetime(2024, 6, 27, 6, 39, 33, 102801, tzinfo=datetime.timezone.utc))"
      ]
     },
     "execution_count": 163,
     "metadata": {},
     "output_type": "execute_result"
    }
   ],
   "source": [
    "### insert 후 자동으로 생성되서 insert 된 값이 model 객체의 field에 할당됨.\n",
    "newQ.id, newQ.pub_date"
   ]
  },
  {
   "cell_type": "code",
   "execution_count": 162,
   "id": "7c90cbff-f68f-4395-9c26-44d358f906e6",
   "metadata": {},
   "outputs": [
    {
     "data": {
      "text/plain": [
       "<QuerySet [<Question: 1. 좋아하는 동물은 무엇입니까?>, <Question: 2. 어떤색을 좋아하세요?>, <Question: 3. 싫어하는 색은 무엇입니까?>, <Question: 4. 선호하는 프로그래밍 언어는?>, <Question: 5. 새로운 질문입니다.>, <Question: 6. 새로운 질문입니다.>, <Question: 7. 새로운 질문입니다.>, <Question: 8. 새로운 질문입니다.>, <Question: 9. 새로운 질문입니다.>, <Question: 10. 새로운 질문입니다.>, <Question: 11. 새로운 질문입니다.>, <Question: 12. 새로운 질문입니다.>, <Question: 13. 새로운 질문입니다.>, <Question: 14. 새로운 질문입니다.>]>"
      ]
     },
     "execution_count": 162,
     "metadata": {},
     "output_type": "execute_result"
    }
   ],
   "source": [
    "Question.objects.all()"
   ]
  },
  {
   "cell_type": "code",
   "execution_count": 168,
   "id": "49bf2cf8-8d23-43a2-b6e1-896c88cd0ac7",
   "metadata": {},
   "outputs": [
    {
     "name": "stdout",
     "output_type": "stream",
     "text": [
      "14 \n"
     ]
    },
    {
     "data": {
      "text/plain": [
       "(1, {'polls.Question': 1})"
      ]
     },
     "execution_count": 168,
     "metadata": {},
     "output_type": "execute_result"
    }
   ],
   "source": [
    "### delete. 모델객체.delete()  -> 모델객체의  pk의 행을 삭제.\n",
    "deleteQ = Question(pk=14)\n",
    "print(deleteQ.pk, deleteQ.question_text)\n",
    "deleteQ.delete()"
   ]
  },
  {
   "cell_type": "code",
   "execution_count": 169,
   "id": "f4192e2a-7eec-41a1-8e24-9ff95c3dac81",
   "metadata": {
    "collapsed": true,
    "jupyter": {
     "outputs_hidden": true
    }
   },
   "outputs": [
    {
     "data": {
      "text/plain": [
       "<QuerySet [<Question: 1. 좋아하는 동물은 무엇입니까?>, <Question: 2. 어떤색을 좋아하세요?>, <Question: 3. 싫어하는 색은 무엇입니까?>, <Question: 4. 선호하는 프로그래밍 언어는?>, <Question: 5. 새로운 질문입니다.>, <Question: 6. 새로운 질문입니다.>, <Question: 7. 새로운 질문입니다.>, <Question: 8. 새로운 질문입니다.>, <Question: 9. 새로운 질문입니다.>, <Question: 10. 새로운 질문입니다.>, <Question: 11. 새로운 질문입니다.>, <Question: 12. 새로운 질문입니다.>, <Question: 13. 새로운 질문입니다.>]>"
      ]
     },
     "execution_count": 169,
     "metadata": {},
     "output_type": "execute_result"
    }
   ],
   "source": [
    "Question.objects.all()"
   ]
  },
  {
   "cell_type": "code",
   "execution_count": 171,
   "id": "300e5f91-e724-449c-bedc-79c29d4acc26",
   "metadata": {},
   "outputs": [],
   "source": [
    "## 원하는 조건의 행들 delete:   삭제할 대상을 조회 -> 삭제\n",
    "# pk >= 5 행들을 모두 삭제.\n",
    "deleteQS = Question.objects.filter(pk__gte = 5)\n",
    "for q in deleteQS:\n",
    "    q.delete()"
   ]
  },
  {
   "cell_type": "code",
   "execution_count": 172,
   "id": "7ab9ac3e-fa20-4d3b-9b65-682e6e284318",
   "metadata": {},
   "outputs": [
    {
     "data": {
      "text/plain": [
       "<QuerySet [<Question: 1. 좋아하는 동물은 무엇입니까?>, <Question: 2. 어떤색을 좋아하세요?>, <Question: 3. 싫어하는 색은 무엇입니까?>, <Question: 4. 선호하는 프로그래밍 언어는?>]>"
      ]
     },
     "execution_count": 172,
     "metadata": {},
     "output_type": "execute_result"
    }
   ],
   "source": [
    "Question.objects.all()"
   ]
  },
  {
   "cell_type": "markdown",
   "id": "5bffe1ee-353e-429d-8f93-90c4322355b4",
   "metadata": {},
   "source": [
    "## SQL문을 직접 작성해서 실행.\n",
    "- select 만 가능.\n",
    "- ModelManager.raw(\"select문\") : RawQuerySet(결과)"
   ]
  },
  {
   "cell_type": "code",
   "execution_count": 173,
   "id": "d31cb163-ee45-449e-b100-3f9b208ba8f8",
   "metadata": {},
   "outputs": [
    {
     "data": {
      "text/plain": [
       "<RawQuerySet: select * from polls_choice>"
      ]
     },
     "execution_count": 173,
     "metadata": {},
     "output_type": "execute_result"
    }
   ],
   "source": [
    "rq = Choice.objects.raw(\"select * from polls_choice\")\n",
    "rq"
   ]
  },
  {
   "cell_type": "code",
   "execution_count": 175,
   "id": "6a706aa1-93b9-464c-8af3-495d7c65eb11",
   "metadata": {},
   "outputs": [
    {
     "name": "stdout",
     "output_type": "stream",
     "text": [
      "<class 'polls.models.Choice'> 1. 호랑이\n",
      "<class 'polls.models.Choice'> 2. 사자\n",
      "<class 'polls.models.Choice'> 3. 개\n",
      "<class 'polls.models.Choice'> 4. 파란색\n",
      "<class 'polls.models.Choice'> 5. 빨간색\n",
      "<class 'polls.models.Choice'> 6. 곰\n",
      "<class 'polls.models.Choice'> 7. 노란색\n",
      "<class 'polls.models.Choice'> 8. 파란색\n",
      "<class 'polls.models.Choice'> 9. 검정색\n",
      "<class 'polls.models.Choice'> 10. 노란색\n",
      "<class 'polls.models.Choice'> 11. 빨간색\n",
      "<class 'polls.models.Choice'> 12. 파이썬\n",
      "<class 'polls.models.Choice'> 13. 자바\n",
      "<class 'polls.models.Choice'> 14. C++\n",
      "<class 'polls.models.Choice'> 15. 러스트\n",
      "<class 'polls.models.Choice'> 16. 자바스크립트\n"
     ]
    }
   ],
   "source": [
    "for q in rq:\n",
    "    print(type(q), q)"
   ]
  },
  {
   "cell_type": "code",
   "execution_count": null,
   "id": "a848de26-a920-4c43-9a24-c0d4ec5991ff",
   "metadata": {},
   "outputs": [],
   "source": []
  },
  {
   "cell_type": "code",
   "execution_count": null,
   "id": "122f3017-9463-4ffe-be9c-01c66b2ef077",
   "metadata": {},
   "outputs": [],
   "source": []
  },
  {
   "cell_type": "code",
   "execution_count": null,
   "id": "ff88f42a-8919-4840-8745-0ed37022650a",
   "metadata": {},
   "outputs": [],
   "source": []
  }
 ],
 "metadata": {
  "kernelspec": {
   "display_name": "Python 3 (ipykernel)",
   "language": "python",
   "name": "python3"
  },
  "language_info": {
   "codemirror_mode": {
    "name": "ipython",
    "version": 3
   },
   "file_extension": ".py",
   "mimetype": "text/x-python",
   "name": "python",
   "nbconvert_exporter": "python",
   "pygments_lexer": "ipython3",
   "version": "3.11.8"
  }
 },
 "nbformat": 4,
 "nbformat_minor": 5
}
