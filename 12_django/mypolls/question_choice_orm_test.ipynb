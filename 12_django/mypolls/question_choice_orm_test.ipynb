{
 "cells": [
  {
   "cell_type": "code",
   "execution_count": 4,
   "id": "99b7aa9e-80e1-4b1e-aed4-e2fb814da73b",
   "metadata": {},
   "outputs": [],
   "source": [
    "# Jupyter Lab에서 Django shell 을 실행 시키기 위한 환경변수설정.\n",
    "import os\n",
    "import django\n",
    "\n",
    "os.environ[\"DJANGO_SETTINGS_MODULE\"] = 'config.settings'  # config/settings.py 를 등록\n",
    "os.environ[\"DJANGO_ALLOW_ASYNC_UNSAFE\"] = 'true'\n",
    "\n",
    "django.setup()"
   ]
  },
  {
   "cell_type": "code",
   "execution_count": 5,
   "id": "0013bfff-07b0-452a-bb89-c89227083224",
   "metadata": {},
   "outputs": [],
   "source": [
    "from polls.models import Question, Choice"
   ]
  },
  {
   "cell_type": "code",
   "execution_count": 10,
   "id": "4cb1445d-8959-4a16-b9d1-70510a565378",
   "metadata": {},
   "outputs": [
    {
     "data": {
      "text/plain": [
       "(<django.db.models.manager.Manager at 0x2b616169f10>,\n",
       " <django.db.models.manager.Manager at 0x2b616dd88d0>)"
      ]
     },
     "execution_count": 10,
     "metadata": {},
     "output_type": "execute_result"
    }
   ],
   "source": [
    "Question.objects, Choice.objects"
   ]
  },
  {
   "cell_type": "code",
   "execution_count": 11,
   "id": "a122b8f3-e435-427d-b9e2-4c51697a3ed2",
   "metadata": {
    "scrolled": true
   },
   "outputs": [
    {
     "data": {
      "text/plain": [
       "<QuerySet [<Question: 1. 좋아하는 동물은 무엇입니까?>, <Question: 2. 좋아하는 색깔은 무엇입니까?>, <Question: 3. 싫어하는 색은 무엇입니까?>, <Question: 4. 선호하는 프로그래밍 언어는?>]>"
      ]
     },
     "execution_count": 11,
     "metadata": {},
     "output_type": "execute_result"
    }
   ],
   "source": [
    "Question.objects.all()  # select * from question"
   ]
  },
  {
   "cell_type": "markdown",
   "id": "f309036b-fdfa-4307-85ef-ac3150e4d7e3",
   "metadata": {},
   "source": [
    "# 조회 (select)"
   ]
  },
  {
   "cell_type": "code",
   "execution_count": 13,
   "id": "de5e47d9-6141-4b30-ae13-7f9b024389eb",
   "metadata": {},
   "outputs": [
    {
     "name": "stdout",
     "output_type": "stream",
     "text": [
      "<class 'django.db.models.query.QuerySet'>\n"
     ]
    }
   ],
   "source": [
    "## 전체 조회\n",
    "result = Question.objects.all()\n",
    "print(type(result))"
   ]
  },
  {
   "cell_type": "code",
   "execution_count": 19,
   "id": "c9034aab-2af3-42cf-b3d9-ab8fedd19754",
   "metadata": {
    "scrolled": true
   },
   "outputs": [
    {
     "name": "stdout",
     "output_type": "stream",
     "text": [
      "SELECT \"polls_question\".\"id\", \"polls_question\".\"question_text\", \"polls_question\".\"pub_date\" FROM \"polls_question\"\n",
      "<QuerySet [<Question: 1. 좋아하는 동물은 무엇입니까?>, <Question: 2. 좋아하는 색깔은 무엇입니까?>, <Question: 3. 싫어하는 색은 무엇입니까?>, <Question: 4. 선호하는 프로그래밍 언어는?>]>\n",
      "<class 'polls.models.Question'> 1. 좋아하는 동물은 무엇입니까?\n",
      "<class 'polls.models.Question'> 2. 좋아하는 색깔은 무엇입니까?\n",
      "<class 'polls.models.Question'> 3. 싫어하는 색은 무엇입니까?\n",
      "<class 'polls.models.Question'> 4. 선호하는 프로그래밍 언어는?\n"
     ]
    }
   ],
   "source": [
    "# sql문 조회  QuearySet.query\n",
    "print(result.query)\n",
    "# 조회 결과\n",
    "## QuerySet[ Model, Model, Model,  ...]\n",
    "print(result)\n",
    "for q in result:\n",
    "    print(type(q), q)"
   ]
  },
  {
   "cell_type": "code",
   "execution_count": 23,
   "id": "24aff177-ee71-4e65-9c82-12f32195bdb8",
   "metadata": {},
   "outputs": [
    {
     "name": "stdout",
     "output_type": "stream",
     "text": [
      "1 좋아하는 동물은 무엇입니까? 2024-06-26 08:34:55.147197+00:00\n",
      "2 좋아하는 색깔은 무엇입니까? 2024-06-26 08:35:57.459692+00:00\n",
      "3 싫어하는 색은 무엇입니까? 2024-06-27 01:12:32.683098+00:00\n",
      "4 선호하는 프로그래밍 언어는? 2024-06-27 01:12:47.347630+00:00\n"
     ]
    }
   ],
   "source": [
    "for q in result:\n",
    "    print(q.id, q.question_text, q.pub_date)    "
   ]
  },
  {
   "cell_type": "code",
   "execution_count": 27,
   "id": "259afc3a-4c63-404e-a8cb-cc9a6dabf9ba",
   "metadata": {},
   "outputs": [
    {
     "data": {
      "text/plain": [
       "(<Question: 1. 좋아하는 동물은 무엇입니까?>, 1)"
      ]
     },
     "execution_count": 27,
     "metadata": {},
     "output_type": "execute_result"
    }
   ],
   "source": [
    "# indexing 으로 조회결과 조회\n",
    "result[0], result[0].id"
   ]
  },
  {
   "cell_type": "code",
   "execution_count": 29,
   "id": "a5e36773-93c9-43e6-a418-94ee3f747468",
   "metadata": {
    "scrolled": true
   },
   "outputs": [
    {
     "data": {
      "text/plain": [
       "[<Question: 1. 좋아하는 동물은 무엇입니까?>,\n",
       " <Question: 2. 좋아하는 색깔은 무엇입니까?>,\n",
       " <Question: 3. 싫어하는 색은 무엇입니까?>]"
      ]
     },
     "execution_count": 29,
     "metadata": {},
     "output_type": "execute_result"
    }
   ],
   "source": [
    "# slicing으로 조회결과 조회.\n",
    "result[:3]"
   ]
  },
  {
   "cell_type": "code",
   "execution_count": 31,
   "id": "30968876-47ad-4a32-be2c-7207e4a447de",
   "metadata": {},
   "outputs": [],
   "source": [
    "# result[-1] # 음수  index는 지원안함."
   ]
  },
  {
   "cell_type": "code",
   "execution_count": 33,
   "id": "0d4f5a38-8775-4dfc-ab88-2db1a77e526a",
   "metadata": {},
   "outputs": [
    {
     "data": {
      "text/plain": [
       "<Question: 1. 좋아하는 동물은 무엇입니까?>"
      ]
     },
     "execution_count": 33,
     "metadata": {},
     "output_type": "execute_result"
    }
   ],
   "source": [
    "result.last() # 마지막 값 조회\n",
    "# result.first()"
   ]
  },
  {
   "cell_type": "code",
   "execution_count": 36,
   "id": "bdfe4a3e-03b6-4a05-b2ce-849fc18e0b79",
   "metadata": {},
   "outputs": [],
   "source": [
    "###### 조회결과 정렬 (order by  절)\n",
    "# result = Question.objects.all().order_by(\"question_text\")  # asc\n",
    "result = Question.objects.all().order_by(\"-question_text\")    # desc\n",
    "# select * from question order by  question_text desc"
   ]
  },
  {
   "cell_type": "code",
   "execution_count": 37,
   "id": "7a86e0fe-64a0-4db7-895d-74cd0acec0f6",
   "metadata": {},
   "outputs": [
    {
     "data": {
      "text/plain": [
       "<QuerySet [<Question: 2. 좋아하는 색깔은 무엇입니까?>, <Question: 1. 좋아하는 동물은 무엇입니까?>, <Question: 3. 싫어하는 색은 무엇입니까?>, <Question: 4. 선호하는 프로그래밍 언어는?>]>"
      ]
     },
     "execution_count": 37,
     "metadata": {},
     "output_type": "execute_result"
    }
   ],
   "source": [
    "result"
   ]
  },
  {
   "cell_type": "code",
   "execution_count": 46,
   "id": "53617115-8cd2-4aea-badb-6d2cf382a661",
   "metadata": {},
   "outputs": [],
   "source": [
    "result = Choice.objects.all().order_by(\"-choice_text\", \"-id\")\n",
    "# select * from choice order by choice_text desc,  id desc"
   ]
  },
  {
   "cell_type": "code",
   "execution_count": 47,
   "id": "eeff12a3-2bb9-4b58-a127-e8e6f15a4dcc",
   "metadata": {},
   "outputs": [
    {
     "name": "stdout",
     "output_type": "stream",
     "text": [
      "1 호랑이\n",
      "12 파이썬\n",
      "8 파란색\n",
      "4 파란색\n",
      "16 자바스크립트\n",
      "13 자바\n",
      "2 사자\n",
      "11 빨간색\n",
      "5 빨간색\n",
      "15 러스트\n",
      "10 노란색\n",
      "7 노란색\n",
      "6 곰\n",
      "9 검정색\n",
      "3 개\n",
      "14 C++\n"
     ]
    }
   ],
   "source": [
    "for c in result:\n",
    "    print(c.id, c.choice_text)"
   ]
  },
  {
   "cell_type": "code",
   "execution_count": null,
   "id": "06c21871-f8db-45ee-bbc6-1d2be4e4a671",
   "metadata": {},
   "outputs": [],
   "source": []
  }
 ],
 "metadata": {
  "kernelspec": {
   "display_name": "Python 3 (ipykernel)",
   "language": "python",
   "name": "python3"
  },
  "language_info": {
   "codemirror_mode": {
    "name": "ipython",
    "version": 3
   },
   "file_extension": ".py",
   "mimetype": "text/x-python",
   "name": "python",
   "nbconvert_exporter": "python",
   "pygments_lexer": "ipython3",
   "version": "3.11.8"
  }
 },
 "nbformat": 4,
 "nbformat_minor": 5
}
