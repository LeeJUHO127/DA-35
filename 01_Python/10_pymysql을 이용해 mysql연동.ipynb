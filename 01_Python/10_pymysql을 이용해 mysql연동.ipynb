{
 "cells": [
  {
   "cell_type": "markdown",
   "id": "a2f58681",
   "metadata": {},
   "source": [
    "# pymysql\n",
    "\n",
    "-   파이썬에서 MySQL, MariaDB DBMS와 연동하는 다양한 함수를 제공하는 모듈\n",
    "-   Python [DB API 2.0](http://www.python.org/dev/peps/pep-0249) 표준을 따른다.\n",
    "-   https://github.com/PyMySQL/PyMySQL/\n",
    "-   https://pymysql.readthedocs.io/en/latest/\n"
   ]
  },
  {
   "cell_type": "markdown",
   "id": "43cccb80",
   "metadata": {},
   "source": [
    "# 설치\n",
    "\n",
    "-   조건\n",
    "    -   python version 3.6 이상\n",
    "    -   mysql version 5.6 이상\n",
    "-   설치\n",
    "    -   `pip install pymysql`\n",
    "    -   `conda install -c conda-forge pymysql`\n"
   ]
  },
  {
   "cell_type": "code",
   "execution_count": null,
   "id": "16ddb3ec",
   "metadata": {},
   "outputs": [],
   "source": []
  },
  {
   "cell_type": "markdown",
   "id": "7572463d",
   "metadata": {},
   "source": [
    "# 기본 작성 절차\n",
    "\n",
    "1. Database 연결\n",
    "    ```python\n",
    "       connection =  pymysql.connect(host=\"DBMS 서버 ip\",\n",
    "                                     port=\"port번호\",\n",
    "                                     user=\"계정명\",\n",
    "                                     password=\"비밀번호\",\n",
    "                                     db=\"연결할데이터베이스이름\",\n",
    "                                     charset='utf8')\n",
    "    ```\n",
    "    - port 번호 기본값: 3306\n",
    "2. Connection을 이용해 Cursor 생성\n",
    "    - Cursor: 연결된 Database에 sql문을 전송하고 select결과 조회 기능을 제공하는 객체\n",
    "    ```python\n",
    "        cursor = connection.cursor()\n",
    "    ```\n",
    "3. Cusror를 이용해 SQL문 전송\n",
    "    ```python\n",
    "        cursor.execute(\"sql문\")\n",
    "    ```\n",
    "4. 연결 닫기\n",
    "    - cursor, connection 연결을 닫는다.\n",
    "    - with문을 이용할 수 있다.\n",
    "    ```python\n",
    "    cursor.close()\n",
    "    connection.close()\n",
    "    ```\n"
   ]
  },
  {
   "cell_type": "markdown",
   "id": "3262b127",
   "metadata": {},
   "source": [
    "# 예제\n",
    "\n",
    "## 테이블 생성\n"
   ]
  },
  {
   "cell_type": "code",
   "execution_count": null,
   "id": "a8a1f263",
   "metadata": {},
   "outputs": [],
   "source": []
  },
  {
   "cell_type": "markdown",
   "id": "59b4e786",
   "metadata": {},
   "source": [
    "## DML\n",
    "\n",
    "### insert\n"
   ]
  },
  {
   "cell_type": "code",
   "execution_count": null,
   "id": "61deab37",
   "metadata": {},
   "outputs": [],
   "source": []
  },
  {
   "cell_type": "code",
   "execution_count": null,
   "id": "c78ebebd",
   "metadata": {},
   "outputs": [],
   "source": []
  },
  {
   "cell_type": "markdown",
   "id": "c1d9de83",
   "metadata": {
    "ExecuteTime": {
     "end_time": "2022-04-19T06:23:30.323879Z",
     "start_time": "2022-04-19T06:23:30.304888Z"
    }
   },
   "source": [
    "### Parameterized Query\n",
    "\n",
    "-   Parameterized Query\n",
    "    -   SQL 문에서 컬럼 값이 들어가는 자리에 값대신 `%s` placeholder를 사용한뒤 execute()에서 placeholder에 넣을 값을 list나 tuple로 제공한다.\n",
    "    -   query문을 쉽게 작성할 수 있는 장점이 있다.\n"
   ]
  },
  {
   "cell_type": "code",
   "execution_count": null,
   "id": "5c060325",
   "metadata": {},
   "outputs": [],
   "source": []
  },
  {
   "cell_type": "code",
   "execution_count": null,
   "id": "7dbc54a9",
   "metadata": {},
   "outputs": [],
   "source": []
  },
  {
   "cell_type": "markdown",
   "id": "37335b7b",
   "metadata": {},
   "source": [
    "### Parameterized Query를 이용해 여러개 행 insert\n",
    "\n",
    "#### for문 사용\n"
   ]
  },
  {
   "cell_type": "code",
   "execution_count": null,
   "id": "0fc2331b",
   "metadata": {},
   "outputs": [],
   "source": [
    "from datetime import date, datetime\n",
    "\n",
    "datas = [\n",
    "    [\"name1\", \"abc1@abc.com\", 165, date(2000, 1, 12), datetime.now()],\n",
    "    [\"name2\", \"def1@abc.com\", 175, date(1995, 12, 20), datetime.now()],\n",
    "    [\"name3\", \"ghi1@abc.com\", 185, date(1988, 7, 21), datetime.now()],\n",
    "]"
   ]
  },
  {
   "cell_type": "code",
   "execution_count": null,
   "id": "cd598d70",
   "metadata": {},
   "outputs": [],
   "source": []
  },
  {
   "cell_type": "markdown",
   "id": "7322f3bb",
   "metadata": {},
   "source": [
    "#### executemany() 사용\n",
    "\n",
    "-   insert할 값들을 가진 리스트를 넣어 한번에 여러 행을 insert한다.\n"
   ]
  },
  {
   "cell_type": "code",
   "execution_count": null,
   "id": "f72beeb1",
   "metadata": {},
   "outputs": [],
   "source": [
    "datas = [\n",
    "    [\"이름1\", \"abc2@a.com\", 165, date(2000, 1, 12), datetime.now()],\n",
    "    [\"이름2\", \"def2@a.com\", 175, date(1995, 12, 20), datetime.now()],\n",
    "    [\"이름1\", \"ghi2@a.com\", 185, date(1988, 7, 21), datetime.now()],\n",
    "]"
   ]
  },
  {
   "cell_type": "code",
   "execution_count": null,
   "id": "2792bae6",
   "metadata": {},
   "outputs": [],
   "source": []
  },
  {
   "cell_type": "code",
   "execution_count": null,
   "id": "0f66c3cb",
   "metadata": {},
   "outputs": [],
   "source": []
  },
  {
   "cell_type": "markdown",
   "id": "d78f4253",
   "metadata": {},
   "source": [
    "### update/delete\n",
    "\n",
    "-   코딩 절차는 insert 와 동일\n"
   ]
  },
  {
   "cell_type": "code",
   "execution_count": null,
   "id": "5f056266",
   "metadata": {},
   "outputs": [],
   "source": []
  },
  {
   "cell_type": "code",
   "execution_count": null,
   "id": "55cc6af5",
   "metadata": {},
   "outputs": [],
   "source": []
  },
  {
   "cell_type": "code",
   "execution_count": null,
   "id": "ea34cdb7",
   "metadata": {},
   "outputs": [],
   "source": []
  },
  {
   "cell_type": "markdown",
   "id": "096891b8",
   "metadata": {},
   "source": [
    "## select (DQL - Data Query Language)\n",
    "\n",
    "-   조회결과 조회\n",
    "    -   cursor.execute(\"select문\") 실행 후 cursor의 결과 조회 메소드(fetch메소드)를 이용해 결과를 받는다.\n",
    "-   fetch메소드\n",
    "    -   **fetchall()**\n",
    "        -   조회한 모든 행을을 반환\n",
    "    -   **fetchmany(size=개수)**\n",
    "        -   지정한 size개수 만큼 반환\n",
    "    -   **fetchone()**\n",
    "        -   조회결과 중 첫번째 행만 반환\n",
    "        -   주로 pk 동등 조건으로 조회한 경우 사용\n"
   ]
  },
  {
   "cell_type": "markdown",
   "id": "524f4cb8",
   "metadata": {},
   "source": [
    "### fetchall()\n"
   ]
  },
  {
   "cell_type": "code",
   "execution_count": null,
   "id": "93a06bf2",
   "metadata": {},
   "outputs": [],
   "source": []
  },
  {
   "cell_type": "code",
   "execution_count": null,
   "id": "cebb65c0",
   "metadata": {},
   "outputs": [],
   "source": []
  },
  {
   "cell_type": "code",
   "execution_count": null,
   "id": "82a62b01",
   "metadata": {},
   "outputs": [],
   "source": []
  },
  {
   "cell_type": "markdown",
   "id": "b3a9867d",
   "metadata": {},
   "source": [
    "### fetchone()\n"
   ]
  },
  {
   "cell_type": "code",
   "execution_count": null,
   "id": "97500b7b",
   "metadata": {},
   "outputs": [],
   "source": []
  },
  {
   "cell_type": "code",
   "execution_count": null,
   "id": "b0eaf81d",
   "metadata": {},
   "outputs": [],
   "source": []
  },
  {
   "cell_type": "markdown",
   "id": "cc8054bc",
   "metadata": {},
   "source": [
    "### fetchmany()\n"
   ]
  },
  {
   "cell_type": "code",
   "execution_count": null,
   "id": "7d72f49c",
   "metadata": {},
   "outputs": [],
   "source": []
  },
  {
   "cell_type": "code",
   "execution_count": null,
   "id": "50fffed5",
   "metadata": {},
   "outputs": [],
   "source": []
  },
  {
   "cell_type": "markdown",
   "id": "fca900bd",
   "metadata": {},
   "source": [
    "### cursor 는 iterable 타입\n",
    "\n",
    "-   for문에 select 실행한 cursor를 사용하면 조회결과를 한 행씩 조회할 수 있다.\n"
   ]
  },
  {
   "cell_type": "code",
   "execution_count": null,
   "id": "8332ff67",
   "metadata": {},
   "outputs": [],
   "source": []
  },
  {
   "cell_type": "markdown",
   "id": "32433b68",
   "metadata": {},
   "source": [
    "# TODO\n",
    "\n",
    "다음 함수들을 구현하시오.  \n",
    "각 함수들은 member 테이블과 관련해서 CRUD를 처리하는 함수들 입니다.\n",
    "\n",
    "1. name, email, tall, birthday를 매개변수로 받아서 insert하는 함수. (id는 자동증가, created_at은 실행시점의 일시가 insert되도록 한다.)\n",
    "2. id, name, email, tall, birthday를 매개변수로 받아서 id의 member의 나머지 정보를 update하는 함수. (created_at은 update하지 않는다.)\n",
    "3. id를 매개변수로 받아서 그 member 를 삭제하는 함수.\n",
    "4. 이름을 매개변수로 받아서 그 이름의 member를 삭제하는 함수.\n",
    "5. id를 매개변수로 받아서 그 id의 회원 정보를 조회하여 반환하는 함수.\n",
    "6. name을 매개변수로 받아서 그 이름이 들어간 회원의 정보를 조회하여 반환하는 함수.\n",
    "7. birthday를 매개변수로 받아서 그 생일의 회원의 정보를 조회하여 반환하는 함수.\n",
    "8. tall 값을 두개 받아서 그 범위의 tall인 회원들의 정보를 조회하여 반환하는 함수.\n",
    "\n",
    "-   insert, update, delete 는 적용된 행의 개수를 반환한다.\n",
    "-   select 처리 함수는 조회결과를 반환한다.\n"
   ]
  },
  {
   "cell_type": "code",
   "execution_count": null,
   "id": "7d8e9ed5",
   "metadata": {},
   "outputs": [],
   "source": []
  },
  {
   "cell_type": "markdown",
   "id": "769990dc",
   "metadata": {},
   "source": [
    "# TODO\n",
    "\n",
    "-   hr database의 emp 테이블의 데이터를 다루는 함수들을 구현\n",
    "\n",
    "1. 직원 정보들(emp의 컬럼들)을 매개변수로 받아 insert 하는 함수\n",
    "\n",
    "2. 수정할 직원 정보들을 매개변수로 받아 받은 emp_id의 직원의 나머지 컬럼값들을 수정하는 함수\n",
    "\n",
    "3. emp_id를 매개변수로 받아 그 직원을 삭제하는 함수\n",
    "\n",
    "4. job을 매개변수로 받아 그 업무를 하는 직원들을 삭제하는 함수\n",
    "\n",
    "5. 전체 직원정보를 모두 조회해서 반환하는 함수\n",
    "\n",
    "6. emp_id를 매개변수로 받아 그 직원 정보를 조회해서 반환하는 함수\n",
    "\n",
    "7. dept_name을 매개변수로 받아서 그 부서에 소속된 직원들의 정보를 조회해서 반환하는 함수\n",
    "\n",
    "8. salary 범위를 매개변수로 받아 그 범위의 salary를 받는 직원들의 정보를 조회해서 반환하는 함수\n",
    "\n",
    "9. emp_id를 매개변수로 받아서 그 직원의 커미션이 얼마인지를(salary \\* comm_pct) 조회해 반환하는 함수\n",
    "\n",
    "10. dept_name을 매개변수로 받아서 부서별 급여 통계정보(합계, 최대, 최소, 평균, 표준편차)를 반환하는 함수\n"
   ]
  }
 ],
 "metadata": {
  "kernelspec": {
   "display_name": "Python 3 (ipykernel)",
   "language": "python",
   "name": "python3"
  },
  "language_info": {
   "codemirror_mode": {
    "name": "ipython",
    "version": 3
   },
   "file_extension": ".py",
   "mimetype": "text/x-python",
   "name": "python",
   "nbconvert_exporter": "python",
   "pygments_lexer": "ipython3",
   "version": "3.11.4"
  },
  "toc": {
   "base_numbering": 1,
   "nav_menu": {},
   "number_sections": false,
   "sideBar": true,
   "skip_h1_title": false,
   "title_cell": "Table of Contents",
   "title_sidebar": "Contents",
   "toc_cell": false,
   "toc_position": {},
   "toc_section_display": true,
   "toc_window_display": false
  },
  "varInspector": {
   "cols": {
    "lenName": 16,
    "lenType": 16,
    "lenVar": 40
   },
   "kernels_config": {
    "python": {
     "delete_cmd_postfix": "",
     "delete_cmd_prefix": "del ",
     "library": "var_list.py",
     "varRefreshCmd": "print(var_dic_list())"
    },
    "r": {
     "delete_cmd_postfix": ") ",
     "delete_cmd_prefix": "rm(",
     "library": "var_list.r",
     "varRefreshCmd": "cat(var_dic_list()) "
    }
   },
   "types_to_exclude": [
    "module",
    "function",
    "builtin_function_or_method",
    "instance",
    "_Feature"
   ],
   "window_display": false
  }
 },
 "nbformat": 4,
 "nbformat_minor": 5
}
