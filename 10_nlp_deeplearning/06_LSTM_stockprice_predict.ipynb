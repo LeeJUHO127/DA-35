{
 "cells": [
  {
   "cell_type": "markdown",
   "id": "92933e86-724b-4568-a2ea-8951db5fee6e",
   "metadata": {},
   "source": [
    "# 삼성전자 주가 데이터 다운로드\n",
    "- Yahoo Finance 에서 주가 데이터 다운로드 (https://finance.yahoo.com/)\n",
    "    - 검색 키워드 '005930.KS' 입력\n",
    "- 검색 후 Historical Data 선택\n",
    "\n",
    "![yahoo finance](figures/rnn/21_yahoo_stock1.png)"
   ]
  },
  {
   "cell_type": "markdown",
   "id": "59ac250f-e525-49b6-93bd-a1e361d27224",
   "metadata": {},
   "source": [
    "- `Start Date: 2000년 1월 4일 End Date: 오늘날짜` 선택\n",
    "- 다운로드\n",
    "  \n",
    "![yahoo finance](figures/rnn/22_yahoo_stock2.png)"
   ]
  },
  {
   "cell_type": "code",
   "execution_count": 2,
   "id": "40be850c-b735-4f5a-80f3-eeac47f7a338",
   "metadata": {},
   "outputs": [
    {
     "name": "stdout",
     "output_type": "stream",
     "text": [
      "Collecting torchinfo\n",
      "  Using cached torchinfo-1.8.0-py3-none-any.whl.metadata (21 kB)\n",
      "Using cached torchinfo-1.8.0-py3-none-any.whl (23 kB)\n",
      "Installing collected packages: torchinfo\n",
      "Successfully installed torchinfo-1.8.0\n",
      "Note: you may need to restart the kernel to use updated packages.\n"
     ]
    }
   ],
   "source": [
    "pip install torchinfo"
   ]
  },
  {
   "cell_type": "code",
   "execution_count": 1,
   "id": "e8862e3a-6cb1-44f0-a7c0-fd62fd73352b",
   "metadata": {},
   "outputs": [
    {
     "data": {
      "text/plain": [
       "'cpu'"
      ]
     },
     "execution_count": 1,
     "metadata": {},
     "output_type": "execute_result"
    }
   ],
   "source": [
    "import os\n",
    "import time\n",
    "\n",
    "import numpy as np\n",
    "import pandas as pd\n",
    "import matplotlib.pyplot as plt\n",
    "\n",
    "import torch\n",
    "import torch.nn as nn\n",
    "from torch.utils.data import TensorDataset, DataLoader\n",
    "import torchinfo\n",
    "\n",
    "from sklearn.preprocessing import MinMaxScaler, StandardScaler # MM: y, SS: x\n",
    "from sklearn.model_selection import train_test_split  \n",
    "\n",
    "device = 'cuda' if torch.cuda.is_available() else 'cpu'\n",
    "device"
   ]
  },
  {
   "cell_type": "markdown",
   "id": "f0e09c6c-fea4-4baa-9c22-a4c28a2b8d1f",
   "metadata": {},
   "source": [
    "# DataLoading"
   ]
  },
  {
   "cell_type": "code",
   "execution_count": 28,
   "id": "b669887d-c907-4a0b-97cb-e9f9ad551c88",
   "metadata": {},
   "outputs": [
    {
     "data": {
      "text/plain": [
       "(6122, 7)"
      ]
     },
     "execution_count": 28,
     "metadata": {},
     "output_type": "execute_result"
    }
   ],
   "source": [
    "df = pd.read_csv(\"datasets/005930.KS.csv\")\n",
    "df.shape"
   ]
  },
  {
   "cell_type": "code",
   "execution_count": 29,
   "id": "8f5a51c7-5a99-4106-8151-c5f2b246dd41",
   "metadata": {},
   "outputs": [
    {
     "data": {
      "text/html": [
       "<div>\n",
       "<style scoped>\n",
       "    .dataframe tbody tr th:only-of-type {\n",
       "        vertical-align: middle;\n",
       "    }\n",
       "\n",
       "    .dataframe tbody tr th {\n",
       "        vertical-align: top;\n",
       "    }\n",
       "\n",
       "    .dataframe thead th {\n",
       "        text-align: right;\n",
       "    }\n",
       "</style>\n",
       "<table border=\"1\" class=\"dataframe\">\n",
       "  <thead>\n",
       "    <tr style=\"text-align: right;\">\n",
       "      <th></th>\n",
       "      <th>Date</th>\n",
       "      <th>Open</th>\n",
       "      <th>High</th>\n",
       "      <th>Low</th>\n",
       "      <th>Close</th>\n",
       "      <th>Adj Close</th>\n",
       "      <th>Volume</th>\n",
       "    </tr>\n",
       "  </thead>\n",
       "  <tbody>\n",
       "    <tr>\n",
       "      <th>0</th>\n",
       "      <td>2000-01-04</td>\n",
       "      <td>6000.0</td>\n",
       "      <td>6110.0</td>\n",
       "      <td>5660.0</td>\n",
       "      <td>6110.0</td>\n",
       "      <td>4449.711426</td>\n",
       "      <td>74195000</td>\n",
       "    </tr>\n",
       "    <tr>\n",
       "      <th>1</th>\n",
       "      <td>2000-01-05</td>\n",
       "      <td>5800.0</td>\n",
       "      <td>6060.0</td>\n",
       "      <td>5520.0</td>\n",
       "      <td>5580.0</td>\n",
       "      <td>4063.728760</td>\n",
       "      <td>74680000</td>\n",
       "    </tr>\n",
       "    <tr>\n",
       "      <th>2</th>\n",
       "      <td>2000-01-06</td>\n",
       "      <td>5750.0</td>\n",
       "      <td>5780.0</td>\n",
       "      <td>5580.0</td>\n",
       "      <td>5620.0</td>\n",
       "      <td>4092.860107</td>\n",
       "      <td>54390000</td>\n",
       "    </tr>\n",
       "    <tr>\n",
       "      <th>3</th>\n",
       "      <td>2000-01-07</td>\n",
       "      <td>5560.0</td>\n",
       "      <td>5670.0</td>\n",
       "      <td>5360.0</td>\n",
       "      <td>5540.0</td>\n",
       "      <td>4034.597656</td>\n",
       "      <td>40305000</td>\n",
       "    </tr>\n",
       "    <tr>\n",
       "      <th>4</th>\n",
       "      <td>2000-01-10</td>\n",
       "      <td>5600.0</td>\n",
       "      <td>5770.0</td>\n",
       "      <td>5580.0</td>\n",
       "      <td>5770.0</td>\n",
       "      <td>4202.100586</td>\n",
       "      <td>46880000</td>\n",
       "    </tr>\n",
       "  </tbody>\n",
       "</table>\n",
       "</div>"
      ],
      "text/plain": [
       "         Date    Open    High     Low   Close    Adj Close    Volume\n",
       "0  2000-01-04  6000.0  6110.0  5660.0  6110.0  4449.711426  74195000\n",
       "1  2000-01-05  5800.0  6060.0  5520.0  5580.0  4063.728760  74680000\n",
       "2  2000-01-06  5750.0  5780.0  5580.0  5620.0  4092.860107  54390000\n",
       "3  2000-01-07  5560.0  5670.0  5360.0  5540.0  4034.597656  40305000\n",
       "4  2000-01-10  5600.0  5770.0  5580.0  5770.0  4202.100586  46880000"
      ]
     },
     "execution_count": 29,
     "metadata": {},
     "output_type": "execute_result"
    }
   ],
   "source": [
    "df.head()"
   ]
  },
  {
   "cell_type": "code",
   "execution_count": 30,
   "id": "a511ec4d-a2c6-40dd-859f-71441c3cc3ce",
   "metadata": {},
   "outputs": [
    {
     "data": {
      "text/html": [
       "<div>\n",
       "<style scoped>\n",
       "    .dataframe tbody tr th:only-of-type {\n",
       "        vertical-align: middle;\n",
       "    }\n",
       "\n",
       "    .dataframe tbody tr th {\n",
       "        vertical-align: top;\n",
       "    }\n",
       "\n",
       "    .dataframe thead th {\n",
       "        text-align: right;\n",
       "    }\n",
       "</style>\n",
       "<table border=\"1\" class=\"dataframe\">\n",
       "  <thead>\n",
       "    <tr style=\"text-align: right;\">\n",
       "      <th></th>\n",
       "      <th>Date</th>\n",
       "      <th>Open</th>\n",
       "      <th>High</th>\n",
       "      <th>Low</th>\n",
       "      <th>Close</th>\n",
       "      <th>Adj Close</th>\n",
       "      <th>Volume</th>\n",
       "    </tr>\n",
       "  </thead>\n",
       "  <tbody>\n",
       "    <tr>\n",
       "      <th>6117</th>\n",
       "      <td>2024-05-30</td>\n",
       "      <td>74800.0</td>\n",
       "      <td>75200.0</td>\n",
       "      <td>73500.0</td>\n",
       "      <td>73500.0</td>\n",
       "      <td>73500.0</td>\n",
       "      <td>28551273</td>\n",
       "    </tr>\n",
       "    <tr>\n",
       "      <th>6118</th>\n",
       "      <td>2024-05-31</td>\n",
       "      <td>74500.0</td>\n",
       "      <td>74700.0</td>\n",
       "      <td>73500.0</td>\n",
       "      <td>73500.0</td>\n",
       "      <td>73500.0</td>\n",
       "      <td>26198776</td>\n",
       "    </tr>\n",
       "    <tr>\n",
       "      <th>6119</th>\n",
       "      <td>2024-06-03</td>\n",
       "      <td>74400.0</td>\n",
       "      <td>76400.0</td>\n",
       "      <td>74200.0</td>\n",
       "      <td>75700.0</td>\n",
       "      <td>75700.0</td>\n",
       "      <td>15706268</td>\n",
       "    </tr>\n",
       "    <tr>\n",
       "      <th>6120</th>\n",
       "      <td>2024-06-04</td>\n",
       "      <td>74900.0</td>\n",
       "      <td>76100.0</td>\n",
       "      <td>74900.0</td>\n",
       "      <td>75300.0</td>\n",
       "      <td>75300.0</td>\n",
       "      <td>14098053</td>\n",
       "    </tr>\n",
       "    <tr>\n",
       "      <th>6121</th>\n",
       "      <td>2024-06-05</td>\n",
       "      <td>78000.0</td>\n",
       "      <td>78000.0</td>\n",
       "      <td>76800.0</td>\n",
       "      <td>77400.0</td>\n",
       "      <td>77400.0</td>\n",
       "      <td>23177968</td>\n",
       "    </tr>\n",
       "  </tbody>\n",
       "</table>\n",
       "</div>"
      ],
      "text/plain": [
       "            Date     Open     High      Low    Close  Adj Close    Volume\n",
       "6117  2024-05-30  74800.0  75200.0  73500.0  73500.0    73500.0  28551273\n",
       "6118  2024-05-31  74500.0  74700.0  73500.0  73500.0    73500.0  26198776\n",
       "6119  2024-06-03  74400.0  76400.0  74200.0  75700.0    75700.0  15706268\n",
       "6120  2024-06-04  74900.0  76100.0  74900.0  75300.0    75300.0  14098053\n",
       "6121  2024-06-05  78000.0  78000.0  76800.0  77400.0    77400.0  23177968"
      ]
     },
     "execution_count": 30,
     "metadata": {},
     "output_type": "execute_result"
    }
   ],
   "source": [
    "df.tail()"
   ]
  },
  {
   "cell_type": "code",
   "execution_count": 31,
   "id": "16f0ee40-f5aa-4059-b9cd-3095b53a9222",
   "metadata": {},
   "outputs": [
    {
     "name": "stdout",
     "output_type": "stream",
     "text": [
      "<class 'pandas.core.frame.DataFrame'>\n",
      "RangeIndex: 6122 entries, 0 to 6121\n",
      "Data columns (total 7 columns):\n",
      " #   Column     Non-Null Count  Dtype  \n",
      "---  ------     --------------  -----  \n",
      " 0   Date       6122 non-null   object \n",
      " 1   Open       6122 non-null   float64\n",
      " 2   High       6122 non-null   float64\n",
      " 3   Low        6122 non-null   float64\n",
      " 4   Close      6122 non-null   float64\n",
      " 5   Adj Close  6122 non-null   float64\n",
      " 6   Volume     6122 non-null   int64  \n",
      "dtypes: float64(5), int64(1), object(1)\n",
      "memory usage: 334.9+ KB\n"
     ]
    }
   ],
   "source": [
    "df.info()"
   ]
  },
  {
   "cell_type": "code",
   "execution_count": 32,
   "id": "bdc059aa-702f-48d8-ae59-7139f2051d5c",
   "metadata": {
    "scrolled": true
   },
   "outputs": [
    {
     "name": "stdout",
     "output_type": "stream",
     "text": [
      "<class 'pandas.core.frame.DataFrame'>\n",
      "RangeIndex: 6122 entries, 0 to 6121\n",
      "Data columns (total 7 columns):\n",
      " #   Column     Non-Null Count  Dtype         \n",
      "---  ------     --------------  -----         \n",
      " 0   Date       6122 non-null   datetime64[ns]\n",
      " 1   Open       6122 non-null   float64       \n",
      " 2   High       6122 non-null   float64       \n",
      " 3   Low        6122 non-null   float64       \n",
      " 4   Close      6122 non-null   float64       \n",
      " 5   Adj Close  6122 non-null   float64       \n",
      " 6   Volume     6122 non-null   int64         \n",
      "dtypes: datetime64[ns](1), float64(5), int64(1)\n",
      "memory usage: 334.9 KB\n"
     ]
    }
   ],
   "source": [
    "### 시계열 데이터 -> 날짜(일시)를 index로 만든다.\n",
    "df[\"Date\"] = pd.to_datetime(df[\"Date\"])\n",
    "df.info()"
   ]
  },
  {
   "cell_type": "code",
   "execution_count": 34,
   "id": "b8876716-0c57-4ddb-a7a1-f3ab0a3cc051",
   "metadata": {},
   "outputs": [],
   "source": [
    "df.set_index(\"Date\", inplace=True)  # 컬럼->index name"
   ]
  },
  {
   "cell_type": "code",
   "execution_count": 35,
   "id": "87b2e616-5d8f-4dde-b266-fca6c47003c0",
   "metadata": {},
   "outputs": [
    {
     "data": {
      "text/html": [
       "<div>\n",
       "<style scoped>\n",
       "    .dataframe tbody tr th:only-of-type {\n",
       "        vertical-align: middle;\n",
       "    }\n",
       "\n",
       "    .dataframe tbody tr th {\n",
       "        vertical-align: top;\n",
       "    }\n",
       "\n",
       "    .dataframe thead th {\n",
       "        text-align: right;\n",
       "    }\n",
       "</style>\n",
       "<table border=\"1\" class=\"dataframe\">\n",
       "  <thead>\n",
       "    <tr style=\"text-align: right;\">\n",
       "      <th></th>\n",
       "      <th>Open</th>\n",
       "      <th>High</th>\n",
       "      <th>Low</th>\n",
       "      <th>Close</th>\n",
       "      <th>Adj Close</th>\n",
       "      <th>Volume</th>\n",
       "    </tr>\n",
       "    <tr>\n",
       "      <th>Date</th>\n",
       "      <th></th>\n",
       "      <th></th>\n",
       "      <th></th>\n",
       "      <th></th>\n",
       "      <th></th>\n",
       "      <th></th>\n",
       "    </tr>\n",
       "  </thead>\n",
       "  <tbody>\n",
       "    <tr>\n",
       "      <th>2000-01-04</th>\n",
       "      <td>6000.0</td>\n",
       "      <td>6110.0</td>\n",
       "      <td>5660.0</td>\n",
       "      <td>6110.0</td>\n",
       "      <td>4449.711426</td>\n",
       "      <td>74195000</td>\n",
       "    </tr>\n",
       "    <tr>\n",
       "      <th>2000-01-05</th>\n",
       "      <td>5800.0</td>\n",
       "      <td>6060.0</td>\n",
       "      <td>5520.0</td>\n",
       "      <td>5580.0</td>\n",
       "      <td>4063.728760</td>\n",
       "      <td>74680000</td>\n",
       "    </tr>\n",
       "    <tr>\n",
       "      <th>2000-01-06</th>\n",
       "      <td>5750.0</td>\n",
       "      <td>5780.0</td>\n",
       "      <td>5580.0</td>\n",
       "      <td>5620.0</td>\n",
       "      <td>4092.860107</td>\n",
       "      <td>54390000</td>\n",
       "    </tr>\n",
       "    <tr>\n",
       "      <th>2000-01-07</th>\n",
       "      <td>5560.0</td>\n",
       "      <td>5670.0</td>\n",
       "      <td>5360.0</td>\n",
       "      <td>5540.0</td>\n",
       "      <td>4034.597656</td>\n",
       "      <td>40305000</td>\n",
       "    </tr>\n",
       "    <tr>\n",
       "      <th>2000-01-10</th>\n",
       "      <td>5600.0</td>\n",
       "      <td>5770.0</td>\n",
       "      <td>5580.0</td>\n",
       "      <td>5770.0</td>\n",
       "      <td>4202.100586</td>\n",
       "      <td>46880000</td>\n",
       "    </tr>\n",
       "  </tbody>\n",
       "</table>\n",
       "</div>"
      ],
      "text/plain": [
       "              Open    High     Low   Close    Adj Close    Volume\n",
       "Date                                                             \n",
       "2000-01-04  6000.0  6110.0  5660.0  6110.0  4449.711426  74195000\n",
       "2000-01-05  5800.0  6060.0  5520.0  5580.0  4063.728760  74680000\n",
       "2000-01-06  5750.0  5780.0  5580.0  5620.0  4092.860107  54390000\n",
       "2000-01-07  5560.0  5670.0  5360.0  5540.0  4034.597656  40305000\n",
       "2000-01-10  5600.0  5770.0  5580.0  5770.0  4202.100586  46880000"
      ]
     },
     "execution_count": 35,
     "metadata": {},
     "output_type": "execute_result"
    }
   ],
   "source": [
    "df.head()"
   ]
  },
  {
   "cell_type": "code",
   "execution_count": 36,
   "id": "09b882c5-3d1b-4dec-8df4-ad2d2ca59d49",
   "metadata": {},
   "outputs": [
    {
     "data": {
      "text/plain": [
       "Open         0\n",
       "High         0\n",
       "Low          0\n",
       "Close        0\n",
       "Adj Close    0\n",
       "Volume       0\n",
       "dtype: int64"
      ]
     },
     "execution_count": 36,
     "metadata": {},
     "output_type": "execute_result"
    }
   ],
   "source": [
    "# 결측치 확인\n",
    "df.isna().sum()"
   ]
  },
  {
   "cell_type": "code",
   "execution_count": 37,
   "id": "c3f269a1-1532-4854-846a-4f3a96f40542",
   "metadata": {},
   "outputs": [],
   "source": [
    "# Adj Close 컬럼을 제거 (Close와 같은 값을 표현하는 컬럼이므로 제거.)\n",
    "df.drop(columns=\"Adj Close\", inplace=True)"
   ]
  },
  {
   "cell_type": "code",
   "execution_count": 38,
   "id": "bde5e603-e90b-4fdf-b8b1-b7ed4be63aa9",
   "metadata": {},
   "outputs": [
    {
     "data": {
      "text/html": [
       "<div>\n",
       "<style scoped>\n",
       "    .dataframe tbody tr th:only-of-type {\n",
       "        vertical-align: middle;\n",
       "    }\n",
       "\n",
       "    .dataframe tbody tr th {\n",
       "        vertical-align: top;\n",
       "    }\n",
       "\n",
       "    .dataframe thead th {\n",
       "        text-align: right;\n",
       "    }\n",
       "</style>\n",
       "<table border=\"1\" class=\"dataframe\">\n",
       "  <thead>\n",
       "    <tr style=\"text-align: right;\">\n",
       "      <th></th>\n",
       "      <th>Open</th>\n",
       "      <th>High</th>\n",
       "      <th>Low</th>\n",
       "      <th>Close</th>\n",
       "      <th>Volume</th>\n",
       "    </tr>\n",
       "    <tr>\n",
       "      <th>Date</th>\n",
       "      <th></th>\n",
       "      <th></th>\n",
       "      <th></th>\n",
       "      <th></th>\n",
       "      <th></th>\n",
       "    </tr>\n",
       "  </thead>\n",
       "  <tbody>\n",
       "    <tr>\n",
       "      <th>2000-01-04</th>\n",
       "      <td>6000.0</td>\n",
       "      <td>6110.0</td>\n",
       "      <td>5660.0</td>\n",
       "      <td>6110.0</td>\n",
       "      <td>74195000</td>\n",
       "    </tr>\n",
       "    <tr>\n",
       "      <th>2000-01-05</th>\n",
       "      <td>5800.0</td>\n",
       "      <td>6060.0</td>\n",
       "      <td>5520.0</td>\n",
       "      <td>5580.0</td>\n",
       "      <td>74680000</td>\n",
       "    </tr>\n",
       "    <tr>\n",
       "      <th>2000-01-06</th>\n",
       "      <td>5750.0</td>\n",
       "      <td>5780.0</td>\n",
       "      <td>5580.0</td>\n",
       "      <td>5620.0</td>\n",
       "      <td>54390000</td>\n",
       "    </tr>\n",
       "    <tr>\n",
       "      <th>2000-01-07</th>\n",
       "      <td>5560.0</td>\n",
       "      <td>5670.0</td>\n",
       "      <td>5360.0</td>\n",
       "      <td>5540.0</td>\n",
       "      <td>40305000</td>\n",
       "    </tr>\n",
       "    <tr>\n",
       "      <th>2000-01-10</th>\n",
       "      <td>5600.0</td>\n",
       "      <td>5770.0</td>\n",
       "      <td>5580.0</td>\n",
       "      <td>5770.0</td>\n",
       "      <td>46880000</td>\n",
       "    </tr>\n",
       "    <tr>\n",
       "      <th>2000-01-11</th>\n",
       "      <td>5820.0</td>\n",
       "      <td>6100.0</td>\n",
       "      <td>5770.0</td>\n",
       "      <td>5770.0</td>\n",
       "      <td>59745000</td>\n",
       "    </tr>\n",
       "    <tr>\n",
       "      <th>2000-01-12</th>\n",
       "      <td>5610.0</td>\n",
       "      <td>5740.0</td>\n",
       "      <td>5600.0</td>\n",
       "      <td>5720.0</td>\n",
       "      <td>29220000</td>\n",
       "    </tr>\n",
       "    <tr>\n",
       "      <th>2000-01-13</th>\n",
       "      <td>5600.0</td>\n",
       "      <td>5740.0</td>\n",
       "      <td>5560.0</td>\n",
       "      <td>5710.0</td>\n",
       "      <td>41190000</td>\n",
       "    </tr>\n",
       "    <tr>\n",
       "      <th>2000-01-14</th>\n",
       "      <td>5720.0</td>\n",
       "      <td>5880.0</td>\n",
       "      <td>5680.0</td>\n",
       "      <td>5830.0</td>\n",
       "      <td>49375000</td>\n",
       "    </tr>\n",
       "    <tr>\n",
       "      <th>2000-01-17</th>\n",
       "      <td>6000.0</td>\n",
       "      <td>6180.0</td>\n",
       "      <td>5920.0</td>\n",
       "      <td>6100.0</td>\n",
       "      <td>63505000</td>\n",
       "    </tr>\n",
       "    <tr>\n",
       "      <th>2000-01-18</th>\n",
       "      <td>6160.0</td>\n",
       "      <td>6160.0</td>\n",
       "      <td>5980.0</td>\n",
       "      <td>6100.0</td>\n",
       "      <td>45260000</td>\n",
       "    </tr>\n",
       "    <tr>\n",
       "      <th>2000-01-19</th>\n",
       "      <td>6000.0</td>\n",
       "      <td>6040.0</td>\n",
       "      <td>5960.0</td>\n",
       "      <td>5960.0</td>\n",
       "      <td>40205000</td>\n",
       "    </tr>\n",
       "    <tr>\n",
       "      <th>2000-01-20</th>\n",
       "      <td>5860.0</td>\n",
       "      <td>6040.0</td>\n",
       "      <td>5820.0</td>\n",
       "      <td>6040.0</td>\n",
       "      <td>37315000</td>\n",
       "    </tr>\n",
       "    <tr>\n",
       "      <th>2000-01-21</th>\n",
       "      <td>5950.0</td>\n",
       "      <td>5980.0</td>\n",
       "      <td>5880.0</td>\n",
       "      <td>5880.0</td>\n",
       "      <td>32535000</td>\n",
       "    </tr>\n",
       "    <tr>\n",
       "      <th>2000-01-24</th>\n",
       "      <td>5800.0</td>\n",
       "      <td>5900.0</td>\n",
       "      <td>5700.0</td>\n",
       "      <td>5700.0</td>\n",
       "      <td>34355000</td>\n",
       "    </tr>\n",
       "    <tr>\n",
       "      <th>2000-01-25</th>\n",
       "      <td>5520.0</td>\n",
       "      <td>5640.0</td>\n",
       "      <td>5440.0</td>\n",
       "      <td>5440.0</td>\n",
       "      <td>44250000</td>\n",
       "    </tr>\n",
       "    <tr>\n",
       "      <th>2000-01-26</th>\n",
       "      <td>5500.0</td>\n",
       "      <td>5520.0</td>\n",
       "      <td>5410.0</td>\n",
       "      <td>5480.0</td>\n",
       "      <td>29285000</td>\n",
       "    </tr>\n",
       "    <tr>\n",
       "      <th>2000-01-27</th>\n",
       "      <td>5480.0</td>\n",
       "      <td>5620.0</td>\n",
       "      <td>5430.0</td>\n",
       "      <td>5520.0</td>\n",
       "      <td>27900000</td>\n",
       "    </tr>\n",
       "    <tr>\n",
       "      <th>2000-01-28</th>\n",
       "      <td>5640.0</td>\n",
       "      <td>5880.0</td>\n",
       "      <td>5540.0</td>\n",
       "      <td>5820.0</td>\n",
       "      <td>38315000</td>\n",
       "    </tr>\n",
       "    <tr>\n",
       "      <th>2000-01-31</th>\n",
       "      <td>5640.0</td>\n",
       "      <td>5730.0</td>\n",
       "      <td>5560.0</td>\n",
       "      <td>5580.0</td>\n",
       "      <td>39630000</td>\n",
       "    </tr>\n",
       "    <tr>\n",
       "      <th>2000-02-01</th>\n",
       "      <td>5600.0</td>\n",
       "      <td>5680.0</td>\n",
       "      <td>5260.0</td>\n",
       "      <td>5320.0</td>\n",
       "      <td>71470000</td>\n",
       "    </tr>\n",
       "    <tr>\n",
       "      <th>2000-02-02</th>\n",
       "      <td>5220.0</td>\n",
       "      <td>5370.0</td>\n",
       "      <td>5110.0</td>\n",
       "      <td>5250.0</td>\n",
       "      <td>64105000</td>\n",
       "    </tr>\n",
       "    <tr>\n",
       "      <th>2000-02-03</th>\n",
       "      <td>5250.0</td>\n",
       "      <td>5460.0</td>\n",
       "      <td>4970.0</td>\n",
       "      <td>5130.0</td>\n",
       "      <td>142765000</td>\n",
       "    </tr>\n",
       "    <tr>\n",
       "      <th>2000-02-04</th>\n",
       "      <td>5130.0</td>\n",
       "      <td>5130.0</td>\n",
       "      <td>5130.0</td>\n",
       "      <td>5130.0</td>\n",
       "      <td>0</td>\n",
       "    </tr>\n",
       "    <tr>\n",
       "      <th>2000-02-07</th>\n",
       "      <td>5140.0</td>\n",
       "      <td>5330.0</td>\n",
       "      <td>5040.0</td>\n",
       "      <td>5240.0</td>\n",
       "      <td>64140000</td>\n",
       "    </tr>\n",
       "    <tr>\n",
       "      <th>2000-02-08</th>\n",
       "      <td>5340.0</td>\n",
       "      <td>5480.0</td>\n",
       "      <td>5310.0</td>\n",
       "      <td>5430.0</td>\n",
       "      <td>58460000</td>\n",
       "    </tr>\n",
       "    <tr>\n",
       "      <th>2000-02-09</th>\n",
       "      <td>5560.0</td>\n",
       "      <td>5720.0</td>\n",
       "      <td>5480.0</td>\n",
       "      <td>5720.0</td>\n",
       "      <td>51050000</td>\n",
       "    </tr>\n",
       "    <tr>\n",
       "      <th>2000-02-10</th>\n",
       "      <td>5660.0</td>\n",
       "      <td>5880.0</td>\n",
       "      <td>5600.0</td>\n",
       "      <td>5760.0</td>\n",
       "      <td>61845000</td>\n",
       "    </tr>\n",
       "    <tr>\n",
       "      <th>2000-02-11</th>\n",
       "      <td>5960.0</td>\n",
       "      <td>5960.0</td>\n",
       "      <td>5680.0</td>\n",
       "      <td>5700.0</td>\n",
       "      <td>34660000</td>\n",
       "    </tr>\n",
       "    <tr>\n",
       "      <th>2000-02-14</th>\n",
       "      <td>5600.0</td>\n",
       "      <td>5660.0</td>\n",
       "      <td>5340.0</td>\n",
       "      <td>5380.0</td>\n",
       "      <td>44140000</td>\n",
       "    </tr>\n",
       "    <tr>\n",
       "      <th>2000-02-15</th>\n",
       "      <td>5380.0</td>\n",
       "      <td>5420.0</td>\n",
       "      <td>5140.0</td>\n",
       "      <td>5200.0</td>\n",
       "      <td>38315000</td>\n",
       "    </tr>\n",
       "    <tr>\n",
       "      <th>2000-02-16</th>\n",
       "      <td>5180.0</td>\n",
       "      <td>5200.0</td>\n",
       "      <td>4780.0</td>\n",
       "      <td>5000.0</td>\n",
       "      <td>73115000</td>\n",
       "    </tr>\n",
       "    <tr>\n",
       "      <th>2000-02-17</th>\n",
       "      <td>4940.0</td>\n",
       "      <td>5100.0</td>\n",
       "      <td>4910.0</td>\n",
       "      <td>5080.0</td>\n",
       "      <td>65185000</td>\n",
       "    </tr>\n",
       "    <tr>\n",
       "      <th>2000-02-18</th>\n",
       "      <td>5370.0</td>\n",
       "      <td>5630.0</td>\n",
       "      <td>5160.0</td>\n",
       "      <td>5300.0</td>\n",
       "      <td>108750000</td>\n",
       "    </tr>\n",
       "    <tr>\n",
       "      <th>2000-02-21</th>\n",
       "      <td>5200.0</td>\n",
       "      <td>5260.0</td>\n",
       "      <td>5030.0</td>\n",
       "      <td>5070.0</td>\n",
       "      <td>26485000</td>\n",
       "    </tr>\n",
       "    <tr>\n",
       "      <th>2000-02-22</th>\n",
       "      <td>5000.0</td>\n",
       "      <td>5240.0</td>\n",
       "      <td>5000.0</td>\n",
       "      <td>5120.0</td>\n",
       "      <td>24180000</td>\n",
       "    </tr>\n",
       "    <tr>\n",
       "      <th>2000-02-23</th>\n",
       "      <td>5220.0</td>\n",
       "      <td>5260.0</td>\n",
       "      <td>5100.0</td>\n",
       "      <td>5140.0</td>\n",
       "      <td>27720000</td>\n",
       "    </tr>\n",
       "    <tr>\n",
       "      <th>2000-02-24</th>\n",
       "      <td>5120.0</td>\n",
       "      <td>5240.0</td>\n",
       "      <td>5060.0</td>\n",
       "      <td>5070.0</td>\n",
       "      <td>26075000</td>\n",
       "    </tr>\n",
       "    <tr>\n",
       "      <th>2000-02-25</th>\n",
       "      <td>5080.0</td>\n",
       "      <td>5150.0</td>\n",
       "      <td>4980.0</td>\n",
       "      <td>5120.0</td>\n",
       "      <td>27875000</td>\n",
       "    </tr>\n",
       "    <tr>\n",
       "      <th>2000-02-28</th>\n",
       "      <td>5000.0</td>\n",
       "      <td>5050.0</td>\n",
       "      <td>4800.0</td>\n",
       "      <td>4800.0</td>\n",
       "      <td>30140000</td>\n",
       "    </tr>\n",
       "    <tr>\n",
       "      <th>2000-02-29</th>\n",
       "      <td>4900.0</td>\n",
       "      <td>5140.0</td>\n",
       "      <td>4840.0</td>\n",
       "      <td>5120.0</td>\n",
       "      <td>51820000</td>\n",
       "    </tr>\n",
       "    <tr>\n",
       "      <th>2000-03-01</th>\n",
       "      <td>5120.0</td>\n",
       "      <td>5120.0</td>\n",
       "      <td>5120.0</td>\n",
       "      <td>5120.0</td>\n",
       "      <td>0</td>\n",
       "    </tr>\n",
       "    <tr>\n",
       "      <th>2000-03-02</th>\n",
       "      <td>5880.0</td>\n",
       "      <td>5880.0</td>\n",
       "      <td>5520.0</td>\n",
       "      <td>5880.0</td>\n",
       "      <td>117750000</td>\n",
       "    </tr>\n",
       "    <tr>\n",
       "      <th>2000-03-03</th>\n",
       "      <td>6200.0</td>\n",
       "      <td>6250.0</td>\n",
       "      <td>5880.0</td>\n",
       "      <td>6000.0</td>\n",
       "      <td>140990000</td>\n",
       "    </tr>\n",
       "    <tr>\n",
       "      <th>2000-03-06</th>\n",
       "      <td>6000.0</td>\n",
       "      <td>6050.0</td>\n",
       "      <td>5600.0</td>\n",
       "      <td>5640.0</td>\n",
       "      <td>39150000</td>\n",
       "    </tr>\n",
       "    <tr>\n",
       "      <th>2000-03-07</th>\n",
       "      <td>5600.0</td>\n",
       "      <td>5640.0</td>\n",
       "      <td>5480.0</td>\n",
       "      <td>5620.0</td>\n",
       "      <td>30070000</td>\n",
       "    </tr>\n",
       "    <tr>\n",
       "      <th>2000-03-08</th>\n",
       "      <td>5520.0</td>\n",
       "      <td>6000.0</td>\n",
       "      <td>5500.0</td>\n",
       "      <td>5920.0</td>\n",
       "      <td>32460000</td>\n",
       "    </tr>\n",
       "    <tr>\n",
       "      <th>2000-03-09</th>\n",
       "      <td>5970.0</td>\n",
       "      <td>5980.0</td>\n",
       "      <td>5620.0</td>\n",
       "      <td>5620.0</td>\n",
       "      <td>55890000</td>\n",
       "    </tr>\n",
       "    <tr>\n",
       "      <th>2000-03-10</th>\n",
       "      <td>5790.0</td>\n",
       "      <td>5800.0</td>\n",
       "      <td>5520.0</td>\n",
       "      <td>5540.0</td>\n",
       "      <td>28605000</td>\n",
       "    </tr>\n",
       "    <tr>\n",
       "      <th>2000-03-13</th>\n",
       "      <td>5480.0</td>\n",
       "      <td>5490.0</td>\n",
       "      <td>5160.0</td>\n",
       "      <td>5180.0</td>\n",
       "      <td>32215000</td>\n",
       "    </tr>\n",
       "    <tr>\n",
       "      <th>2000-03-14</th>\n",
       "      <td>5170.0</td>\n",
       "      <td>5380.0</td>\n",
       "      <td>5160.0</td>\n",
       "      <td>5210.0</td>\n",
       "      <td>30060000</td>\n",
       "    </tr>\n",
       "    <tr>\n",
       "      <th>2000-03-15</th>\n",
       "      <td>5200.0</td>\n",
       "      <td>5400.0</td>\n",
       "      <td>5120.0</td>\n",
       "      <td>5400.0</td>\n",
       "      <td>46105000</td>\n",
       "    </tr>\n",
       "  </tbody>\n",
       "</table>\n",
       "</div>"
      ],
      "text/plain": [
       "              Open    High     Low   Close     Volume\n",
       "Date                                                 \n",
       "2000-01-04  6000.0  6110.0  5660.0  6110.0   74195000\n",
       "2000-01-05  5800.0  6060.0  5520.0  5580.0   74680000\n",
       "2000-01-06  5750.0  5780.0  5580.0  5620.0   54390000\n",
       "2000-01-07  5560.0  5670.0  5360.0  5540.0   40305000\n",
       "2000-01-10  5600.0  5770.0  5580.0  5770.0   46880000\n",
       "2000-01-11  5820.0  6100.0  5770.0  5770.0   59745000\n",
       "2000-01-12  5610.0  5740.0  5600.0  5720.0   29220000\n",
       "2000-01-13  5600.0  5740.0  5560.0  5710.0   41190000\n",
       "2000-01-14  5720.0  5880.0  5680.0  5830.0   49375000\n",
       "2000-01-17  6000.0  6180.0  5920.0  6100.0   63505000\n",
       "2000-01-18  6160.0  6160.0  5980.0  6100.0   45260000\n",
       "2000-01-19  6000.0  6040.0  5960.0  5960.0   40205000\n",
       "2000-01-20  5860.0  6040.0  5820.0  6040.0   37315000\n",
       "2000-01-21  5950.0  5980.0  5880.0  5880.0   32535000\n",
       "2000-01-24  5800.0  5900.0  5700.0  5700.0   34355000\n",
       "2000-01-25  5520.0  5640.0  5440.0  5440.0   44250000\n",
       "2000-01-26  5500.0  5520.0  5410.0  5480.0   29285000\n",
       "2000-01-27  5480.0  5620.0  5430.0  5520.0   27900000\n",
       "2000-01-28  5640.0  5880.0  5540.0  5820.0   38315000\n",
       "2000-01-31  5640.0  5730.0  5560.0  5580.0   39630000\n",
       "2000-02-01  5600.0  5680.0  5260.0  5320.0   71470000\n",
       "2000-02-02  5220.0  5370.0  5110.0  5250.0   64105000\n",
       "2000-02-03  5250.0  5460.0  4970.0  5130.0  142765000\n",
       "2000-02-04  5130.0  5130.0  5130.0  5130.0          0\n",
       "2000-02-07  5140.0  5330.0  5040.0  5240.0   64140000\n",
       "2000-02-08  5340.0  5480.0  5310.0  5430.0   58460000\n",
       "2000-02-09  5560.0  5720.0  5480.0  5720.0   51050000\n",
       "2000-02-10  5660.0  5880.0  5600.0  5760.0   61845000\n",
       "2000-02-11  5960.0  5960.0  5680.0  5700.0   34660000\n",
       "2000-02-14  5600.0  5660.0  5340.0  5380.0   44140000\n",
       "2000-02-15  5380.0  5420.0  5140.0  5200.0   38315000\n",
       "2000-02-16  5180.0  5200.0  4780.0  5000.0   73115000\n",
       "2000-02-17  4940.0  5100.0  4910.0  5080.0   65185000\n",
       "2000-02-18  5370.0  5630.0  5160.0  5300.0  108750000\n",
       "2000-02-21  5200.0  5260.0  5030.0  5070.0   26485000\n",
       "2000-02-22  5000.0  5240.0  5000.0  5120.0   24180000\n",
       "2000-02-23  5220.0  5260.0  5100.0  5140.0   27720000\n",
       "2000-02-24  5120.0  5240.0  5060.0  5070.0   26075000\n",
       "2000-02-25  5080.0  5150.0  4980.0  5120.0   27875000\n",
       "2000-02-28  5000.0  5050.0  4800.0  4800.0   30140000\n",
       "2000-02-29  4900.0  5140.0  4840.0  5120.0   51820000\n",
       "2000-03-01  5120.0  5120.0  5120.0  5120.0          0\n",
       "2000-03-02  5880.0  5880.0  5520.0  5880.0  117750000\n",
       "2000-03-03  6200.0  6250.0  5880.0  6000.0  140990000\n",
       "2000-03-06  6000.0  6050.0  5600.0  5640.0   39150000\n",
       "2000-03-07  5600.0  5640.0  5480.0  5620.0   30070000\n",
       "2000-03-08  5520.0  6000.0  5500.0  5920.0   32460000\n",
       "2000-03-09  5970.0  5980.0  5620.0  5620.0   55890000\n",
       "2000-03-10  5790.0  5800.0  5520.0  5540.0   28605000\n",
       "2000-03-13  5480.0  5490.0  5160.0  5180.0   32215000\n",
       "2000-03-14  5170.0  5380.0  5160.0  5210.0   30060000\n",
       "2000-03-15  5200.0  5400.0  5120.0  5400.0   46105000"
      ]
     },
     "execution_count": 38,
     "metadata": {},
     "output_type": "execute_result"
    }
   ],
   "source": [
    "df.head(52)"
   ]
  },
  {
   "cell_type": "markdown",
   "id": "b01d69fb",
   "metadata": {},
   "source": [
    "# Dataset 구성\n",
    "## input, output data\n",
    "- input (X)) feature 구성: \\[Open, High, Low, Close, Volumn  (Adj Close 제외)\\] 50일치\n",
    "- output (y) : Close - input 다음날 Close가격"
   ]
  },
  {
   "cell_type": "code",
   "execution_count": 39,
   "id": "baef8cb4-7212-41d4-92c4-d391e164f0e6",
   "metadata": {},
   "outputs": [
    {
     "data": {
      "text/plain": [
       "((6122, 5), (6122, 1))"
      ]
     },
     "execution_count": 39,
     "metadata": {},
     "output_type": "execute_result"
    }
   ],
   "source": [
    "# X(input), y(output) 분리\n",
    "X_df = df\n",
    "y_df = df['Close'].to_frame()  # Series -> DataFrame\n",
    "X_df.shape, y_df.shape"
   ]
  },
  {
   "cell_type": "code",
   "execution_count": 40,
   "id": "91dda105-b417-46c4-a683-7ff81505f7d2",
   "metadata": {},
   "outputs": [
    {
     "data": {
      "text/html": [
       "<div>\n",
       "<style scoped>\n",
       "    .dataframe tbody tr th:only-of-type {\n",
       "        vertical-align: middle;\n",
       "    }\n",
       "\n",
       "    .dataframe tbody tr th {\n",
       "        vertical-align: top;\n",
       "    }\n",
       "\n",
       "    .dataframe thead th {\n",
       "        text-align: right;\n",
       "    }\n",
       "</style>\n",
       "<table border=\"1\" class=\"dataframe\">\n",
       "  <thead>\n",
       "    <tr style=\"text-align: right;\">\n",
       "      <th></th>\n",
       "      <th>Open</th>\n",
       "      <th>High</th>\n",
       "      <th>Low</th>\n",
       "      <th>Close</th>\n",
       "      <th>Volume</th>\n",
       "    </tr>\n",
       "    <tr>\n",
       "      <th>Date</th>\n",
       "      <th></th>\n",
       "      <th></th>\n",
       "      <th></th>\n",
       "      <th></th>\n",
       "      <th></th>\n",
       "    </tr>\n",
       "  </thead>\n",
       "  <tbody>\n",
       "    <tr>\n",
       "      <th>2000-01-04</th>\n",
       "      <td>6000.0</td>\n",
       "      <td>6110.0</td>\n",
       "      <td>5660.0</td>\n",
       "      <td>6110.0</td>\n",
       "      <td>74195000</td>\n",
       "    </tr>\n",
       "    <tr>\n",
       "      <th>2000-01-05</th>\n",
       "      <td>5800.0</td>\n",
       "      <td>6060.0</td>\n",
       "      <td>5520.0</td>\n",
       "      <td>5580.0</td>\n",
       "      <td>74680000</td>\n",
       "    </tr>\n",
       "    <tr>\n",
       "      <th>2000-01-06</th>\n",
       "      <td>5750.0</td>\n",
       "      <td>5780.0</td>\n",
       "      <td>5580.0</td>\n",
       "      <td>5620.0</td>\n",
       "      <td>54390000</td>\n",
       "    </tr>\n",
       "  </tbody>\n",
       "</table>\n",
       "</div>"
      ],
      "text/plain": [
       "              Open    High     Low   Close    Volume\n",
       "Date                                                \n",
       "2000-01-04  6000.0  6110.0  5660.0  6110.0  74195000\n",
       "2000-01-05  5800.0  6060.0  5520.0  5580.0  74680000\n",
       "2000-01-06  5750.0  5780.0  5580.0  5620.0  54390000"
      ]
     },
     "execution_count": 40,
     "metadata": {},
     "output_type": "execute_result"
    }
   ],
   "source": [
    "X_df.head(3)"
   ]
  },
  {
   "cell_type": "code",
   "execution_count": 41,
   "id": "e495adda-cd0c-4b28-904c-254c7310ec21",
   "metadata": {},
   "outputs": [
    {
     "data": {
      "text/html": [
       "<div>\n",
       "<style scoped>\n",
       "    .dataframe tbody tr th:only-of-type {\n",
       "        vertical-align: middle;\n",
       "    }\n",
       "\n",
       "    .dataframe tbody tr th {\n",
       "        vertical-align: top;\n",
       "    }\n",
       "\n",
       "    .dataframe thead th {\n",
       "        text-align: right;\n",
       "    }\n",
       "</style>\n",
       "<table border=\"1\" class=\"dataframe\">\n",
       "  <thead>\n",
       "    <tr style=\"text-align: right;\">\n",
       "      <th></th>\n",
       "      <th>Close</th>\n",
       "    </tr>\n",
       "    <tr>\n",
       "      <th>Date</th>\n",
       "      <th></th>\n",
       "    </tr>\n",
       "  </thead>\n",
       "  <tbody>\n",
       "    <tr>\n",
       "      <th>2000-01-04</th>\n",
       "      <td>6110.0</td>\n",
       "    </tr>\n",
       "    <tr>\n",
       "      <th>2000-01-05</th>\n",
       "      <td>5580.0</td>\n",
       "    </tr>\n",
       "    <tr>\n",
       "      <th>2000-01-06</th>\n",
       "      <td>5620.0</td>\n",
       "    </tr>\n",
       "  </tbody>\n",
       "</table>\n",
       "</div>"
      ],
      "text/plain": [
       "             Close\n",
       "Date              \n",
       "2000-01-04  6110.0\n",
       "2000-01-05  5580.0\n",
       "2000-01-06  5620.0"
      ]
     },
     "execution_count": 41,
     "metadata": {},
     "output_type": "execute_result"
    }
   ],
   "source": [
    "y_df.head(3)"
   ]
  },
  {
   "cell_type": "markdown",
   "id": "e9cddb41",
   "metadata": {},
   "source": [
    "## 전처리\n",
    "- feature scaling\n",
    "    - feature 간의 scaling(단위)을 맞추는 작업.\n",
    "- X: Standard Scaling (평균: 0, 표준편차: 1)\n",
    "- y: MinMax Scaling (최소: 0, 최대: 1)  => X의 scale과 비슷한 값으로 변환."
   ]
  },
  {
   "cell_type": "code",
   "execution_count": 42,
   "id": "a1a70c74-bd92-416a-9b13-e0a5f559b3bb",
   "metadata": {},
   "outputs": [
    {
     "data": {
      "text/plain": [
       "((6122, 5), (6122, 1))"
      ]
     },
     "execution_count": 42,
     "metadata": {},
     "output_type": "execute_result"
    }
   ],
   "source": [
    "x_scaler = StandardScaler()\n",
    "y_scaler = MinMaxScaler()\n",
    "\n",
    "X = x_scaler.fit_transform(X_df) # 입력: DataFrame -> 출력: ndarray\n",
    "y = y_scaler.fit_transform(y_df)\n",
    "X.shape, y.shape"
   ]
  },
  {
   "cell_type": "code",
   "execution_count": 43,
   "id": "07e15f90-da90-4933-ab41-2dab88f33bf5",
   "metadata": {},
   "outputs": [
    {
     "data": {
      "text/plain": [
       "array([[-0.99007851, -0.98965518, -1.00112858, -0.98571511,  3.51992614],\n",
       "       [-0.99894601, -0.99185497, -1.00738983, -1.00923676,  3.55212512],\n",
       "       [-1.00116289, -1.00417382, -1.00470644, -1.00746154,  2.20507915],\n",
       "       [-1.00958702, -1.00901336, -1.01454554, -1.01101197,  1.26998095],\n",
       "       [-1.00781352, -1.00461378, -1.00470644, -1.00080447,  1.70649289]])"
      ]
     },
     "execution_count": 43,
     "metadata": {},
     "output_type": "execute_result"
    }
   ],
   "source": [
    "X[:5]"
   ]
  },
  {
   "cell_type": "code",
   "execution_count": 44,
   "id": "4675a56f-0003-441c-8858-526b3177a4c7",
   "metadata": {},
   "outputs": [
    {
     "data": {
      "text/plain": [
       "array([[0.03829161],\n",
       "       [0.0322873 ],\n",
       "       [0.03274046],\n",
       "       [0.03183415],\n",
       "       [0.03443979]])"
      ]
     },
     "execution_count": 44,
     "metadata": {},
     "output_type": "execute_result"
    }
   ],
   "source": [
    "y[:5]"
   ]
  },
  {
   "cell_type": "code",
   "execution_count": null,
   "id": "6f987b85-33fb-4024-b6b5-dfdebb50c754",
   "metadata": {},
   "outputs": [],
   "source": []
  },
  {
   "cell_type": "markdown",
   "id": "7ae6a470-fc85-43c4-aa31-ffa22f3eb94c",
   "metadata": {},
   "source": [
    "## Input Sequential Data 구성\n",
    "- X: 50일치 데이터(ex:1일 ~ 50일), y: 51일째 주가. (ex: 51일)\n",
    "    - 50일의 연속된 주식데이터를 학습하여 51일째 주가를 예측한다.\n",
    "    - X의 한개의 데이터가 50일치 주가데이터가 된다."
   ]
  },
  {
   "cell_type": "markdown",
   "id": "d0f7da27-56d2-464f-b1ce-ae0a26259caf",
   "metadata": {},
   "source": [
    "![img](figures/rnn/20_stock_dataset.png)\n",
    "\n",
    "[연속된 날짜가 5인 경우]"
   ]
  },
  {
   "cell_type": "code",
   "execution_count": 47,
   "id": "4d522d20-0421-4641-a199-0a97ea238e6c",
   "metadata": {},
   "outputs": [
    {
     "data": {
      "text/plain": [
       "6072"
      ]
     },
     "execution_count": 47,
     "metadata": {},
     "output_type": "execute_result"
    }
   ],
   "source": [
    "y.size - 50"
   ]
  },
  {
   "cell_type": "code",
   "execution_count": 49,
   "id": "7e3767fc-165d-4f95-955d-a9b05e27aa96",
   "metadata": {},
   "outputs": [],
   "source": [
    "time_steps = 50  # seq_length. 몇일 치를 하나로 묶어서 X(input)을 만들지.\n",
    "data_X = []   #input data들을 모을 리스트. X 1개 shape [time_steps, 5]\n",
    "data_y = []   # output data을 모을 리스트\n",
    "\n",
    "for idx in range(0, y.size - time_steps): # 행이 51행 이 남을 때까지 반복.\n",
    "    # X1: 0 ~ 50-1, y1: 50\n",
    "    # X2: 1 ~ 51-1, y2: 51\n",
    "    # X3: 2 ~ 52-1, y3: 52\n",
    "    ### idx: 시작 index \n",
    "    _X = X[idx : time_steps+idx]\n",
    "    _y = y[time_steps+idx]\n",
    "    data_X.append(_X)\n",
    "    data_y.append(_y)"
   ]
  },
  {
   "cell_type": "code",
   "execution_count": 52,
   "id": "36bd9ea7-0127-4d9b-b4a4-cc6f4e0f36df",
   "metadata": {},
   "outputs": [
    {
     "data": {
      "text/plain": [
       "((6072, 50, 5), (6072, 1))"
      ]
     },
     "execution_count": 52,
     "metadata": {},
     "output_type": "execute_result"
    }
   ],
   "source": [
    "print(np.shape(data_X))  # (data개수-batch,  seq_length,  features수-input_size)\n",
    "np.shape(data_y)"
   ]
  },
  {
   "cell_type": "code",
   "execution_count": 53,
   "id": "4a840325-5419-47ec-86c3-ba901f59ffc4",
   "metadata": {
    "scrolled": true
   },
   "outputs": [
    {
     "data": {
      "text/plain": [
       "array([[-0.99007851, -0.98965518, -1.00112858, -0.98571511,  3.51992614],\n",
       "       [-0.99894601, -0.99185497, -1.00738983, -1.00923676,  3.55212512],\n",
       "       [-1.00116289, -1.00417382, -1.00470644, -1.00746154,  2.20507915],\n",
       "       [-1.00958702, -1.00901336, -1.01454554, -1.01101197,  1.26998095],\n",
       "       [-1.00781352, -1.00461378, -1.00470644, -1.00080447,  1.70649289],\n",
       "       [-0.99805926, -0.99009514, -0.99620903, -1.00080447,  2.56059572],\n",
       "       [-1.00737014, -1.00593365, -1.00381197, -1.00302349,  0.5340517 ],\n",
       "       [-1.00781352, -1.00593365, -1.0056009 , -1.00346729,  1.32873579],\n",
       "       [-1.00249302, -0.99977423, -1.00023412, -0.99814164,  1.87213506],\n",
       "       [-0.99007851, -0.98657547, -0.98950056, -0.98615891,  2.8102208 ],\n",
       "       [-0.98298451, -0.98745538, -0.98681716, -0.98615891,  1.59894166],\n",
       "       [-0.99007851, -0.99273489, -0.98771163, -0.99237218,  1.26334199],\n",
       "       [-0.99628576, -0.99273489, -0.99397287, -0.98882174,  1.0714759 ],\n",
       "       [-0.99229539, -0.99537464, -0.99128948, -0.99592261,  0.75413338],\n",
       "       [-0.99894601, -0.99889431, -0.99933966, -1.0039111 ,  0.87496254],\n",
       "       [-1.01136052, -1.01033324, -1.01096768, -1.01545002,  1.53188812],\n",
       "       [-1.01224727, -1.01561274, -1.01230938, -1.0136748 ,  0.53836702],\n",
       "       [-1.01313402, -1.01121316, -1.01141492, -1.01189958,  0.44641736],\n",
       "       [-1.00604002, -0.99977423, -1.00649537, -0.99858544,  1.13786555],\n",
       "       [-1.00604002, -1.00637361, -1.0056009 , -1.00923676,  1.22516794],\n",
       "       [-1.00781352, -1.0085734 , -1.01901786, -1.02077568,  3.33901435],\n",
       "       [-1.02466178, -1.02221212, -1.02572633, -1.02388231,  2.85005459],\n",
       "       [-1.02333165, -1.0182525 , -1.03198758, -1.02920797,  8.07226434],\n",
       "       [-1.02865215, -1.03277113, -1.02483187, -1.02920797, -1.40585383],\n",
       "       [-1.02820878, -1.02397196, -1.02885696, -1.02432612,  2.85237823],\n",
       "       [-1.01934127, -1.01737258, -1.0167817 , -1.01589383,  2.47528502],\n",
       "       [-1.00958702, -1.00681357, -1.00917876, -1.00302349,  1.98333773],\n",
       "       [-1.00515327, -0.99977423, -1.00381197, -1.00124827,  2.70001398],\n",
       "       [-0.99185201, -0.99625456, -1.00023412, -1.0039111 ,  0.89521139],\n",
       "       [-1.00781352, -1.00945332, -1.01544   , -1.01811285,  1.52458525],\n",
       "       [-1.01756777, -1.02001233, -1.02438464, -1.02610134,  1.13786555],\n",
       "       [-1.02643528, -1.02969142, -1.04048498, -1.03497743,  3.44822532],\n",
       "       [-1.03707628, -1.03409101, -1.03467097, -1.03142699,  2.92175541],\n",
       "       [-1.01801115, -1.0107732 , -1.02349017, -1.02166329,  5.81402045],\n",
       "       [-1.02554853, -1.02705167, -1.02930419, -1.0318708 ,  0.35247601],\n",
       "       [-1.03441603, -1.02793159, -1.03064588, -1.02965177,  0.19944787],\n",
       "       [-1.02466178, -1.02705167, -1.02617357, -1.02876416,  0.43446722],\n",
       "       [-1.02909553, -1.02793159, -1.02796249, -1.0318708 ,  0.32525625],\n",
       "       [-1.03086903, -1.03189122, -1.03154035, -1.02965177,  0.44475762],\n",
       "       [-1.03441603, -1.0362908 , -1.03959052, -1.04385353,  0.59513017],\n",
       "       [-1.03884978, -1.03233118, -1.03780159, -1.02965177,  2.03445775],\n",
       "       [-1.02909553, -1.03321109, -1.0252791 , -1.02965177, -1.40585383],\n",
       "       [-0.99539901, -0.99977423, -1.00738983, -0.99592261,  6.41152729],\n",
       "       [-0.98121101, -0.98349576, -0.99128948, -0.99059696,  7.95442272],\n",
       "       [-0.99007851, -0.99229493, -1.00381197, -1.00657393,  1.19330091],\n",
       "       [-1.00781352, -1.01033324, -1.00917876, -1.00746154,  0.5904829 ],\n",
       "       [-1.01136052, -0.99449472, -1.00828429, -0.99414739,  0.74915416],\n",
       "       [-0.99140864, -0.99537464, -1.00291751, -1.00746154,  2.30466362],\n",
       "       [-0.99938939, -1.0032939 , -1.00738983, -1.01101197,  0.49322206],\n",
       "       [-1.01313402, -1.01693262, -1.02349017, -1.02698895,  0.73288869]])"
      ]
     },
     "execution_count": 53,
     "metadata": {},
     "output_type": "execute_result"
    }
   ],
   "source": [
    "data_X[0]"
   ]
  },
  {
   "cell_type": "code",
   "execution_count": 58,
   "id": "f676049a-a8e5-4bc1-80d5-a41f920c6b46",
   "metadata": {},
   "outputs": [
    {
     "data": {
      "text/plain": [
       "array([0.02809562])"
      ]
     },
     "execution_count": 58,
     "metadata": {},
     "output_type": "execute_result"
    }
   ],
   "source": [
    "data_y[0]\n",
    "# y_scaler.inverse_transform([data_y[0]])"
   ]
  },
  {
   "cell_type": "markdown",
   "id": "2e862a63-bc02-4137-bee0-f83a5edfe462",
   "metadata": {},
   "source": [
    "## Train / test set 분리"
   ]
  },
  {
   "cell_type": "code",
   "execution_count": 62,
   "id": "91eefb87-2792-4beb-92f6-1873de6a6cc7",
   "metadata": {},
   "outputs": [],
   "source": [
    "X_train, X_test, y_train, y_test = train_test_split(data_X, data_y, test_size=0.2)"
   ]
  },
  {
   "cell_type": "code",
   "execution_count": 64,
   "id": "1295557f-f8db-42ea-9d6f-817c137b577a",
   "metadata": {},
   "outputs": [
    {
     "data": {
      "text/plain": [
       "((4857, 50, 5), (1215, 50, 5))"
      ]
     },
     "execution_count": 64,
     "metadata": {},
     "output_type": "execute_result"
    }
   ],
   "source": [
    "np.shape(X_train), np.shape(X_test)"
   ]
  },
  {
   "cell_type": "markdown",
   "id": "de4fb806-4921-4bed-82ca-6aa1dfb4270a",
   "metadata": {},
   "source": [
    "## Dataset, DataLoader 구성"
   ]
  },
  {
   "cell_type": "code",
   "execution_count": 65,
   "id": "9ec8de07-6b8a-4566-9421-72ab9391e848",
   "metadata": {},
   "outputs": [],
   "source": [
    "# 메모리있는 torch.Tensor를 Dataset으로 만들때 -> TensorDataset\n",
    "### 1. ndarray -> torch.Tensor\n",
    "X_train_tensor = torch.tensor(np.array(X_train), dtype=torch.float32)\n",
    "X_test_tensor = torch.tensor(np.array(X_test), dtype=torch.float32)\n",
    "y_train_tensor = torch.tensor(np.array(y_train), dtype=torch.float32)\n",
    "y_test_tensor = torch.tensor(np.array(y_test), dtype=torch.float32)"
   ]
  },
  {
   "cell_type": "code",
   "execution_count": 66,
   "id": "02036227-a4b1-42cb-af5e-87446c978ce9",
   "metadata": {},
   "outputs": [
    {
     "data": {
      "text/plain": [
       "(4857, 1215)"
      ]
     },
     "execution_count": 66,
     "metadata": {},
     "output_type": "execute_result"
    }
   ],
   "source": [
    "#Dataset 생성\n",
    "train_set = TensorDataset(X_train_tensor, y_train_tensor)\n",
    "test_set = TensorDataset(X_test_tensor, y_test_tensor)\n",
    "\n",
    "# 데이터개수 확인\n",
    "len(train_set), len(test_set)"
   ]
  },
  {
   "cell_type": "code",
   "execution_count": 67,
   "id": "93b41ea2-2b39-4f84-b2c0-b8cb819b25e6",
   "metadata": {},
   "outputs": [
    {
     "data": {
      "text/plain": [
       "(24, 7)"
      ]
     },
     "execution_count": 67,
     "metadata": {},
     "output_type": "execute_result"
    }
   ],
   "source": [
    "# DataLoader 생성\n",
    "train_loader = DataLoader(train_set, batch_size=200, shuffle=True, drop_last=True)\n",
    "test_loader = DataLoader(test_set, batch_size=200)\n",
    "\n",
    "# 에폭당 step수\n",
    "len(train_loader), len(test_loader)"
   ]
  },
  {
   "cell_type": "code",
   "execution_count": 92,
   "id": "14fe508d-f4e2-47d2-8a98-ee5a776abf3f",
   "metadata": {},
   "outputs": [
    {
     "name": "stdout",
     "output_type": "stream",
     "text": [
      "torch.Size([200, 50, 5]) torch.Size([200, 1])\n"
     ]
    }
   ],
   "source": [
    "################# 테스트 ##################\n",
    "x, y = next(iter(train_loader))  # 한 배치 조회\n",
    "print(x.shape, y.shape)"
   ]
  },
  {
   "cell_type": "code",
   "execution_count": 93,
   "id": "aa84b763-183d-4366-8c1a-826fbfa51814",
   "metadata": {},
   "outputs": [],
   "source": [
    "### LSTM Layer 에 입력\n",
    "a = nn.LSTM(input_size=5, hidden_size=10, num_layers=1, bidirectional=True) #batch_first=False : 입력 (seq_len, batch, feature)\n",
    "x = x.permute(1, 0, 2)\n",
    "o1, (h1, c1) = a(x)"
   ]
  },
  {
   "cell_type": "code",
   "execution_count": 82,
   "id": "e6f3491b-d49d-4255-86cb-8ad31ef9a96d",
   "metadata": {},
   "outputs": [
    {
     "name": "stdout",
     "output_type": "stream",
     "text": [
      "torch.Size([50, 200, 20])\n"
     ]
    }
   ],
   "source": [
    "print(o1.shape)  # 200->50: seq_length, 50->200: batch, 10: hidden_state개수"
   ]
  },
  {
   "cell_type": "code",
   "execution_count": 83,
   "id": "df13a441-8059-4940-9818-d9e18248f3af",
   "metadata": {},
   "outputs": [
    {
     "name": "stdout",
     "output_type": "stream",
     "text": [
      "torch.Size([2, 200, 10])\n"
     ]
    }
   ],
   "source": [
    "print(h1.shape) # 마지막 시점(time step) hidden state (1*양방향(2)*layer수, batch, hidden_size)"
   ]
  },
  {
   "cell_type": "code",
   "execution_count": 84,
   "id": "b8af3b32-f57f-4ea8-a90d-2c524043f37e",
   "metadata": {},
   "outputs": [
    {
     "name": "stdout",
     "output_type": "stream",
     "text": [
      "torch.Size([2, 200, 10])\n"
     ]
    }
   ],
   "source": [
    "print(c1.shape)"
   ]
  },
  {
   "cell_type": "code",
   "execution_count": 96,
   "id": "7bf4a8b7-f833-4535-b0f2-093b4724eea3",
   "metadata": {
    "collapsed": true,
    "jupyter": {
     "outputs_hidden": true
    }
   },
   "outputs": [
    {
     "data": {
      "text/plain": [
       "tensor([[[ 1.1334e-01],\n",
       "         [ 1.6159e-02],\n",
       "         [ 9.9562e-03],\n",
       "         [ 7.1878e-03],\n",
       "         [ 4.6831e-02],\n",
       "         [-1.4433e-02],\n",
       "         [-9.2685e-05],\n",
       "         [-7.2210e-03],\n",
       "         [-1.2359e-02],\n",
       "         [-9.2408e-03],\n",
       "         [ 1.2247e-01],\n",
       "         [-7.9339e-03],\n",
       "         [ 6.1760e-02],\n",
       "         [ 4.5215e-02],\n",
       "         [ 5.2282e-02],\n",
       "         [-1.9956e-04],\n",
       "         [ 2.1049e-04],\n",
       "         [ 8.4394e-02],\n",
       "         [-4.0778e-03],\n",
       "         [ 4.0183e-02],\n",
       "         [ 1.2405e-01],\n",
       "         [ 1.0306e-01],\n",
       "         [ 2.0993e-02],\n",
       "         [ 9.4145e-02],\n",
       "         [ 4.0804e-02],\n",
       "         [ 9.4189e-02],\n",
       "         [-1.6689e-02],\n",
       "         [-8.9063e-03],\n",
       "         [ 3.7374e-02],\n",
       "         [-1.7950e-02],\n",
       "         [ 1.0662e-01],\n",
       "         [ 3.6316e-02],\n",
       "         [-8.7883e-03],\n",
       "         [ 1.1946e-01],\n",
       "         [ 1.1044e-01],\n",
       "         [ 9.1873e-02],\n",
       "         [-5.1382e-02],\n",
       "         [ 5.0368e-02],\n",
       "         [ 1.6995e-02],\n",
       "         [ 9.8671e-03],\n",
       "         [-5.8143e-03],\n",
       "         [ 1.1142e-01],\n",
       "         [-2.7604e-02],\n",
       "         [ 4.2381e-02],\n",
       "         [ 4.6115e-03],\n",
       "         [-7.1911e-03],\n",
       "         [ 3.3965e-02],\n",
       "         [-3.0017e-02],\n",
       "         [ 7.9449e-02],\n",
       "         [ 1.2833e-01],\n",
       "         [ 1.2724e-01],\n",
       "         [ 1.0473e-01],\n",
       "         [ 4.2355e-02],\n",
       "         [-1.1870e-02],\n",
       "         [ 1.2796e-01],\n",
       "         [-4.3483e-02],\n",
       "         [-3.0077e-02],\n",
       "         [-4.2732e-03],\n",
       "         [ 8.3667e-02],\n",
       "         [ 5.2584e-03],\n",
       "         [-2.1519e-03],\n",
       "         [ 1.7486e-02],\n",
       "         [ 6.5976e-03],\n",
       "         [ 4.7726e-02],\n",
       "         [ 1.0952e-01],\n",
       "         [ 1.1532e-01],\n",
       "         [ 6.0029e-05],\n",
       "         [-4.4778e-03],\n",
       "         [-2.8769e-02],\n",
       "         [ 2.0648e-02],\n",
       "         [-8.6465e-03],\n",
       "         [-4.1197e-03],\n",
       "         [ 4.1545e-02],\n",
       "         [-3.7245e-03],\n",
       "         [-2.2266e-03],\n",
       "         [ 8.6419e-02],\n",
       "         [ 2.3417e-02],\n",
       "         [-4.0741e-03],\n",
       "         [-9.1755e-03],\n",
       "         [-6.0394e-03],\n",
       "         [ 1.2629e-01],\n",
       "         [ 1.2297e-01],\n",
       "         [ 1.2826e-01],\n",
       "         [ 8.6508e-02],\n",
       "         [-1.2861e-02],\n",
       "         [ 5.5914e-02],\n",
       "         [ 4.4489e-03],\n",
       "         [ 4.1815e-02],\n",
       "         [ 3.0707e-03],\n",
       "         [-2.2306e-02],\n",
       "         [-2.0009e-03],\n",
       "         [ 4.9227e-02],\n",
       "         [-4.1897e-02],\n",
       "         [ 1.2200e-01],\n",
       "         [-1.5866e-02],\n",
       "         [ 1.2209e-01],\n",
       "         [ 1.0282e-01],\n",
       "         [-6.8681e-03],\n",
       "         [ 8.9706e-02],\n",
       "         [ 9.9203e-02],\n",
       "         [-3.1067e-02],\n",
       "         [ 2.8463e-02],\n",
       "         [-1.0806e-02],\n",
       "         [ 1.1738e-01],\n",
       "         [ 4.7825e-02],\n",
       "         [ 4.1213e-02],\n",
       "         [ 4.9399e-02],\n",
       "         [ 1.1145e-01],\n",
       "         [ 1.1927e-01],\n",
       "         [-1.4911e-02],\n",
       "         [-8.4735e-02],\n",
       "         [ 8.9487e-02],\n",
       "         [-5.0674e-03],\n",
       "         [ 9.1445e-02],\n",
       "         [-1.1085e-02],\n",
       "         [-2.4573e-02],\n",
       "         [ 9.2473e-02],\n",
       "         [ 4.6836e-02],\n",
       "         [-1.6645e-03],\n",
       "         [-1.3012e-04],\n",
       "         [ 1.1092e-01],\n",
       "         [ 1.1187e-02],\n",
       "         [ 1.1820e-01],\n",
       "         [-3.3913e-02],\n",
       "         [ 9.2804e-02],\n",
       "         [ 1.2667e-01],\n",
       "         [ 1.0473e-01],\n",
       "         [-3.9943e-03],\n",
       "         [-5.6214e-03],\n",
       "         [-2.3182e-02],\n",
       "         [ 3.7312e-02],\n",
       "         [-4.1994e-03],\n",
       "         [ 3.5351e-03],\n",
       "         [ 8.5935e-02],\n",
       "         [ 2.8742e-02],\n",
       "         [ 2.7741e-02],\n",
       "         [-1.2059e-02],\n",
       "         [ 5.3358e-03],\n",
       "         [ 1.1946e-01],\n",
       "         [ 1.2352e-01],\n",
       "         [-1.4180e-03],\n",
       "         [-6.5915e-03],\n",
       "         [ 4.2004e-02],\n",
       "         [ 8.1078e-04],\n",
       "         [ 1.1093e-01],\n",
       "         [ 8.8227e-02],\n",
       "         [ 1.2809e-01],\n",
       "         [-2.9469e-02],\n",
       "         [-1.5110e-04],\n",
       "         [ 1.1684e-01],\n",
       "         [ 1.0590e-01],\n",
       "         [ 1.2209e-01],\n",
       "         [ 1.1275e-01],\n",
       "         [-2.4066e-02],\n",
       "         [ 1.2452e-01],\n",
       "         [ 3.5918e-02],\n",
       "         [ 3.9386e-03],\n",
       "         [-3.0267e-03],\n",
       "         [ 4.1009e-02],\n",
       "         [ 7.6309e-02],\n",
       "         [ 4.2558e-02],\n",
       "         [ 1.8636e-02],\n",
       "         [-9.8347e-03],\n",
       "         [-2.2425e-02],\n",
       "         [ 7.2929e-02],\n",
       "         [-9.1992e-03],\n",
       "         [-1.3483e-03],\n",
       "         [-6.5771e-03],\n",
       "         [ 8.5555e-02],\n",
       "         [-1.1097e-02],\n",
       "         [-1.9839e-02],\n",
       "         [ 5.7658e-02],\n",
       "         [ 9.2119e-02],\n",
       "         [ 5.4667e-02],\n",
       "         [ 2.1520e-03],\n",
       "         [ 5.7208e-02],\n",
       "         [ 9.7234e-02],\n",
       "         [ 3.1021e-03],\n",
       "         [-8.2016e-03],\n",
       "         [-4.5721e-03],\n",
       "         [ 3.1749e-03],\n",
       "         [-2.8175e-02],\n",
       "         [ 4.3370e-02],\n",
       "         [-9.3634e-03],\n",
       "         [-6.9902e-03],\n",
       "         [ 4.0073e-02],\n",
       "         [ 8.6302e-04],\n",
       "         [ 8.1311e-02],\n",
       "         [ 1.1751e-01],\n",
       "         [ 9.2419e-02],\n",
       "         [-4.0749e-02],\n",
       "         [ 5.9137e-03],\n",
       "         [ 7.1928e-02],\n",
       "         [ 1.2231e-01],\n",
       "         [ 1.2520e-01],\n",
       "         [ 4.0116e-02],\n",
       "         [-8.4055e-03],\n",
       "         [-1.9445e-02],\n",
       "         [ 8.0270e-02],\n",
       "         [ 1.5616e-02]]], grad_fn=<ViewBackward0>)"
      ]
     },
     "execution_count": 96,
     "metadata": {},
     "output_type": "execute_result"
    }
   ],
   "source": [
    "l = nn.Linear(in_features=20, out_features=1)  \n",
    "l(o1[-1:,:])"
   ]
  },
  {
   "cell_type": "markdown",
   "id": "7a3e6cbc-3787-4afd-b670-5ceebef5d207",
   "metadata": {},
   "source": [
    "# 모델 정의\n",
    "LSTM => Linear(추론기) => output(다음날주식가격)"
   ]
  },
  {
   "cell_type": "code",
   "execution_count": 98,
   "id": "7ce130af-7005-43e4-a3a2-87e760bd0942",
   "metadata": {},
   "outputs": [],
   "source": [
    "class StockPriceModel(nn.Module):\n",
    "    def __init__(self, input_size, hidden_size, num_layers, \n",
    "                         bidirectional=False, dropout_rate=0.0):\n",
    "        super().__init__()\n",
    "        ## LSTM, Linear(주가 예측 출력 Layer함수)\n",
    "        \"\"\"\n",
    "        input_size: LSTM input_size, \n",
    "        hidden_size: LSTM hidden_size\n",
    "        num_layers: LSTM stack layer 개수\n",
    "        bidirectional: 양방향 여부\n",
    "        dropout_rate: LSTM의 dropout 비율.\n",
    "        \"\"\"\n",
    "        self.lstm = nn.LSTM(\n",
    "            input_size=input_size,     # X: [seq_len,  batch, input_size]\n",
    "            hidden_size=hidden_size, # 출력값의 shape과 관련.\n",
    "            num_layers=num_layers,\n",
    "            bidirectional=bidirectional,\n",
    "            dropout=dropout_rate\n",
    "        )\n",
    "        # o, (h, c) = lstm(x)   # 마지막 시점 처리결과 => Linear\n",
    "        # o의 마지막 time step 것을 사용. o[-1, :, :] => [batch, hidden * 단:1, 양:2]\n",
    "        D = 2 if bidirectional else 1\n",
    "        self.dropout = nn.Dropout(dropout_rate)\n",
    "        self.output = nn.Linear(in_features=hidden_size * D, \n",
    "                                     out_features=1)  # 출력: 주식가격 1개.\n",
    "        self.sigmoid = nn.Sigmoid()  # y가 0 ~ 1(minmax scaling) 범위이므로 sigmoid로 범위를 맞춘다.\n",
    "\n",
    "    def forward(self, X):\n",
    "        # Layer 흐름 처리.\n",
    "        # X -> lstm -마지막 시점(timestep) 처리결과-> output\n",
    "        # X shape: (batch_size, seq_len, input_size) -lstm입력 shape변경->bach_size<->seq_len\n",
    "        X = X.permute(1, 0, 2)\n",
    "        out, (hidden, cell) = self.lstm(X)  # out: [seq_len, batch_size, hidden * D]\n",
    "        last_out = out[-1, :, :] # (50, 200, hidden*2)  -> (200, hidden*2)\n",
    "        last_out = self.dropout(last_out)\n",
    "        last_out = self.output(last_out)  # W*last_out + b\n",
    "        last_out = self.sigmoid(last_out)  # 0 ~ 1 값 1개 \n",
    "        return last_out"
   ]
  },
  {
   "cell_type": "code",
   "execution_count": 99,
   "id": "a76bf0d8-8b2d-4ddd-841d-0bd62b313c6d",
   "metadata": {},
   "outputs": [
    {
     "data": {
      "text/plain": [
       "torch.Size([200, 1])"
      ]
     },
     "execution_count": 99,
     "metadata": {},
     "output_type": "execute_result"
    }
   ],
   "source": [
    "sample_model = StockPriceModel(5, 50, 2, True, 0.2)\n",
    "a, b = next(iter(train_loader))\n",
    "c = sample_model(a)\n",
    "c.shape"
   ]
  },
  {
   "cell_type": "code",
   "execution_count": 100,
   "id": "4c68cd69-9a88-452a-91b2-c0ab3c8b57af",
   "metadata": {},
   "outputs": [],
   "source": [
    "# torch.square(c - b).mean()"
   ]
  },
  {
   "cell_type": "code",
   "execution_count": 103,
   "id": "98385c03-c3c6-4d7e-aa1e-9f1bd3b26798",
   "metadata": {
    "collapsed": true,
    "jupyter": {
     "outputs_hidden": true
    },
    "scrolled": true
   },
   "outputs": [
    {
     "data": {
      "text/plain": [
       "==========================================================================================\n",
       "Layer (type:depth-idx)                   Output Shape              Param #\n",
       "==========================================================================================\n",
       "StockPriceModel                          [200, 1]                  --\n",
       "├─LSTM: 1-1                              [50, 200, 100]            83,600\n",
       "├─Dropout: 1-2                           [200, 100]                --\n",
       "├─Linear: 1-3                            [200, 1]                  101\n",
       "├─Sigmoid: 1-4                           [200, 1]                  --\n",
       "==========================================================================================\n",
       "Total params: 83,701\n",
       "Trainable params: 83,701\n",
       "Non-trainable params: 0\n",
       "Total mult-adds (Units.MEGABYTES): 836.02\n",
       "==========================================================================================\n",
       "Input size (MB): 0.20\n",
       "Forward/backward pass size (MB): 8.00\n",
       "Params size (MB): 0.33\n",
       "Estimated Total Size (MB): 8.54\n",
       "=========================================================================================="
      ]
     },
     "execution_count": 103,
     "metadata": {},
     "output_type": "execute_result"
    }
   ],
   "source": [
    "torchinfo.summary(sample_model, (200, 50, 5))"
   ]
  },
  {
   "cell_type": "markdown",
   "id": "0d160366-9d68-4adc-89cd-841bbb84ce2f",
   "metadata": {},
   "source": [
    "### train"
   ]
  },
  {
   "cell_type": "code",
   "execution_count": 106,
   "id": "ddd42971-7f5a-4569-a1c5-050c93b686af",
   "metadata": {},
   "outputs": [],
   "source": [
    "# 하이퍼파라미터\n",
    "EPOCHS = 100\n",
    "LR = 0.0001\n",
    "\n",
    "INPUT_SIZE = 5\n",
    "HIDDEN_SIZE = 30\n",
    "NUM_LAYERS = 1\n",
    "BIDIRECTIONAL = True\n",
    "DROPOUT_RATE = 0.2\n",
    "# 모델 생성\n",
    "model = StockPriceModel(\n",
    "    input_size=INPUT_SIZE, hidden_size=HIDDEN_SIZE,\n",
    "    num_layers=NUM_LAYERS, bidirectional=BIDIRECTIONAL, \n",
    "    dropout_rate=DROPOUT_RATE\n",
    ")\n",
    "model = model.to(device)\n",
    "\n",
    "# Optimizer\n",
    "optimizer = torch.optim.Adam(model.parameters(), lr=LR) # 회귀: RMSprop()\n",
    "# loss 함수 - 회귀 : MSE\n",
    "loss_fn = nn.MSELoss()\n"
   ]
  },
  {
   "cell_type": "code",
   "execution_count": 107,
   "id": "a8000e11-4e71-4771-bb6e-aeca77ae28ec",
   "metadata": {},
   "outputs": [
    {
     "name": "stdout",
     "output_type": "stream",
     "text": [
      "[1/100] train loss: 0.10242029745131731, validation loss: 0.10089500567742757\n",
      "[11/100] train loss: 0.034974180006732546, validation loss: 0.0288802015462092\n",
      "[21/100] train loss: 0.00632212085959812, validation loss: 0.005394279358110258\n",
      "[31/100] train loss: 0.0033581403355735042, validation loss: 0.0026848701859957407\n",
      "[41/100] train loss: 0.0017574866263506312, validation loss: 0.0012316480112661207\n",
      "[51/100] train loss: 0.0011382010125089437, validation loss: 0.000668877174445827\n",
      "[61/100] train loss: 0.0008564630552427843, validation loss: 0.0004524742066028661\n",
      "[71/100] train loss: 0.0007322882399118195, validation loss: 0.0003251341903316123\n",
      "[81/100] train loss: 0.000617283799025851, validation loss: 0.0002533595647297001\n",
      "[91/100] train loss: 0.000574664900341304, validation loss: 0.00021843561574184735\n",
      "[100/100] train loss: 0.0005384110445447732, validation loss: 0.00019269799564166794\n"
     ]
    }
   ],
   "source": [
    "##### 학습 (train)\n",
    "train_loss_list = []\n",
    "test_loss_list = []\n",
    "for epoch in range(EPOCHS):\n",
    "    ########## 학습 ##########\n",
    "    model.train()\n",
    "    train_loss = 0.0\n",
    "    for X, y in train_loader:\n",
    "        X, y = X.to(device), y.to(device)\n",
    "        pred = model(X)\n",
    "        loss = loss_fn(pred, y)\n",
    "        loss.backward()\n",
    "        optimizer.step()\n",
    "        optimizer.zero_grad()\n",
    "        train_loss += loss.item()\n",
    "    train_loss = train_loss / len(train_loader)\n",
    "    train_loss_list.append(train_loss)  # 한 epoch train loss저장.\n",
    "\n",
    "    ##########검증################\n",
    "    model.eval()\n",
    "    test_loss = 0.0\n",
    "    for X_test, y_test in test_loader:\n",
    "        X_test, y_test = X_test.to(device), y_test.to(device)\n",
    "        with torch.no_grad():\n",
    "            pred_test = model(X_test)\n",
    "            loss_test = loss_fn(pred_test, y_test)\n",
    "            test_loss += loss_test.item()\n",
    "    test_loss = test_loss / len(test_loader)\n",
    "    test_loss_list.append(test_loss)\n",
    "    ## 1 에폭 학습+검증 완료 -> 로그 출력\n",
    "    if epoch % 10 == 0 or epoch == EPOCHS-1: # 10번 한번, 마지막 epoch\n",
    "        print(f\"[{epoch+1}/{EPOCHS}] train loss: {train_loss}, validation loss: {test_loss}\")"
   ]
  },
  {
   "cell_type": "markdown",
   "id": "aa70bd52-4cce-4a13-9bbc-13ffdb159577",
   "metadata": {},
   "source": [
    "# 마지막 데이터로 다음날 주식가격 추론"
   ]
  },
  {
   "cell_type": "code",
   "execution_count": 110,
   "id": "55541a1c-933c-46e8-aa2e-ce74a2966eb4",
   "metadata": {},
   "outputs": [
    {
     "data": {
      "text/plain": [
       "(50, 5)"
      ]
     },
     "execution_count": 110,
     "metadata": {},
     "output_type": "execute_result"
    }
   ],
   "source": [
    "np.shape(data_X)\n",
    "np.shape(data_X[-1])  # 가장 마지막 seq data ( ~ 2024.6.5) ==> 이용해서 추론."
   ]
  },
  {
   "cell_type": "code",
   "execution_count": 111,
   "id": "0d2f4ec5-63a5-47f8-8be9-ff4f0b3f5d8b",
   "metadata": {},
   "outputs": [
    {
     "data": {
      "text/plain": [
       "numpy.ndarray"
      ]
     },
     "execution_count": 111,
     "metadata": {},
     "output_type": "execute_result"
    }
   ],
   "source": [
    "type(data_X[-1])"
   ]
  },
  {
   "cell_type": "code",
   "execution_count": null,
   "id": "cdef9a50-d056-497d-87d7-b1ca1c1ccfa9",
   "metadata": {},
   "outputs": [],
   "source": [
    "### 50일치 주가 정보를 수집\n",
    "### Standard Scaling 해서 입력 데이터로 만들어야 한다."
   ]
  },
  {
   "cell_type": "code",
   "execution_count": 114,
   "id": "62efe9bf-2389-4a79-b853-c0ef043e64af",
   "metadata": {},
   "outputs": [
    {
     "data": {
      "text/plain": [
       "torch.Size([1, 50, 5])"
      ]
     },
     "execution_count": 114,
     "metadata": {},
     "output_type": "execute_result"
    }
   ],
   "source": [
    "new_X = torch.tensor(data_X[-1], dtype=torch.float32).unsqueeze(dim=0)\n",
    "new_X.shape"
   ]
  },
  {
   "cell_type": "code",
   "execution_count": 115,
   "id": "e5413bf1-57e1-4c54-b8dc-6b2cbd3fc497",
   "metadata": {},
   "outputs": [
    {
     "name": "stdout",
     "output_type": "stream",
     "text": [
      "tensor([[0.8424]])\n"
     ]
    }
   ],
   "source": [
    "with torch.no_grad():\n",
    "    pred = model(new_X)\n",
    "print(pred)"
   ]
  },
  {
   "cell_type": "code",
   "execution_count": 116,
   "id": "25756c3f-3240-4638-b6ef-7e63258300ca",
   "metadata": {},
   "outputs": [
    {
     "data": {
      "text/plain": [
       "array([[77085.48722863]])"
      ]
     },
     "execution_count": 116,
     "metadata": {},
     "output_type": "execute_result"
    }
   ],
   "source": [
    "y_scaler.inverse_transform(pred)"
   ]
  },
  {
   "cell_type": "code",
   "execution_count": null,
   "id": "0b9ced6c-2409-487f-9758-2e411f4f3203",
   "metadata": {},
   "outputs": [],
   "source": []
  },
  {
   "cell_type": "code",
   "execution_count": null,
   "id": "dfcc6b15-1b3f-4f17-ac4d-627858b4ba88",
   "metadata": {},
   "outputs": [],
   "source": []
  }
 ],
 "metadata": {
  "kernelspec": {
   "display_name": "Python 3 (ipykernel)",
   "language": "python",
   "name": "python3"
  },
  "language_info": {
   "codemirror_mode": {
    "name": "ipython",
    "version": 3
   },
   "file_extension": ".py",
   "mimetype": "text/x-python",
   "name": "python",
   "nbconvert_exporter": "python",
   "pygments_lexer": "ipython3",
   "version": "3.11.8"
  }
 },
 "nbformat": 4,
 "nbformat_minor": 5
}
