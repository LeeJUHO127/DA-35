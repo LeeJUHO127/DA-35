{
 "cells": [
  {
   "cell_type": "markdown",
   "id": "77361208-e64e-40cd-a31d-33bf46b81922",
   "metadata": {},
   "source": [
    "# Pose estimation\n",
    "\n",
    "- model: yolov8?-pose\n",
    "\n",
    "## 추론결과\n",
    "- YOLO Pose는 사람의 주요 관절의 위치 **keypoint 정보**와 사람의 **bounding box** 를 추론한다.\n",
    "    - keypoints는 Results.keypoints 속성으로 조회한다.\n",
    "    - bounding box 결과는 Results.boxes 속성으로 조회한다.\n",
    "- `ultralytics.engine.results.Keypoints`\n",
    "    - Keypoint 추론 결과 타입 class.\n",
    "    - https://docs.ultralytics.com/reference/engine/results/#ultralytics.engine.results.Keypoints\n",
    "- Keypoints 속성\n",
    "    - **xy:** 각 keypoint 들의 좌표. (사람수, 17:keypoints, 2:좌표)\n",
    "    - **xyn:** 각 keypoint 들의 normalize 된 좌표. (이미지 크기 대비 비율)\n",
    "    - **conf:** 각 keypoint들의 confidence score. (batch, 17)"
   ]
  },
  {
   "cell_type": "markdown",
   "id": "bd7aa813-947f-42f9-bd28-b5c0a79823fb",
   "metadata": {},
   "source": [
    "# Keypoints\n",
    "\n",
    "![keypoints](https://learnopencv.com/wp-content/uploads/2021/05/fix-overlay-issue.jpg)\n",
    "<br><center>\\<source\\>: https://learnopencv.com/wp-content/uploads/2021/05/fix-overlay-issue.jpg</center>"
   ]
  },
  {
   "cell_type": "code",
   "execution_count": 1,
   "id": "3ee6403d-35fa-42f7-afc3-11b56cad6754",
   "metadata": {
    "ExecuteTime": {
     "end_time": "2023-11-07T16:40:24.086166Z",
     "start_time": "2023-11-07T16:40:24.080344Z"
    },
    "tags": []
   },
   "outputs": [],
   "source": [
    "idx2keypoints = [\"코\", \"왼쪽 눈\", \"오른쪽 눈\", \"왼쪽 귀\", \"오른쪽 귀\", \"왼쪽 어깨\", \"오른쪽 어깨\", \"왼쪽 팔꿈치\", \"오른쪽 팔꿈치\", \"왼쪽 손목\", \"오른쪽 손목\", \"왼쪽 힙\", \"오른쪽 힙\", \"왼쪽 무릎\", \"오른쪽 무릎\", \"왼쪽 발목\", \"오른쪽 발목\", ]"
   ]
  },
  {
   "cell_type": "code",
   "execution_count": null,
   "id": "e22c099e",
   "metadata": {},
   "outputs": [],
   "source": []
  },
  {
   "cell_type": "code",
   "execution_count": null,
   "id": "af6b1596",
   "metadata": {},
   "outputs": [],
   "source": []
  },
  {
   "cell_type": "code",
   "execution_count": null,
   "id": "0537d97e",
   "metadata": {},
   "outputs": [],
   "source": []
  }
 ],
 "metadata": {
  "kernelspec": {
   "display_name": "Python 3 (ipykernel)",
   "language": "python",
   "name": "python3"
  },
  "language_info": {
   "codemirror_mode": {
    "name": "ipython",
    "version": 3
   },
   "file_extension": ".py",
   "mimetype": "text/x-python",
   "name": "python",
   "nbconvert_exporter": "python",
   "pygments_lexer": "ipython3",
   "version": "3.11.4"
  },
  "toc": {
   "base_numbering": 1,
   "nav_menu": {},
   "number_sections": true,
   "sideBar": true,
   "skip_h1_title": false,
   "title_cell": "Table of Contents",
   "title_sidebar": "Contents",
   "toc_cell": false,
   "toc_position": {},
   "toc_section_display": true,
   "toc_window_display": false
  },
  "varInspector": {
   "cols": {
    "lenName": 16,
    "lenType": 16,
    "lenVar": 40
   },
   "kernels_config": {
    "python": {
     "delete_cmd_postfix": "",
     "delete_cmd_prefix": "del ",
     "library": "var_list.py",
     "varRefreshCmd": "print(var_dic_list())"
    },
    "r": {
     "delete_cmd_postfix": ") ",
     "delete_cmd_prefix": "rm(",
     "library": "var_list.r",
     "varRefreshCmd": "cat(var_dic_list()) "
    }
   },
   "types_to_exclude": [
    "module",
    "function",
    "builtin_function_or_method",
    "instance",
    "_Feature"
   ],
   "window_display": false
  }
 },
 "nbformat": 4,
 "nbformat_minor": 5
}
